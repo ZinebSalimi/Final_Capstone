{
  "nbformat": 4,
  "nbformat_minor": 0,
  "metadata": {
    "colab": {
      "name": "[Capstone] Data Mining.ipynb",
      "provenance": [],
      "collapsed_sections": [
        "7M9i7-xTMb_l",
        "KsXh7n3ORG9_"
      ]
    },
    "kernelspec": {
      "name": "python3",
      "display_name": "Python 3"
    }
  },
  "cells": [
    {
      "cell_type": "code",
      "metadata": {
        "id": "KtQD4ogJhuku",
        "colab": {
          "base_uri": "https://localhost:8080/",
          "height": 1000
        },
        "outputId": "d5003de4-5694-4710-846f-e357bc62a8d1"
      },
      "source": [
        "!pip install --upgrade git+https://github.com/tweepy/tweepy@master\n",
        "!pip install geopandas\n",
        "!pip install geojson\n",
        "!pip install searchtweets-v2==1.0.7"
      ],
      "execution_count": 2,
      "outputs": [
        {
          "output_type": "stream",
          "text": [
            "Collecting git+https://github.com/tweepy/tweepy@master\n",
            "  Cloning https://github.com/tweepy/tweepy (to revision master) to /tmp/pip-req-build-2_4syvwx\n",
            "  Running command git clone -q https://github.com/tweepy/tweepy /tmp/pip-req-build-2_4syvwx\n",
            "Requirement already satisfied, skipping upgrade: requests<3,>=2.11.1 in /usr/local/lib/python3.7/dist-packages (from tweepy==3.10.0) (2.23.0)\n",
            "Requirement already satisfied, skipping upgrade: requests_oauthlib<2,>=1.0.0 in /usr/local/lib/python3.7/dist-packages (from tweepy==3.10.0) (1.3.0)\n",
            "Requirement already satisfied, skipping upgrade: urllib3!=1.25.0,!=1.25.1,<1.26,>=1.21.1 in /usr/local/lib/python3.7/dist-packages (from requests<3,>=2.11.1->tweepy==3.10.0) (1.24.3)\n",
            "Requirement already satisfied, skipping upgrade: certifi>=2017.4.17 in /usr/local/lib/python3.7/dist-packages (from requests<3,>=2.11.1->tweepy==3.10.0) (2020.12.5)\n",
            "Requirement already satisfied, skipping upgrade: idna<3,>=2.5 in /usr/local/lib/python3.7/dist-packages (from requests<3,>=2.11.1->tweepy==3.10.0) (2.10)\n",
            "Requirement already satisfied, skipping upgrade: chardet<4,>=3.0.2 in /usr/local/lib/python3.7/dist-packages (from requests<3,>=2.11.1->tweepy==3.10.0) (3.0.4)\n",
            "Requirement already satisfied, skipping upgrade: oauthlib>=3.0.0 in /usr/local/lib/python3.7/dist-packages (from requests_oauthlib<2,>=1.0.0->tweepy==3.10.0) (3.1.0)\n",
            "Building wheels for collected packages: tweepy\n",
            "  Building wheel for tweepy (setup.py) ... \u001b[?25l\u001b[?25hdone\n",
            "  Created wheel for tweepy: filename=tweepy-3.10.0-py2.py3-none-any.whl size=26745 sha256=44d8622a94bf8710424edbfcd74155a683a309d5d4f645333affdb5e2fb5670f\n",
            "  Stored in directory: /tmp/pip-ephem-wheel-cache-_8lrtqvr/wheels/12/5f/00/8cd18bd44822e1d48d9374f9db7e7f23e83cbde64e4a358680\n",
            "Successfully built tweepy\n",
            "Installing collected packages: tweepy\n",
            "  Found existing installation: tweepy 3.10.0\n",
            "    Uninstalling tweepy-3.10.0:\n",
            "      Successfully uninstalled tweepy-3.10.0\n",
            "Successfully installed tweepy-3.10.0\n"
          ],
          "name": "stdout"
        },
        {
          "output_type": "display_data",
          "data": {
            "application/vnd.colab-display-data+json": {
              "pip_warning": {
                "packages": [
                  "tweepy"
                ]
              }
            }
          },
          "metadata": {
            "tags": []
          }
        },
        {
          "output_type": "stream",
          "text": [
            "Collecting geopandas\n",
            "\u001b[?25l  Downloading https://files.pythonhosted.org/packages/d7/bf/e9cefb69d39155d122b6ddca53893b61535fa6ffdad70bf5ef708977f53f/geopandas-0.9.0-py2.py3-none-any.whl (994kB)\n",
            "\u001b[K     |████████████████████████████████| 1.0MB 4.3MB/s \n",
            "\u001b[?25hRequirement already satisfied: pandas>=0.24.0 in /usr/local/lib/python3.7/dist-packages (from geopandas) (1.1.5)\n",
            "Requirement already satisfied: shapely>=1.6 in /usr/local/lib/python3.7/dist-packages (from geopandas) (1.7.1)\n",
            "Collecting pyproj>=2.2.0\n",
            "\u001b[?25l  Downloading https://files.pythonhosted.org/packages/b1/72/d52e9ca81caef056062d71991b0e9b1d16af042245627c5d0e4916a36c4f/pyproj-3.0.1-cp37-cp37m-manylinux2010_x86_64.whl (6.5MB)\n",
            "\u001b[K     |████████████████████████████████| 6.5MB 36.4MB/s \n",
            "\u001b[?25hCollecting fiona>=1.8\n",
            "\u001b[?25l  Downloading https://files.pythonhosted.org/packages/47/c2/67d1d0acbaaee3b03e5e22e3b96c33219cb5dd392531c9ff9cee7c2eb3e4/Fiona-1.8.18-cp37-cp37m-manylinux1_x86_64.whl (14.8MB)\n",
            "\u001b[K     |████████████████████████████████| 14.8MB 266kB/s \n",
            "\u001b[?25hRequirement already satisfied: numpy>=1.15.4 in /usr/local/lib/python3.7/dist-packages (from pandas>=0.24.0->geopandas) (1.19.5)\n",
            "Requirement already satisfied: pytz>=2017.2 in /usr/local/lib/python3.7/dist-packages (from pandas>=0.24.0->geopandas) (2018.9)\n",
            "Requirement already satisfied: python-dateutil>=2.7.3 in /usr/local/lib/python3.7/dist-packages (from pandas>=0.24.0->geopandas) (2.8.1)\n",
            "Requirement already satisfied: certifi in /usr/local/lib/python3.7/dist-packages (from pyproj>=2.2.0->geopandas) (2020.12.5)\n",
            "Requirement already satisfied: attrs>=17 in /usr/local/lib/python3.7/dist-packages (from fiona>=1.8->geopandas) (20.3.0)\n",
            "Collecting cligj>=0.5\n",
            "  Downloading https://files.pythonhosted.org/packages/42/1e/947eadf10d6804bf276eb8a038bd5307996dceaaa41cfd21b7a15ec62f5d/cligj-0.7.1-py3-none-any.whl\n",
            "Requirement already satisfied: click<8,>=4.0 in /usr/local/lib/python3.7/dist-packages (from fiona>=1.8->geopandas) (7.1.2)\n",
            "Collecting munch\n",
            "  Downloading https://files.pythonhosted.org/packages/cc/ab/85d8da5c9a45e072301beb37ad7f833cd344e04c817d97e0cc75681d248f/munch-2.5.0-py2.py3-none-any.whl\n",
            "Requirement already satisfied: six>=1.7 in /usr/local/lib/python3.7/dist-packages (from fiona>=1.8->geopandas) (1.15.0)\n",
            "Collecting click-plugins>=1.0\n",
            "  Downloading https://files.pythonhosted.org/packages/e9/da/824b92d9942f4e472702488857914bdd50f73021efea15b4cad9aca8ecef/click_plugins-1.1.1-py2.py3-none-any.whl\n",
            "Installing collected packages: pyproj, cligj, munch, click-plugins, fiona, geopandas\n",
            "Successfully installed click-plugins-1.1.1 cligj-0.7.1 fiona-1.8.18 geopandas-0.9.0 munch-2.5.0 pyproj-3.0.1\n",
            "Collecting geojson\n",
            "  Downloading https://files.pythonhosted.org/packages/e4/8d/9e28e9af95739e6d2d2f8d4bef0b3432da40b7c3588fbad4298c1be09e48/geojson-2.5.0-py2.py3-none-any.whl\n",
            "Installing collected packages: geojson\n",
            "Successfully installed geojson-2.5.0\n",
            "Collecting searchtweets-v2==1.0.7\n",
            "  Downloading https://files.pythonhosted.org/packages/d6/10/39bc8e59d1dd000fdf393ceb534eb681eef07acf77f8af9b12389fd5c9a5/searchtweets_v2-1.0.7-py3-none-any.whl\n",
            "Requirement already satisfied: requests in /usr/local/lib/python3.7/dist-packages (from searchtweets-v2==1.0.7) (2.23.0)\n",
            "Requirement already satisfied: pyyaml in /usr/local/lib/python3.7/dist-packages (from searchtweets-v2==1.0.7) (3.13)\n",
            "Requirement already satisfied: python-dateutil in /usr/local/lib/python3.7/dist-packages (from searchtweets-v2==1.0.7) (2.8.1)\n",
            "Requirement already satisfied: chardet<4,>=3.0.2 in /usr/local/lib/python3.7/dist-packages (from requests->searchtweets-v2==1.0.7) (3.0.4)\n",
            "Requirement already satisfied: urllib3!=1.25.0,!=1.25.1,<1.26,>=1.21.1 in /usr/local/lib/python3.7/dist-packages (from requests->searchtweets-v2==1.0.7) (1.24.3)\n",
            "Requirement already satisfied: idna<3,>=2.5 in /usr/local/lib/python3.7/dist-packages (from requests->searchtweets-v2==1.0.7) (2.10)\n",
            "Requirement already satisfied: certifi>=2017.4.17 in /usr/local/lib/python3.7/dist-packages (from requests->searchtweets-v2==1.0.7) (2020.12.5)\n",
            "Requirement already satisfied: six>=1.5 in /usr/local/lib/python3.7/dist-packages (from python-dateutil->searchtweets-v2==1.0.7) (1.15.0)\n",
            "Installing collected packages: searchtweets-v2\n",
            "Successfully installed searchtweets-v2-1.0.7\n"
          ],
          "name": "stdout"
        }
      ]
    },
    {
      "cell_type": "code",
      "metadata": {
        "id": "ClPKOsw8h1dE"
      },
      "source": [
        "import tweepy as tw\n",
        "import json\n",
        "import csv\n",
        "import pandas as pd\n",
        "import numpy as np\n",
        "import requests, geopandas, geojson\n",
        "import os\n",
        "from datetime import datetime\n",
        "import time\n",
        "import searchtweets\n",
        "from searchtweets import ResultStream, load_credentials, collect_results,gen_request_parameters\n",
        "    "
      ],
      "execution_count": 3,
      "outputs": []
    },
    {
      "cell_type": "markdown",
      "metadata": {
        "id": "7M9i7-xTMb_l"
      },
      "source": [
        "### Set up API credentials "
      ]
    },
    {
      "cell_type": "code",
      "metadata": {
        "id": "9I96TLsLh3xk"
      },
      "source": [
        "# twitter api authentication \n",
        "consumer_key = 'YOUR_CONSUMER_KEY'\n",
        "consumer_secret = 'YOUR_CONSUMER_SECRET_KEY' \n",
        "access_token = 'YOUR ACCESS TOKEN'\n",
        "access_token_secret = 'YOUR ACCESS TOKEN SECRET'\n",
        "\n",
        "\n",
        "auth = tw.OAuthHandler(consumer_key, consumer_secret)\n",
        "auth.set_access_token(access_token, access_token_secret)\n",
        "api = tw.API(auth, wait_on_rate_limit=True)\n"
      ],
      "execution_count": 7,
      "outputs": []
    },
    {
      "cell_type": "markdown",
      "metadata": {
        "id": "wy0HVfdwiIY9"
      },
      "source": [
        "### Get location coordinates"
      ]
    },
    {
      "cell_type": "code",
      "metadata": {
        "colab": {
          "base_uri": "https://localhost:8080/",
          "height": 589
        },
        "id": "n2MgIgTIiJXj",
        "outputId": "074bb375-a095-4dae-a149-e332234919a4"
      },
      "source": [
        "# get districts (name, coordinates/geometry, and bounding box)\n",
        "\n",
        "# retrieve region division to overlay on basic UK map (json file)\n",
        "\n",
        "# this will be used for all districts of England (326)\n",
        "url = 'https://martinjc.github.io/UK-GeoJSON/json/eng/topo_lad.json'\n",
        "\n",
        "geo_data = requests.get(url).json()\n",
        "geo_data = json.dumps(geo_data)\n",
        "\n",
        "# the source chosen provides a weirdly formatted json file, so I'm converting \n",
        "# to a dataframe to properly format it, then back into a json file \n",
        "\n",
        "geo_data_df = geopandas.read_file(geo_data)\n",
        "\n",
        "# this will be used for all districts of England (326)\n",
        "geo_data_df = geo_data_df.drop(columns=['id','LAD13CD','LAD13CDO','LAD13NMW'])\n",
        "geo_data_df = geo_data_df.rename(columns={\"LAD13NM\":\"district\"})\n",
        "\n",
        "geo_objects = geo_data_df \n",
        "\n",
        "# convert polygons and multiploygons into bounding boxes (to use in Twitter search)\n",
        "geo_data_df['bounding box'] = [x.bounds for x in geo_data_df['geometry']]\n",
        "geo_data_df['tweets']=[None]*len(geo_data_df)\n",
        "\n",
        "geo_data_df"
      ],
      "execution_count": 5,
      "outputs": [
        {
          "output_type": "execute_result",
          "data": {
            "text/html": [
              "<div>\n",
              "<style scoped>\n",
              "    .dataframe tbody tr th:only-of-type {\n",
              "        vertical-align: middle;\n",
              "    }\n",
              "\n",
              "    .dataframe tbody tr th {\n",
              "        vertical-align: top;\n",
              "    }\n",
              "\n",
              "    .dataframe thead th {\n",
              "        text-align: right;\n",
              "    }\n",
              "</style>\n",
              "<table border=\"1\" class=\"dataframe\">\n",
              "  <thead>\n",
              "    <tr style=\"text-align: right;\">\n",
              "      <th></th>\n",
              "      <th>district</th>\n",
              "      <th>geometry</th>\n",
              "      <th>bounding box</th>\n",
              "      <th>tweets</th>\n",
              "    </tr>\n",
              "  </thead>\n",
              "  <tbody>\n",
              "    <tr>\n",
              "      <th>0</th>\n",
              "      <td>Hartlepool</td>\n",
              "      <td>MULTIPOLYGON (((-1.24244 54.72219, -1.24162 54...</td>\n",
              "      <td>(-1.3839929357874716, 54.62168846925439, -1.15...</td>\n",
              "      <td>None</td>\n",
              "    </tr>\n",
              "    <tr>\n",
              "      <th>1</th>\n",
              "      <td>Middlesbrough</td>\n",
              "      <td>MULTIPOLYGON (((-1.19744 54.58184, -1.19416 54...</td>\n",
              "      <td>(-1.2849872220884917, 54.50096605164154, -1.13...</td>\n",
              "      <td>None</td>\n",
              "    </tr>\n",
              "    <tr>\n",
              "      <th>2</th>\n",
              "      <td>Redcar and Cleveland</td>\n",
              "      <td>MULTIPOLYGON (((-1.20071 54.57768, -1.19989 54...</td>\n",
              "      <td>(-1.201527860127369, 54.487882833969216, -0.78...</td>\n",
              "      <td>None</td>\n",
              "    </tr>\n",
              "    <tr>\n",
              "      <th>3</th>\n",
              "      <td>Stockton-on-Tees</td>\n",
              "      <td>MULTIPOLYGON (((-1.28171 54.56460, -1.27762 54...</td>\n",
              "      <td>(-1.452724175049573, 54.46409516547407, -1.158...</td>\n",
              "      <td>None</td>\n",
              "    </tr>\n",
              "    <tr>\n",
              "      <th>4</th>\n",
              "      <td>Darlington</td>\n",
              "      <td>POLYGON ((-1.43800 54.59493, -1.43554 54.59552...</td>\n",
              "      <td>(-1.7096480932436195, 54.451011947801746, -1.4...</td>\n",
              "      <td>None</td>\n",
              "    </tr>\n",
              "    <tr>\n",
              "      <th>...</th>\n",
              "      <td>...</td>\n",
              "      <td>...</td>\n",
              "      <td>...</td>\n",
              "      <td>...</td>\n",
              "    </tr>\n",
              "    <tr>\n",
              "      <th>321</th>\n",
              "      <td>Sutton</td>\n",
              "      <td>POLYGON ((-0.13456 51.39073, -0.13292 51.39013...</td>\n",
              "      <td>(-0.24583634276862387, 51.321744157265876, -0....</td>\n",
              "      <td>None</td>\n",
              "    </tr>\n",
              "    <tr>\n",
              "      <th>322</th>\n",
              "      <td>Tower Hamlets</td>\n",
              "      <td>POLYGON ((-0.01673 51.54356, -0.01591 51.54237...</td>\n",
              "      <td>(-0.07973584788521215, 51.48587906988235, 0.00...</td>\n",
              "      <td>None</td>\n",
              "    </tr>\n",
              "    <tr>\n",
              "      <th>323</th>\n",
              "      <td>Waltham Forest</td>\n",
              "      <td>POLYGON ((0.02172 51.62861, 0.02091 51.62920, ...</td>\n",
              "      <td>(-0.06255303806968637, 51.55010577481924, 0.02...</td>\n",
              "      <td>None</td>\n",
              "    </tr>\n",
              "    <tr>\n",
              "      <th>324</th>\n",
              "      <td>Wandsworth</td>\n",
              "      <td>POLYGON ((-0.14028 51.41927, -0.14438 51.41749...</td>\n",
              "      <td>(-0.2589280073899767, 51.417489522958824, -0.1...</td>\n",
              "      <td>None</td>\n",
              "    </tr>\n",
              "    <tr>\n",
              "      <th>325</th>\n",
              "      <td>Westminster</td>\n",
              "      <td>POLYGON ((-0.11165 51.51561, -0.11083 51.51383...</td>\n",
              "      <td>(-0.21638009737058006, 51.4846896864576, -0.11...</td>\n",
              "      <td>None</td>\n",
              "    </tr>\n",
              "  </tbody>\n",
              "</table>\n",
              "<p>326 rows × 4 columns</p>\n",
              "</div>"
            ],
            "text/plain": [
              "                 district  ... tweets\n",
              "0              Hartlepool  ...   None\n",
              "1           Middlesbrough  ...   None\n",
              "2    Redcar and Cleveland  ...   None\n",
              "3        Stockton-on-Tees  ...   None\n",
              "4              Darlington  ...   None\n",
              "..                    ...  ...    ...\n",
              "321                Sutton  ...   None\n",
              "322         Tower Hamlets  ...   None\n",
              "323        Waltham Forest  ...   None\n",
              "324            Wandsworth  ...   None\n",
              "325           Westminster  ...   None\n",
              "\n",
              "[326 rows x 4 columns]"
            ]
          },
          "metadata": {
            "tags": []
          },
          "execution_count": 5
        }
      ]
    },
    {
      "cell_type": "markdown",
      "metadata": {
        "id": "UT8QNnFah9jK"
      },
      "source": [
        "### Example of a tweet objet\n"
      ]
    },
    {
      "cell_type": "code",
      "metadata": {
        "id": "80x4LS78jJtB",
        "colab": {
          "base_uri": "https://localhost:8080/"
        },
        "outputId": "35ad1d0a-c346-47ef-8d38-6561ae1f0b92"
      },
      "source": [
        "# Example tweet objects - this is how a tweet looks like\n",
        "coords = geo_data_df['bounding box'][9]\n",
        "query= f'(immigration OR immigrants) bounding_box:[{coords[0]} {coords[1]} {coords[2]} {coords[3]}]'\n",
        "      \n",
        "example_tweet = api.search_full_archive(environment_name='fullarchive', \n",
        "                                        query = query, \n",
        "                                        fromDate = '201601010000', \n",
        "                                        toDate = '201701010000',\n",
        "                                        maxResults=10,\n",
        "                                        parser=tw.parsers.JSONParser())\n",
        "\n",
        "#convert the first tweet to string\n",
        "json_str = json.dumps(example_tweet['results'][0])\n",
        "\n",
        "#deserialise string into python object\n",
        "parsed = json.loads(json_str)\n",
        "\n",
        "print(json.dumps(parsed, indent=4, sort_keys=True))\n"
      ],
      "execution_count": 11,
      "outputs": [
        {
          "output_type": "stream",
          "text": [
            "{\n",
            "    \"contributors\": null,\n",
            "    \"coordinates\": {\n",
            "        \"coordinates\": [\n",
            "            -0.27301979,\n",
            "            53.75959015\n",
            "        ],\n",
            "        \"type\": \"Point\"\n",
            "    },\n",
            "    \"created_at\": \"Fri Jan 22 11:58:35 +0000 2016\",\n",
            "    \"entities\": {\n",
            "        \"hashtags\": [],\n",
            "        \"symbols\": [],\n",
            "        \"urls\": [],\n",
            "        \"user_mentions\": []\n",
            "    },\n",
            "    \"favorite_count\": 0,\n",
            "    \"favorited\": false,\n",
            "    \"filter_level\": \"low\",\n",
            "    \"geo\": {\n",
            "        \"coordinates\": [\n",
            "            53.75959015,\n",
            "            -0.27301979\n",
            "        ],\n",
            "        \"type\": \"Point\"\n",
            "    },\n",
            "    \"id\": 690503826143629312,\n",
            "    \"id_str\": \"690503826143629312\",\n",
            "    \"in_reply_to_screen_name\": null,\n",
            "    \"in_reply_to_status_id\": null,\n",
            "    \"in_reply_to_status_id_str\": null,\n",
            "    \"in_reply_to_user_id\": null,\n",
            "    \"in_reply_to_user_id_str\": null,\n",
            "    \"is_quote_status\": false,\n",
            "    \"lang\": \"en\",\n",
            "    \"matching_rules\": [\n",
            "        {\n",
            "            \"tag\": null\n",
            "        }\n",
            "    ],\n",
            "    \"place\": {\n",
            "        \"attributes\": {},\n",
            "        \"bounding_box\": {\n",
            "            \"coordinates\": [\n",
            "                [\n",
            "                    [\n",
            "                        -0.422572,\n",
            "                        53.719616\n",
            "                    ],\n",
            "                    [\n",
            "                        -0.422572,\n",
            "                        53.812018\n",
            "                    ],\n",
            "                    [\n",
            "                        -0.245313,\n",
            "                        53.812018\n",
            "                    ],\n",
            "                    [\n",
            "                        -0.245313,\n",
            "                        53.719616\n",
            "                    ]\n",
            "                ]\n",
            "            ],\n",
            "            \"type\": \"Polygon\"\n",
            "        },\n",
            "        \"country\": \"United Kingdom\",\n",
            "        \"country_code\": \"GB\",\n",
            "        \"full_name\": \"Hull, England\",\n",
            "        \"id\": \"7bc0da87641dd821\",\n",
            "        \"name\": \"Hull\",\n",
            "        \"place_type\": \"city\",\n",
            "        \"url\": \"https://api.twitter.com/1.1/geo/id/7bc0da87641dd821.json\"\n",
            "    },\n",
            "    \"quote_count\": 0,\n",
            "    \"reply_count\": 0,\n",
            "    \"retweet_count\": 0,\n",
            "    \"retweeted\": false,\n",
            "    \"source\": \"<a href=\\\"http://www.twitter.com\\\" rel=\\\"nofollow\\\">Twitter for Windows Phone</a>\",\n",
            "    \"text\": \"There's not enough money or jobs for our own people\\\"apparently\\\"so why are we taking thousands of immigrants in ? Don't figure\",\n",
            "    \"truncated\": false,\n",
            "    \"user\": {\n",
            "        \"contributors_enabled\": false,\n",
            "        \"created_at\": \"Fri Dec 18 23:46:31 +0000 2015\",\n",
            "        \"default_profile\": true,\n",
            "        \"default_profile_image\": false,\n",
            "        \"description\": null,\n",
            "        \"favourites_count\": 14,\n",
            "        \"follow_request_sent\": null,\n",
            "        \"followers_count\": 306,\n",
            "        \"following\": null,\n",
            "        \"friends_count\": 717,\n",
            "        \"geo_enabled\": true,\n",
            "        \"id\": 4529650337,\n",
            "        \"id_str\": \"4529650337\",\n",
            "        \"is_translator\": false,\n",
            "        \"lang\": null,\n",
            "        \"listed_count\": 0,\n",
            "        \"location\": \"Kingston upon hull\",\n",
            "        \"name\": \"uk patriot\",\n",
            "        \"notifications\": null,\n",
            "        \"profile_background_color\": \"F5F8FA\",\n",
            "        \"profile_background_image_url\": \"\",\n",
            "        \"profile_background_image_url_https\": \"\",\n",
            "        \"profile_background_tile\": false,\n",
            "        \"profile_image_url\": \"http://pbs.twimg.com/profile_images/678001343001415680/bw_7PFnJ_normal.jpg\",\n",
            "        \"profile_image_url_https\": \"https://pbs.twimg.com/profile_images/678001343001415680/bw_7PFnJ_normal.jpg\",\n",
            "        \"profile_link_color\": \"1DA1F2\",\n",
            "        \"profile_sidebar_border_color\": \"C0DEED\",\n",
            "        \"profile_sidebar_fill_color\": \"DDEEF6\",\n",
            "        \"profile_text_color\": \"333333\",\n",
            "        \"profile_use_background_image\": true,\n",
            "        \"protected\": false,\n",
            "        \"screen_name\": \"Thun377Uk\",\n",
            "        \"statuses_count\": 753,\n",
            "        \"time_zone\": null,\n",
            "        \"translator_type\": \"none\",\n",
            "        \"url\": null,\n",
            "        \"utc_offset\": null,\n",
            "        \"verified\": false\n",
            "    }\n",
            "}\n"
          ],
          "name": "stdout"
        }
      ]
    },
    {
      "cell_type": "markdown",
      "metadata": {
        "id": "CYlBczDDiNGk"
      },
      "source": [
        "### Retrieving tweets"
      ]
    },
    {
      "cell_type": "markdown",
      "metadata": {
        "id": "pw47AVYmRBsU"
      },
      "source": [
        "#### Tweets from 2016"
      ]
    },
    {
      "cell_type": "code",
      "metadata": {
        "id": "Vn5G__RWTtit"
      },
      "source": [
        "# yaml file with credentials \n",
        "import yaml\n",
        "\n",
        "dict_file = {'search_tweets_v2':\n",
        "             {'consumer_key':'vA4hP8SySsgeF1dY1Z5Cs4HF9',\n",
        "              'consumer_secret':'s1qAAKRoAhRfImrS3CtKMvRdzIMrK0FZ0d9rPhnYLdt43i3QPO',\n",
        "              'endpoint':'https://api.twitter.com/2/tweets/search/all',\n",
        "              'bearer_token':'AAAAAAAAAAAAAAAAAAAAAIB6MgEAAAAAwlTnIEjZmJXYgacFb0KbMyfPUxY%3Dea9tzx094pTnK9PhUij7UkboDCatShNY6ExpAl1WlsJ8JZOi2h'}}\n",
        "              \n",
        "with open(r\"./twitter_keys.yaml\", 'w') as file:\n",
        "    documents = yaml.dump(dict_file, file)\n"
      ],
      "execution_count": null,
      "outputs": []
    },
    {
      "cell_type": "code",
      "metadata": {
        "id": "rBmt3EPmX-QF"
      },
      "source": [
        "# function that pull tweets according to parameters \n",
        "def pull_searchtweets(SEARCH_QUERY, RESULTS_PER_CALL, FROM_DATE, TO_DATE, MAX_RESULTS, DISTRICT_NAME):\n",
        "\n",
        "    search_args = load_credentials(filename=\"./twitter_keys.yaml\",\n",
        "                    yaml_key=\"search_tweets_v2\",\n",
        "                    env_overwrite=False)\n",
        "\n",
        "    rule = gen_request_parameters(SEARCH_QUERY,\n",
        "                            results_per_call=RESULTS_PER_CALL,\n",
        "                            start_time=FROM_DATE,\n",
        "                            end_time=TO_DATE\n",
        "                            )\n",
        "    \n",
        "    rs = ResultStream(request_parameters=rule,\n",
        "                    max_results=MAX_RESULTS,\n",
        "                    **search_args)\n",
        "    n = 0\n",
        "    tweet_list = []\n",
        "    try:\n",
        "        for tweet in rs.stream():\n",
        "            n += 1\n",
        "            tweet_list.append(tweet)\n",
        "            if n >= MAX_RESULTS:\n",
        "                break\n",
        "    except: \n",
        "        print(f'An error happened while retrieving {DISTRICT_NAME} data')\n",
        "    \n",
        "    return tweet_list\n"
      ],
      "execution_count": null,
      "outputs": []
    },
    {
      "cell_type": "code",
      "metadata": {
        "id": "bkADIZoARALQ"
      },
      "source": [
        "#create file that will keep data as it is retrieved\n",
        "with open('raw_tweets.json', 'a') as f:\n",
        "    json.dump({}, f)\n",
        "\n",
        "for i in range(len(geo_data_df)):\n",
        "    coords = geo_data_df['bounding box'][i]\n",
        "    DISTRICT_NAME = geo_data_df['district'][i]\n",
        "    SEARCH_QUERY = f'(immigration OR immigrants OR migration OR migrants \\\n",
        "                    OR \"border control\" OR emigration OR naturalize OR \\\n",
        "                    naturalization OR citizenship OR non-citizens OR borders) \\\n",
        "                    lang:en bounding_box:[{coords[0]} {coords[1]} {coords[2]} {coords[3]}]'\n",
        "    RESULTS_PER_CALL = 500\n",
        "    FROM_DATE = '2016-01-01' \n",
        "    TO_DATE = '2017-01-01'  \n",
        "\n",
        "    MAX_RESULTS = 20000  # Total number of Tweets you want to collect (per district)\n",
        "\n",
        "    tweet_list = pull_searchtweets(SEARCH_QUERY, RESULTS_PER_CALL, FROM_DATE, TO_DATE, MAX_RESULTS, DISTRICT_NAME)\n",
        "    \n",
        "    new_data = {DISTRICT_NAME: tweet_list}\n",
        "    \n",
        "    with open('raw_tweets.json', 'r') as f:\n",
        "        updated_data = json.loads(f.read())\n",
        "\n",
        "    updated_data.update(new_data)\n",
        "\n",
        "    with open('raw_tweets.json', 'w') as f:\n",
        "        json.dump(updated_data, f)\n",
        "        f.write('\\n')\n",
        "        f.close()\n",
        "    \n",
        "    \n",
        "print('done')\n"
      ],
      "execution_count": null,
      "outputs": []
    },
    {
      "cell_type": "markdown",
      "metadata": {
        "id": "53MEqTNRXdiS"
      },
      "source": [
        "#### Tweets from 2020"
      ]
    },
    {
      "cell_type": "code",
      "metadata": {
        "colab": {
          "base_uri": "https://localhost:8080/"
        },
        "id": "kLN3STiUXdSq",
        "outputId": "8d818b7e-aeec-4f98-8a8b-febb9a01bc63"
      },
      "source": [
        "#create file that will keep data as it is retrieved\n",
        "with open('raw_tweets_2020.json', 'a') as f:\n",
        "    json.dump({}, f)\n",
        "\n",
        "for i in range(len(geo_data_df)):\n",
        "    coords = geo_data_df['bounding box'][i]\n",
        "    DISTRICT_NAME = geo_data_df['district'][i]\n",
        "    SEARCH_QUERY = f'(immigration OR immigrants OR migration OR migrants \\\n",
        "                    OR \"border control\" OR emigration OR naturalize OR \\\n",
        "                    naturalization OR citizenship OR non-citizens OR borders) \\\n",
        "                    lang:en bounding_box:[{coords[0]} {coords[1]} {coords[2]} {coords[3]}]'\n",
        "    RESULTS_PER_CALL = 500\n",
        "    FROM_DATE = '2020-03-01' \n",
        "    TO_DATE = '2021-03-01'  \n",
        "\n",
        "    MAX_RESULTS = 20000  # Total number of Tweets you want to collect (per district)\n",
        "\n",
        "    tweet_list = pull_searchtweets(SEARCH_QUERY, RESULTS_PER_CALL, FROM_DATE, TO_DATE, MAX_RESULTS, DISTRICT_NAME)\n",
        "    \n",
        "    new_data = {DISTRICT_NAME: tweet_list}\n",
        "    \n",
        "    with open('raw_tweets_2020.json', 'r') as f:\n",
        "        updated_data = json.loads(f.read())\n",
        "\n",
        "    updated_data.update(new_data)\n",
        "\n",
        "    with open('raw_tweets_2020.json', 'w') as f:\n",
        "        json.dump(updated_data, f)\n",
        "        f.write('\\n')\n",
        "        f.close()\n",
        "    \n",
        "    \n",
        "print('done')\n"
      ],
      "execution_count": null,
      "outputs": [
        {
          "output_type": "stream",
          "text": [
            " HTTP Error code: 429: {\"title\":\"Too Many Requests\",\"type\":\"about:blank\",\"status\":429,\"detail\":\"Too Many Requests\"} | Too Many Requests\n",
            " Request payload: {'query': '(immigration OR immigrants OR migration OR migrants OR \"border control\" OR emigration OR naturalize OR naturalization OR citizenship OR non-citizens OR borders) lang:en bounding_box:[-1.3839929357874716 54.62168846925439 -1.1573434920303036 54.726948902345384]', 'max_results': 500, 'start_time': '2020-03-01T00:00:00Z', 'end_time': '2021-03-01T00:00:00Z', 'next_token': 'b26v89c19zqg8o3fosbteinkyxrhqtr8vrm7epsnuewe5'}\n",
            "Rate limit hit... Will retry...\n",
            "Will retry in 4 seconds...\n",
            " HTTP Error code: 429: {\"title\":\"Too Many Requests\",\"type\":\"about:blank\",\"status\":429,\"detail\":\"Too Many Requests\"} | Too Many Requests\n",
            " Request payload: {'query': '(immigration OR immigrants OR migration OR migrants OR \"border control\" OR emigration OR naturalize OR naturalization OR citizenship OR non-citizens OR borders) lang:en bounding_box:[-1.3839929357874716 54.62168846925439 -1.1573434920303036 54.726948902345384]', 'max_results': 500, 'start_time': '2020-03-01T00:00:00Z', 'end_time': '2021-03-01T00:00:00Z', 'next_token': 'b26v89c19zqg8o3fo7md33ffa9lqio0n4gwe1qwfeoa65'}\n",
            "Rate limit hit... Will retry...\n",
            "Will retry in 4 seconds...\n",
            " HTTP Error code: 429: {\"title\":\"Too Many Requests\",\"type\":\"about:blank\",\"status\":429,\"detail\":\"Too Many Requests\"} | Too Many Requests\n",
            " Request payload: {'query': '(immigration OR immigrants OR migration OR migrants OR \"border control\" OR emigration OR naturalize OR naturalization OR citizenship OR non-citizens OR borders) lang:en bounding_box:[-1.201527860127369 54.487882833969216 -0.7883221955159252 54.64785490459904]', 'max_results': 500, 'start_time': '2020-03-01T00:00:00Z', 'end_time': '2021-03-01T00:00:00Z', 'next_token': 'b26v89c19zqg8o3fo7jdb376de7itozel50hzty6z1cot'}\n",
            "Rate limit hit... Will retry...\n",
            "Will retry in 4 seconds...\n",
            " HTTP Error code: 429: {\"title\":\"Too Many Requests\",\"type\":\"about:blank\",\"status\":429,\"detail\":\"Too Many Requests\"} | Too Many Requests\n",
            " Request payload: {'query': '(immigration OR immigrants OR migration OR migrants OR \"border control\" OR emigration OR naturalize OR naturalization OR citizenship OR non-citizens OR borders) lang:en bounding_box:[-2.832258334524611 53.3050410180483 -2.5949719132625937 53.40257045887838]', 'max_results': 500, 'start_time': '2020-03-01T00:00:00Z', 'end_time': '2021-03-01T00:00:00Z'}\n",
            "Rate limit hit... Will retry...\n",
            "Will retry in 4 seconds...\n",
            " HTTP Error code: 429: {\"title\":\"Too Many Requests\",\"type\":\"about:blank\",\"status\":429,\"detail\":\"Too Many Requests\"} | Too Many Requests\n",
            " Request payload: {'query': '(immigration OR immigrants OR migration OR migrants OR \"border control\" OR emigration OR naturalize OR naturalization OR citizenship OR non-citizens OR borders) lang:en bounding_box:[-2.832258334524611 53.3050410180483 -2.5949719132625937 53.40257045887838]', 'max_results': 500, 'start_time': '2020-03-01T00:00:00Z', 'end_time': '2021-03-01T00:00:00Z', 'next_token': 'b26v89c19zqg8o3fo7mcneog3y6rwar771hr3n93idkl9'}\n",
            "Rate limit hit... Will retry...\n",
            "Will retry in 4 seconds...\n",
            " HTTP Error code: 429: {\"title\":\"Too Many Requests\",\"type\":\"about:blank\",\"status\":429,\"detail\":\"Too Many Requests\"} | Too Many Requests\n",
            " Request payload: {'query': '(immigration OR immigrants OR migration OR migrants OR \"border control\" OR emigration OR naturalize OR naturalization OR citizenship OR non-citizens OR borders) lang:en bounding_box:[-2.832258334524611 53.3050410180483 -2.5949719132625937 53.40257045887838]', 'max_results': 500, 'start_time': '2020-03-01T00:00:00Z', 'end_time': '2021-03-01T00:00:00Z', 'next_token': 'b26v89c19zqg8o3fo7jcvp0u2w9t1ntz6bsv6k06sgigt'}\n",
            "Rate limit hit... Will retry...\n",
            "Will retry in 4 seconds...\n",
            " HTTP Error code: 429: {\"title\":\"Too Many Requests\",\"type\":\"about:blank\",\"status\":429,\"detail\":\"Too Many Requests\"} | Too Many Requests\n",
            " Request payload: {'query': '(immigration OR immigrants OR migration OR migrants OR \"border control\" OR emigration OR naturalize OR naturalization OR citizenship OR non-citizens OR borders) lang:en bounding_box:[-2.698068772155746 53.32228707770728 -2.4255985022238438 53.48106976491235]', 'max_results': 500, 'start_time': '2020-03-01T00:00:00Z', 'end_time': '2021-03-01T00:00:00Z', 'next_token': 'b26v89c19zqg8o3foshun1hast0k1ke0evdkw4b0u6id9'}\n",
            "Rate limit hit... Will retry...\n",
            "Will retry in 4 seconds...\n",
            " HTTP Error code: 429: {\"title\":\"Too Many Requests\",\"type\":\"about:blank\",\"status\":429,\"detail\":\"Too Many Requests\"} | Too Many Requests\n",
            " Request payload: {'query': '(immigration OR immigrants OR migration OR migrants OR \"border control\" OR emigration OR naturalize OR naturalization OR citizenship OR non-citizens OR borders) lang:en bounding_box:[-2.698068772155746 53.32228707770728 -2.4255985022238438 53.48106976491235]', 'max_results': 500, 'start_time': '2020-03-01T00:00:00Z', 'end_time': '2021-03-01T00:00:00Z', 'next_token': 'b26v89c19zqg8o3fos8vb6ztylv17w54bb82ktg1sq9h9'}\n",
            "Rate limit hit... Will retry...\n",
            "Will retry in 4 seconds...\n",
            " HTTP Error code: 429: {\"title\":\"Too Many Requests\",\"type\":\"about:blank\",\"status\":429,\"detail\":\"Too Many Requests\"} | Too Many Requests\n",
            " Request payload: {'query': '(immigration OR immigrants OR migration OR migrants OR \"border control\" OR emigration OR naturalize OR naturalization OR citizenship OR non-citizens OR borders) lang:en bounding_box:[-2.698068772155746 53.32228707770728 -2.4255985022238438 53.48106976491235]', 'max_results': 500, 'start_time': '2020-03-01T00:00:00Z', 'end_time': '2021-03-01T00:00:00Z', 'next_token': 'b26v89c19zqg8o3fos5tfrdfdg6ww41kbgpdhd4ctm6wt'}\n",
            "Rate limit hit... Will retry...\n",
            "Will retry in 4 seconds...\n",
            " HTTP Error code: 429: {\"title\":\"Too Many Requests\",\"type\":\"about:blank\",\"status\":429,\"detail\":\"Too Many Requests\"} | Too Many Requests\n",
            " Request payload: {'query': '(immigration OR immigrants OR migration OR migrants OR \"border control\" OR emigration OR naturalize OR naturalization OR citizenship OR non-citizens OR borders) lang:en bounding_box:[-3.061362465398283 53.773063395690215 -2.9836307067090013 53.8759450619317]', 'max_results': 500, 'start_time': '2020-03-01T00:00:00Z', 'end_time': '2021-03-01T00:00:00Z'}\n",
            "Rate limit hit... Will retry...\n",
            "Will retry in 4 seconds...\n",
            " HTTP Error code: 429: {\"title\":\"Too Many Requests\",\"type\":\"about:blank\",\"status\":429,\"detail\":\"Too Many Requests\"} | Too Many Requests\n",
            " Request payload: {'query': '(immigration OR immigrants OR migration OR migrants OR \"border control\" OR emigration OR naturalize OR naturalization OR citizenship OR non-citizens OR borders) lang:en bounding_box:[-0.42257381515688497 53.719541141576144 -0.2417451975744509 53.813502432131955]', 'max_results': 500, 'start_time': '2020-03-01T00:00:00Z', 'end_time': '2021-03-01T00:00:00Z', 'next_token': 'b26v89c19zqg8o3fos8t7h0qs3xx1bw4gqq2hs3d0q9a5'}\n",
            "Rate limit hit... Will retry...\n",
            "Will retry in 4 seconds...\n",
            " HTTP Error code: 400: {\"errors\":[{\"parameters\":{\"query\":[\"(immigration OR immigrants OR migration OR migrants OR \\\"border control\\\" OR emigration OR naturalize OR naturalization OR citizenship OR non-citizens OR borders) lang:en bounding_box:[-1.1033403754672237 53.57146290519389 0.14773182491079062 54.17626437668286]\"]},\"message\":\"There were errors processing your request: Height of bounding_box must be less than 25 miles (at position 170), Width of bounding_box must be less than 25 miles (at position 170)\"}],\"title\":\"Invalid Request\",\"detail\":\"One or more parameters to your request was invalid.\",\"type\":\"https://api.twitter.com/2/problems/invalid-request\"} | Bad Request\n",
            " Request payload: {'query': '(immigration OR immigrants OR migration OR migrants OR \"border control\" OR emigration OR naturalize OR naturalization OR citizenship OR non-citizens OR borders) lang:en bounding_box:[-1.1033403754672237 53.57146290519389 0.14773182491079062 54.17626437668286]', 'max_results': 500, 'start_time': '2020-03-01T00:00:00Z', 'end_time': '2021-03-01T00:00:00Z'}\n",
            "Quitting... \n",
            " HTTP Error code: 429: {\"title\":\"Too Many Requests\",\"type\":\"about:blank\",\"status\":429,\"detail\":\"Too Many Requests\"} | Too Many Requests\n",
            " Request payload: {'query': '(immigration OR immigrants OR migration OR migrants OR \"border control\" OR emigration OR naturalize OR naturalization OR citizenship OR non-citizens OR borders) lang:en bounding_box:[-0.2924753979821926 53.433494427922064 0.017633407736099116 53.638068376980286]', 'max_results': 500, 'start_time': '2020-03-01T00:00:00Z', 'end_time': '2021-03-01T00:00:00Z'}\n",
            "Rate limit hit... Will retry...\n",
            "Will retry in 4 seconds...\n"
          ],
          "name": "stderr"
        },
        {
          "output_type": "stream",
          "text": [
            "An error happened while retrieving East Riding of Yorkshire data\n"
          ],
          "name": "stdout"
        },
        {
          "output_type": "stream",
          "text": [
            " HTTP Error code: 400: {\"errors\":[{\"parameters\":{\"query\":[\"(immigration OR immigrants OR migration OR migrants OR \\\"border control\\\" OR emigration OR naturalize OR naturalization OR citizenship OR non-citizens OR borders) lang:en bounding_box:[-0.9503315452051648 53.45549802128007 -0.20410666178806203 53.714783607877116]\"]},\"message\":\"There were errors processing your request: Width of bounding_box must be less than 25 miles (at position 170)\"}],\"title\":\"Invalid Request\",\"detail\":\"One or more parameters to your request was invalid.\",\"type\":\"https://api.twitter.com/2/problems/invalid-request\"} | Bad Request\n",
            " Request payload: {'query': '(immigration OR immigrants OR migration OR migrants OR \"border control\" OR emigration OR naturalize OR naturalization OR citizenship OR non-citizens OR borders) lang:en bounding_box:[-0.9503315452051648 53.45549802128007 -0.20410666178806203 53.714783607877116]', 'max_results': 500, 'start_time': '2020-03-01T00:00:00Z', 'end_time': '2021-03-01T00:00:00Z'}\n",
            "Quitting... \n",
            " HTTP Error code: 429: {\"title\":\"Too Many Requests\",\"type\":\"about:blank\",\"status\":429,\"detail\":\"Too Many Requests\"} | Too Many Requests\n",
            " Request payload: {'query': '(immigration OR immigrants OR migration OR migrants OR \"border control\" OR emigration OR naturalize OR naturalization OR citizenship OR non-citizens OR borders) lang:en bounding_box:[-1.2236200441759015 53.87475567850694 -0.9200570707682862 54.05673134249477]', 'max_results': 500, 'start_time': '2020-03-01T00:00:00Z', 'end_time': '2021-03-01T00:00:00Z'}\n",
            "Rate limit hit... Will retry...\n",
            "Will retry in 4 seconds...\n"
          ],
          "name": "stderr"
        },
        {
          "output_type": "stream",
          "text": [
            "An error happened while retrieving North Lincolnshire data\n"
          ],
          "name": "stdout"
        },
        {
          "output_type": "stream",
          "text": [
            " HTTP Error code: 429: {\"title\":\"Too Many Requests\",\"type\":\"about:blank\",\"status\":429,\"detail\":\"Too Many Requests\"} | Too Many Requests\n",
            " Request payload: {'query': '(immigration OR immigrants OR migration OR migrants OR \"border control\" OR emigration OR naturalize OR naturalization OR citizenship OR non-citizens OR borders) lang:en bounding_box:[-1.5566392629815597 52.86080630890153 -1.3831747067486369 52.96785081712967]', 'max_results': 500, 'start_time': '2020-03-01T00:00:00Z', 'end_time': '2021-03-01T00:00:00Z'}\n",
            "Rate limit hit... Will retry...\n",
            "Will retry in 4 seconds...\n",
            " HTTP Error code: 429: {\"title\":\"Too Many Requests\",\"type\":\"about:blank\",\"status\":429,\"detail\":\"Too Many Requests\"} | Too Many Requests\n",
            " Request payload: {'query': '(immigration OR immigrants OR migration OR migrants OR \"border control\" OR emigration OR naturalize OR naturalization OR citizenship OR non-citizens OR borders) lang:en bounding_box:[-1.5566392629815597 52.86080630890153 -1.3831747067486369 52.96785081712967]', 'max_results': 500, 'start_time': '2020-03-01T00:00:00Z', 'end_time': '2021-03-01T00:00:00Z', 'next_token': 'b26v89c19zqg8o3fo7agxg6nrq1lo64pf0msese3hovi5'}\n",
            "Rate limit hit... Will retry...\n",
            "Will retry in 4 seconds...\n",
            " HTTP Error code: 429: {\"title\":\"Too Many Requests\",\"type\":\"about:blank\",\"status\":429,\"detail\":\"Too Many Requests\"} | Too Many Requests\n",
            " Request payload: {'query': '(immigration OR immigrants OR migration OR migrants OR \"border control\" OR emigration OR naturalize OR naturalization OR citizenship OR non-citizens OR borders) lang:en bounding_box:[-0.8218695861081411 52.52480549140766 -0.4283014184287266 52.75970871779718]', 'max_results': 500, 'start_time': '2020-03-01T00:00:00Z', 'end_time': '2021-03-01T00:00:00Z', 'next_token': 'b26v89c19zqg8o3foshvhgy1b9hd873o9dyca6vinul4t'}\n",
            "Rate limit hit... Will retry...\n",
            "Will retry in 4 seconds...\n",
            " HTTP Error code: 400: {\"errors\":[{\"parameters\":{\"query\":[\"(immigration OR immigrants OR migration OR migrants OR \\\"border control\\\" OR emigration OR naturalize OR naturalization OR citizenship OR non-citizens OR borders) lang:en bounding_box:[-3.141548911204068 51.826042729362875 -2.338047995068548 52.39516269810914]\"]},\"message\":\"There were errors processing your request: Height of bounding_box must be less than 25 miles (at position 170), Width of bounding_box must be less than 25 miles (at position 170)\"}],\"title\":\"Invalid Request\",\"detail\":\"One or more parameters to your request was invalid.\",\"type\":\"https://api.twitter.com/2/problems/invalid-request\"} | Bad Request\n",
            " Request payload: {'query': '(immigration OR immigrants OR migration OR migrants OR \"border control\" OR emigration OR naturalize OR naturalization OR citizenship OR non-citizens OR borders) lang:en bounding_box:[-3.141548911204068 51.826042729362875 -2.338047995068548 52.39516269810914]', 'max_results': 500, 'start_time': '2020-03-01T00:00:00Z', 'end_time': '2021-03-01T00:00:00Z'}\n",
            "Quitting... \n",
            " HTTP Error code: 429: {\"title\":\"Too Many Requests\",\"type\":\"about:blank\",\"status\":429,\"detail\":\"Too Many Requests\"} | Too Many Requests\n",
            " Request payload: {'query': '(immigration OR immigrants OR migration OR migrants OR \"border control\" OR emigration OR naturalize OR naturalization OR citizenship OR non-citizens OR borders) lang:en bounding_box:[-2.6669760686800337 52.61460393997682 -2.3118646658258424 52.828098264720715]', 'max_results': 500, 'start_time': '2020-03-01T00:00:00Z', 'end_time': '2021-03-01T00:00:00Z'}\n",
            "Rate limit hit... Will retry...\n",
            "Will retry in 4 seconds...\n"
          ],
          "name": "stderr"
        },
        {
          "output_type": "stream",
          "text": [
            "An error happened while retrieving Herefordshire, County of data\n"
          ],
          "name": "stdout"
        },
        {
          "output_type": "stream",
          "text": [
            " HTTP Error code: 429: {\"title\":\"Too Many Requests\",\"type\":\"about:blank\",\"status\":429,\"detail\":\"Too Many Requests\"} | Too Many Requests\n",
            " Request payload: {'query': '(immigration OR immigrants OR migration OR migrants OR \"border control\" OR emigration OR naturalize OR naturalization OR citizenship OR non-citizens OR borders) lang:en bounding_box:[-2.6669760686800337 52.61460393997682 -2.3118646658258424 52.828098264720715]', 'max_results': 500, 'start_time': '2020-03-01T00:00:00Z', 'end_time': '2021-03-01T00:00:00Z', 'next_token': 'b26v89c19zqg8o3foshtdovpw05g5a6mcqchwv8fp3p19'}\n",
            "Rate limit hit... Will retry...\n",
            "Will retry in 4 seconds...\n",
            " HTTP Error code: 429: {\"title\":\"Too Many Requests\",\"type\":\"about:blank\",\"status\":429,\"detail\":\"Too Many Requests\"} | Too Many Requests\n",
            " Request payload: {'query': '(immigration OR immigrants OR migration OR migrants OR \"border control\" OR emigration OR naturalize OR naturalization OR citizenship OR non-citizens OR borders) lang:en bounding_box:[-2.7078875206217607 51.27297943685084 -2.2783172752336265 51.439493116316825]', 'max_results': 500, 'start_time': '2020-03-01T00:00:00Z', 'end_time': '2021-03-01T00:00:00Z', 'next_token': 'b26v89c19zqg8o3foskt5cdeozq06r5tu7e4imu59jmv1'}\n",
            "Rate limit hit... Will retry...\n",
            "Will retry in 4 seconds...\n",
            " HTTP Error code: 429: {\"title\":\"Too Many Requests\",\"type\":\"about:blank\",\"status\":429,\"detail\":\"Too Many Requests\"} | Too Many Requests\n",
            " Request payload: {'query': '(immigration OR immigrants OR migration OR migrants OR \"border control\" OR emigration OR naturalize OR naturalization OR citizenship OR non-citizens OR borders) lang:en bounding_box:[-2.7078875206217607 51.27297943685084 -2.2783172752336265 51.439493116316825]', 'max_results': 500, 'start_time': '2020-03-01T00:00:00Z', 'end_time': '2021-03-01T00:00:00Z', 'next_token': 'b26v89c19zqg8o3fo7mg0pmws35mcs9gyjc5rsqi5mcn1'}\n",
            "Rate limit hit... Will retry...\n",
            "Will retry in 4 seconds...\n",
            " HTTP Error code: 429: {\"title\":\"Too Many Requests\",\"type\":\"about:blank\",\"status\":429,\"detail\":\"Too Many Requests\"} | Too Many Requests\n",
            " Request payload: {'query': '(immigration OR immigrants OR migration OR migrants OR \"border control\" OR emigration OR naturalize OR naturalization OR citizenship OR non-citizens OR borders) lang:en bounding_box:[-1.9379339950784562 50.70921169351598 -1.740740796719332 50.780574699001406]', 'max_results': 500, 'start_time': '2020-03-01T00:00:00Z', 'end_time': '2021-03-01T00:00:00Z'}\n",
            "Rate limit hit... Will retry...\n",
            "Will retry in 4 seconds...\n",
            " HTTP Error code: 429: {\"title\":\"Too Many Requests\",\"type\":\"about:blank\",\"status\":429,\"detail\":\"Too Many Requests\"} | Too Many Requests\n",
            " Request payload: {'query': '(immigration OR immigrants OR migration OR migrants OR \"border control\" OR emigration OR naturalize OR naturalization OR citizenship OR non-citizens OR borders) lang:en bounding_box:[-1.8651116106221828 51.48231091960808 -1.6024600891562946 51.692831785790084]', 'max_results': 500, 'start_time': '2020-03-01T00:00:00Z', 'end_time': '2021-03-01T00:00:00Z'}\n",
            "Rate limit hit... Will retry...\n",
            "Will retry in 4 seconds...\n",
            " HTTP Error code: 429: {\"title\":\"Too Many Requests\",\"type\":\"about:blank\",\"status\":429,\"detail\":\"Too Many Requests\"} | Too Many Requests\n",
            " Request payload: {'query': '(immigration OR immigrants OR migration OR migrants OR \"border control\" OR emigration OR naturalize OR naturalization OR citizenship OR non-citizens OR borders) lang:en bounding_box:[-0.4978508867296627 52.50637004832392 -0.012641066700779469 52.67526249463943]', 'max_results': 500, 'start_time': '2020-03-01T00:00:00Z', 'end_time': '2021-03-01T00:00:00Z'}\n",
            "Rate limit hit... Will retry...\n",
            "Will retry in 4 seconds...\n",
            " HTTP Error code: 429: {\"title\":\"Too Many Requests\",\"type\":\"about:blank\",\"status\":429,\"detail\":\"Too Many Requests\"} | Too Many Requests\n",
            " Request payload: {'query': '(immigration OR immigrants OR migration OR migrants OR \"border control\" OR emigration OR naturalize OR naturalization OR citizenship OR non-citizens OR borders) lang:en bounding_box:[-0.4978508867296627 52.50637004832392 -0.012641066700779469 52.67526249463943]', 'max_results': 500, 'start_time': '2020-03-01T00:00:00Z', 'end_time': '2021-03-01T00:00:00Z', 'next_token': 'b26v89c19zqg8o3foshtdkn67pg9hc1xbw0fa2iwupldp'}\n",
            "Rate limit hit... Will retry...\n",
            "Will retry in 4 seconds...\n",
            " HTTP Error code: 429: {\"title\":\"Too Many Requests\",\"type\":\"about:blank\",\"status\":429,\"detail\":\"Too Many Requests\"} | Too Many Requests\n",
            " Request payload: {'query': '(immigration OR immigrants OR migration OR migrants OR \"border control\" OR emigration OR naturalize OR naturalization OR citizenship OR non-citizens OR borders) lang:en bounding_box:[-0.5060331771180078 51.85458793155705 -0.34975143070061065 51.92773501217961]', 'max_results': 500, 'start_time': '2020-03-01T00:00:00Z', 'end_time': '2021-03-01T00:00:00Z', 'next_token': 'b26v89c19zqg8o3fo7gg24qxvpf5ni48ztm1d01hv2ge5'}\n",
            "Rate limit hit... Will retry...\n",
            "Will retry in 4 seconds...\n",
            " HTTP Error code: 429: {\"title\":\"Too Many Requests\",\"type\":\"about:blank\",\"status\":429,\"detail\":\"Too Many Requests\"} | Too Many Requests\n",
            " Request payload: {'query': '(immigration OR immigrants OR migration OR migrants OR \"border control\" OR emigration OR naturalize OR naturalization OR citizenship OR non-citizens OR borders) lang:en bounding_box:[0.6231228964736601 51.52096588091269 0.8211343238716191 51.57686690187627]', 'max_results': 500, 'start_time': '2020-03-01T00:00:00Z', 'end_time': '2021-03-01T00:00:00Z', 'next_token': 'b26v89c19zqg8o3fos8t7j62f8carntzhwad7yooujm2l'}\n",
            "Rate limit hit... Will retry...\n",
            "Will retry in 4 seconds...\n",
            " HTTP Error code: 429: {\"title\":\"Too Many Requests\",\"type\":\"about:blank\",\"status\":429,\"detail\":\"Too Many Requests\"} | Too Many Requests\n",
            " Request payload: {'query': '(immigration OR immigrants OR migration OR migrants OR \"border control\" OR emigration OR naturalize OR naturalization OR citizenship OR non-citizens OR borders) lang:en bounding_box:[0.21073546090105033 51.4513869505644 0.541299992590206 51.56794652619059]', 'max_results': 500, 'start_time': '2020-03-01T00:00:00Z', 'end_time': '2021-03-01T00:00:00Z', 'next_token': 'b26v89c19zqg8o3fos5upchlu2n7rmstci4ocymtzoxh9'}\n",
            "Rate limit hit... Will retry...\n",
            "Will retry in 4 seconds...\n",
            " HTTP Error code: 429: {\"title\":\"Too Many Requests\",\"type\":\"about:blank\",\"status\":429,\"detail\":\"Too Many Requests\"} | Too Many Requests\n",
            " Request payload: {'query': '(immigration OR immigrants OR migration OR migrants OR \"border control\" OR emigration OR naturalize OR naturalization OR citizenship OR non-citizens OR borders) lang:en bounding_box:[-0.8374159378459973 51.33185391637631 -0.6304039910208585 51.46863301022338]', 'max_results': 500, 'start_time': '2020-03-01T00:00:00Z', 'end_time': '2021-03-01T00:00:00Z', 'next_token': 'b26v89c19zqg8o3fos8ss2w76o27isg1345jgwdce9pbx'}\n",
            "Rate limit hit... Will retry...\n",
            "Will retry in 4 seconds...\n",
            " HTTP Error code: 400: {\"errors\":[{\"parameters\":{\"query\":[\"(immigration OR immigrants OR migration OR migrants OR \\\"border control\\\" OR emigration OR naturalize OR naturalization OR citizenship OR non-citizens OR borders) lang:en bounding_box:[-1.5877319664572722 51.32888045781442 -0.9814242486808773 51.56378368420394]\"]},\"message\":\"There were errors processing your request: Width of bounding_box must be less than 25 miles (at position 170)\"}],\"title\":\"Invalid Request\",\"detail\":\"One or more parameters to your request was invalid.\",\"type\":\"https://api.twitter.com/2/problems/invalid-request\"} | Bad Request\n",
            " Request payload: {'query': '(immigration OR immigrants OR migration OR migrants OR \"border control\" OR emigration OR naturalize OR naturalization OR citizenship OR non-citizens OR borders) lang:en bounding_box:[-1.5877319664572722 51.32888045781442 -0.9814242486808773 51.56378368420394]', 'max_results': 500, 'start_time': '2020-03-01T00:00:00Z', 'end_time': '2021-03-01T00:00:00Z'}\n",
            "Quitting... \n",
            " HTTP Error code: 429: {\"title\":\"Too Many Requests\",\"type\":\"about:blank\",\"status\":429,\"detail\":\"Too Many Requests\"} | Too Many Requests\n",
            " Request payload: {'query': '(immigration OR immigrants OR migration OR migrants OR \"border control\" OR emigration OR naturalize OR naturalization OR citizenship OR non-citizens OR borders) lang:en bounding_box:[-1.052610175059482 51.4097585306979 -0.9282393611566322 51.493015370430896]', 'max_results': 500, 'start_time': '2020-03-01T00:00:00Z', 'end_time': '2021-03-01T00:00:00Z'}\n",
            "Rate limit hit... Will retry...\n",
            "Will retry in 4 seconds...\n"
          ],
          "name": "stderr"
        },
        {
          "output_type": "stream",
          "text": [
            "An error happened while retrieving West Berkshire data\n"
          ],
          "name": "stdout"
        },
        {
          "output_type": "stream",
          "text": [
            " HTTP Error code: 429: {\"title\":\"Too Many Requests\",\"type\":\"about:blank\",\"status\":429,\"detail\":\"Too Many Requests\"} | Too Many Requests\n",
            " Request payload: {'query': '(immigration OR immigrants OR migration OR migrants OR \"border control\" OR emigration OR naturalize OR naturalization OR citizenship OR non-citizens OR borders) lang:en bounding_box:[-0.8537805186226883 51.382997403640864 -0.5223977578946988 51.578056285301024]', 'max_results': 500, 'start_time': '2020-03-01T00:00:00Z', 'end_time': '2021-03-01T00:00:00Z', 'next_token': 'b26v89c19zqg8o3fosktkqi9jiyw91ugpxbrntcja2gsd'}\n",
            "Rate limit hit... Will retry...\n",
            "Will retry in 4 seconds...\n",
            " HTTP Error code: 429: {\"title\":\"Too Many Requests\",\"type\":\"about:blank\",\"status\":429,\"detail\":\"Too Many Requests\"} | Too Many Requests\n",
            " Request payload: {'query': '(immigration OR immigrants OR migration OR migrants OR \"border control\" OR emigration OR naturalize OR naturalization OR citizenship OR non-citizens OR borders) lang:en bounding_box:[-1.011698723117755 51.35207343459718 -0.78914042455476 51.56199960906681]', 'max_results': 500, 'start_time': '2020-03-01T00:00:00Z', 'end_time': '2021-03-01T00:00:00Z'}\n",
            "Rate limit hit... Will retry...\n",
            "Will retry in 4 seconds...\n",
            " HTTP Error code: 429: {\"title\":\"Too Many Requests\",\"type\":\"about:blank\",\"status\":429,\"detail\":\"Too Many Requests\"} | Too Many Requests\n",
            " Request payload: {'query': '(immigration OR immigrants OR migration OR migrants OR \"border control\" OR emigration OR naturalize OR naturalization OR citizenship OR non-citizens OR borders) lang:en bounding_box:[-1.1180684981662452 50.777601240439516 -1.0206992425449348 50.859074005035374]', 'max_results': 500, 'start_time': '2020-03-01T00:00:00Z', 'end_time': '2021-03-01T00:00:00Z', 'next_token': 'b26v89c19zqg8o3foset6iytv57siq8j7plznplzdfjb1'}\n",
            "Rate limit hit... Will retry...\n",
            "Will retry in 4 seconds...\n",
            " HTTP Error code: 429: {\"title\":\"Too Many Requests\",\"type\":\"about:blank\",\"status\":429,\"detail\":\"Too Many Requests\"} | Too Many Requests\n",
            " Request payload: {'query': '(immigration OR immigrants OR migration OR migrants OR \"border control\" OR emigration OR naturalize OR naturalization OR citizenship OR non-citizens OR borders) lang:en bounding_box:[-1.1180684981662452 50.777601240439516 -1.0206992425449348 50.859074005035374]', 'max_results': 500, 'start_time': '2020-03-01T00:00:00Z', 'end_time': '2021-03-01T00:00:00Z', 'next_token': 'b26v89c19zqg8o3fo7afo5s7tv6h4lbkxt5lwkwulysn1'}\n",
            "Rate limit hit... Will retry...\n",
            "Will retry in 4 seconds...\n",
            " HTTP Error code: 429: {\"title\":\"Too Many Requests\",\"type\":\"about:blank\",\"status\":429,\"detail\":\"Too Many Requests\"} | Too Many Requests\n",
            " Request payload: {'query': '(immigration OR immigrants OR migration OR migrants OR \"border control\" OR emigration OR naturalize OR naturalization OR citizenship OR non-citizens OR borders) lang:en bounding_box:[-1.4789075042922786 50.879888214968624 -1.3218075288360467 50.956008754153075]', 'max_results': 500, 'start_time': '2020-03-01T00:00:00Z', 'end_time': '2021-03-01T00:00:00Z', 'next_token': 'b26v89c19zqg8o3fosbv3fshez1dou4lt0k4lc6nclu9p'}\n",
            "Rate limit hit... Will retry...\n",
            "Will retry in 4 seconds...\n",
            " HTTP Error code: 429: {\"title\":\"Too Many Requests\",\"type\":\"about:blank\",\"status\":429,\"detail\":\"Too Many Requests\"} | Too Many Requests\n",
            " Request payload: {'query': '(immigration OR immigrants OR migration OR migrants OR \"border control\" OR emigration OR naturalize OR naturalization OR citizenship OR non-citizens OR borders) lang:en bounding_box:[-1.4789075042922786 50.879888214968624 -1.3218075288360467 50.956008754153075]', 'max_results': 500, 'start_time': '2020-03-01T00:00:00Z', 'end_time': '2021-03-01T00:00:00Z', 'next_token': 'b26v89c19zqg8o3fo7jcgf6cbj7mnvhfxbewbl8l44wal'}\n",
            "Rate limit hit... Will retry...\n",
            "Will retry in 4 seconds...\n",
            " HTTP Error code: 429: {\"title\":\"Too Many Requests\",\"type\":\"about:blank\",\"status\":429,\"detail\":\"Too Many Requests\"} | Too Many Requests\n",
            " Request payload: {'query': '(immigration OR immigrants OR migration OR migrants OR \"border control\" OR emigration OR naturalize OR naturalization OR citizenship OR non-citizens OR borders) lang:en bounding_box:[-1.5901866535737765 50.57481136651843 -1.0697929848750078 50.76749148132908]', 'max_results': 500, 'start_time': '2020-03-01T00:00:00Z', 'end_time': '2021-03-01T00:00:00Z', 'next_token': 'b26v89c19zqg8o3fosbsjyxe5ufpxjsqnqk93mijnz2bh'}\n",
            "Rate limit hit... Will retry...\n",
            "Will retry in 4 seconds...\n",
            " HTTP Error code: 429: {\"title\":\"Too Many Requests\",\"type\":\"about:blank\",\"status\":429,\"detail\":\"Too Many Requests\"} | Too Many Requests\n",
            " Request payload: {'query': '(immigration OR immigrants OR migration OR migrants OR \"border control\" OR emigration OR naturalize OR naturalization OR citizenship OR non-citizens OR borders) lang:en bounding_box:[-1.5901866535737765 50.57481136651843 -1.0697929848750078 50.76749148132908]', 'max_results': 500, 'start_time': '2020-03-01T00:00:00Z', 'end_time': '2021-03-01T00:00:00Z', 'next_token': 'b26v89c19zqg8o3fo7jcw1thmrrb41wgps9rsa2h2ram5'}\n",
            "Rate limit hit... Will retry...\n",
            "Will retry in 4 seconds...\n",
            " HTTP Error code: 400: {\"errors\":[{\"parameters\":{\"query\":[\"(immigration OR immigrants OR migration OR migrants OR \\\"border control\\\" OR emigration OR naturalize OR naturalization OR citizenship OR non-citizens OR borders) lang:en bounding_box:[-2.355230804884073 54.451606639514125 -1.2416210830302612 54.918439633731275]\"]},\"message\":\"There were errors processing your request: Height of bounding_box must be less than 25 miles (at position 170), Width of bounding_box must be less than 25 miles (at position 170)\"}],\"title\":\"Invalid Request\",\"detail\":\"One or more parameters to your request was invalid.\",\"type\":\"https://api.twitter.com/2/problems/invalid-request\"} | Bad Request\n",
            " Request payload: {'query': '(immigration OR immigrants OR migration OR migrants OR \"border control\" OR emigration OR naturalize OR naturalization OR citizenship OR non-citizens OR borders) lang:en bounding_box:[-2.355230804884073 54.451606639514125 -1.2416210830302612 54.918439633731275]', 'max_results': 500, 'start_time': '2020-03-01T00:00:00Z', 'end_time': '2021-03-01T00:00:00Z'}\n",
            "Quitting... \n"
          ],
          "name": "stderr"
        },
        {
          "output_type": "stream",
          "text": [
            "An error happened while retrieving County Durham data\n"
          ],
          "name": "stdout"
        },
        {
          "output_type": "stream",
          "text": [
            " HTTP Error code: 429: {\"title\":\"Too Many Requests\",\"type\":\"about:blank\",\"status\":429,\"detail\":\"Too Many Requests\"} | Too Many Requests\n",
            " Request payload: {'query': '(immigration OR immigrants OR migration OR migrants OR \"border control\" OR emigration OR naturalize OR naturalization OR citizenship OR non-citizens OR borders) lang:en bounding_box:[-2.7528901177576603 52.947036607196424 -1.9747543018260112 53.38770316606892]', 'max_results': 500, 'start_time': '2020-03-01T00:00:00Z', 'end_time': '2021-03-01T00:00:00Z'}\n",
            "Rate limit hit... Will retry...\n",
            "Will retry in 4 seconds...\n",
            " HTTP Error code: 400: {\"errors\":[{\"parameters\":{\"query\":[\"(immigration OR immigrants OR migration OR migrants OR \\\"border control\\\" OR emigration OR naturalize OR naturalization OR citizenship OR non-citizens OR borders) lang:en bounding_box:[-2.7528901177576603 52.947036607196424 -1.9747543018260112 53.38770316606892]\"]},\"message\":\"There were errors processing your request: Height of bounding_box must be less than 25 miles (at position 170), Width of bounding_box must be less than 25 miles (at position 170)\"}],\"title\":\"Invalid Request\",\"detail\":\"One or more parameters to your request was invalid.\",\"type\":\"https://api.twitter.com/2/problems/invalid-request\"} | Bad Request\n",
            " Request payload: {'query': '(immigration OR immigrants OR migration OR migrants OR \"border control\" OR emigration OR naturalize OR naturalization OR citizenship OR non-citizens OR borders) lang:en bounding_box:[-2.7528901177576603 52.947036607196424 -1.9747543018260112 53.38770316606892]', 'max_results': 500, 'start_time': '2020-03-01T00:00:00Z', 'end_time': '2021-03-01T00:00:00Z'}\n",
            "Quitting... \n",
            " HTTP Error code: 429: {\"title\":\"Too Many Requests\",\"type\":\"about:blank\",\"status\":429,\"detail\":\"Too Many Requests\"} | Too Many Requests\n",
            " Request payload: {'query': '(immigration OR immigrants OR migration OR migrants OR \"border control\" OR emigration OR naturalize OR naturalization OR citizenship OR non-citizens OR borders) lang:en bounding_box:[-3.1104562077283555 52.982718109939135 -2.346230285456893 53.34488536277767]', 'max_results': 500, 'start_time': '2020-03-01T00:00:00Z', 'end_time': '2021-03-01T00:00:00Z'}\n",
            "Rate limit hit... Will retry...\n",
            "Will retry in 4 seconds...\n"
          ],
          "name": "stderr"
        },
        {
          "output_type": "stream",
          "text": [
            "An error happened while retrieving Cheshire East data\n"
          ],
          "name": "stdout"
        },
        {
          "output_type": "stream",
          "text": [
            " HTTP Error code: 400: {\"errors\":[{\"parameters\":{\"query\":[\"(immigration OR immigrants OR migration OR migrants OR \\\"border control\\\" OR emigration OR naturalize OR naturalization OR citizenship OR non-citizens OR borders) lang:en bounding_box:[-3.1104562077283555 52.982718109939135 -2.346230285456893 53.34488536277767]\"]},\"message\":\"There were errors processing your request: Height of bounding_box must be less than 25 miles (at position 170), Width of bounding_box must be less than 25 miles (at position 170)\"}],\"title\":\"Invalid Request\",\"detail\":\"One or more parameters to your request was invalid.\",\"type\":\"https://api.twitter.com/2/problems/invalid-request\"} | Bad Request\n",
            " Request payload: {'query': '(immigration OR immigrants OR migration OR migrants OR \"border control\" OR emigration OR naturalize OR naturalization OR citizenship OR non-citizens OR borders) lang:en bounding_box:[-3.1104562077283555 52.982718109939135 -2.346230285456893 53.34488536277767]', 'max_results': 500, 'start_time': '2020-03-01T00:00:00Z', 'end_time': '2021-03-01T00:00:00Z'}\n",
            "Quitting... \n"
          ],
          "name": "stderr"
        },
        {
          "output_type": "stream",
          "text": [
            "An error happened while retrieving Cheshire West and Chester data\n"
          ],
          "name": "stdout"
        },
        {
          "output_type": "stream",
          "text": [
            " HTTP Error code: 429: {\"title\":\"Too Many Requests\",\"type\":\"about:blank\",\"status\":429,\"detail\":\"Too Many Requests\"} | Too Many Requests\n",
            " Request payload: {'query': '(immigration OR immigrants OR migration OR migrants OR \"border control\" OR emigration OR naturalize OR naturalization OR citizenship OR non-citizens OR borders) lang:en bounding_box:[-3.23564525067004 52.306553632964736 -2.2324964490588917 52.99818009446098]', 'max_results': 500, 'start_time': '2020-03-01T00:00:00Z', 'end_time': '2021-03-01T00:00:00Z'}\n",
            "Rate limit hit... Will retry...\n",
            "Will retry in 4 seconds...\n",
            " HTTP Error code: 400: {\"errors\":[{\"parameters\":{\"query\":[\"(immigration OR immigrants OR migration OR migrants OR \\\"border control\\\" OR emigration OR naturalize OR naturalization OR citizenship OR non-citizens OR borders) lang:en bounding_box:[-3.23564525067004 52.306553632964736 -2.2324964490588917 52.99818009446098]\"]},\"message\":\"There were errors processing your request: Height of bounding_box must be less than 25 miles (at position 170), Width of bounding_box must be less than 25 miles (at position 170)\"}],\"title\":\"Invalid Request\",\"detail\":\"One or more parameters to your request was invalid.\",\"type\":\"https://api.twitter.com/2/problems/invalid-request\"} | Bad Request\n",
            " Request payload: {'query': '(immigration OR immigrants OR migration OR migrants OR \"border control\" OR emigration OR naturalize OR naturalization OR citizenship OR non-citizens OR borders) lang:en bounding_box:[-3.23564525067004 52.306553632964736 -2.2324964490588917 52.99818009446098]', 'max_results': 500, 'start_time': '2020-03-01T00:00:00Z', 'end_time': '2021-03-01T00:00:00Z'}\n",
            "Quitting... \n",
            " HTTP Error code: 400: {\"errors\":[{\"parameters\":{\"query\":[\"(immigration OR immigrants OR migration OR migrants OR \\\"border control\\\" OR emigration OR naturalize OR naturalization OR citizenship OR non-citizens OR borders) lang:en bounding_box:[-5.723061528727047 49.95871075249427 -4.166789896863749 50.93103170223318]\"]},\"message\":\"There were errors processing your request: Height of bounding_box must be less than 25 miles (at position 170), Width of bounding_box must be less than 25 miles (at position 170)\"}],\"title\":\"Invalid Request\",\"detail\":\"One or more parameters to your request was invalid.\",\"type\":\"https://api.twitter.com/2/problems/invalid-request\"} | Bad Request\n",
            " Request payload: {'query': '(immigration OR immigrants OR migration OR migrants OR \"border control\" OR emigration OR naturalize OR naturalization OR citizenship OR non-citizens OR borders) lang:en bounding_box:[-5.723061528727047 49.95871075249427 -4.166789896863749 50.93103170223318]', 'max_results': 500, 'start_time': '2020-03-01T00:00:00Z', 'end_time': '2021-03-01T00:00:00Z'}\n",
            "Quitting... \n"
          ],
          "name": "stderr"
        },
        {
          "output_type": "stream",
          "text": [
            "An error happened while retrieving Shropshire data\n",
            "An error happened while retrieving Cornwall data\n"
          ],
          "name": "stdout"
        },
        {
          "output_type": "stream",
          "text": [
            " HTTP Error code: 429: {\"title\":\"Too Many Requests\",\"type\":\"about:blank\",\"status\":429,\"detail\":\"Too Many Requests\"} | Too Many Requests\n",
            " Request payload: {'query': '(immigration OR immigrants OR migration OR migrants OR \"border control\" OR emigration OR naturalize OR naturalization OR citizenship OR non-citizens OR borders) lang:en bounding_box:[-6.417737982697574 49.86474946193846 -6.244273426464651 49.98071434585227]', 'max_results': 500, 'start_time': '2020-03-01T00:00:00Z', 'end_time': '2021-03-01T00:00:00Z'}\n",
            "Rate limit hit... Will retry...\n",
            "Will retry in 4 seconds...\n",
            " HTTP Error code: 429: {\"title\":\"Too Many Requests\",\"type\":\"about:blank\",\"status\":429,\"detail\":\"Too Many Requests\"} | Too Many Requests\n",
            " Request payload: {'query': '(immigration OR immigrants OR migration OR migrants OR \"border control\" OR emigration OR naturalize OR naturalization OR citizenship OR non-citizens OR borders) lang:en bounding_box:[-2.3658677823889223 50.94470961161788 -1.485453336602955 51.70294154490052]', 'max_results': 500, 'start_time': '2020-03-01T00:00:00Z', 'end_time': '2021-03-01T00:00:00Z'}\n",
            "Rate limit hit... Will retry...\n",
            "Will retry in 4 seconds...\n",
            " HTTP Error code: 400: {\"errors\":[{\"parameters\":{\"query\":[\"(immigration OR immigrants OR migration OR migrants OR \\\"border control\\\" OR emigration OR naturalize OR naturalization OR citizenship OR non-citizens OR borders) lang:en bounding_box:[-2.3658677823889223 50.94470961161788 -1.485453336602955 51.70294154490052]\"]},\"message\":\"There were errors processing your request: Height of bounding_box must be less than 25 miles (at position 170), Width of bounding_box must be less than 25 miles (at position 170)\"}],\"title\":\"Invalid Request\",\"detail\":\"One or more parameters to your request was invalid.\",\"type\":\"https://api.twitter.com/2/problems/invalid-request\"} | Bad Request\n",
            " Request payload: {'query': '(immigration OR immigrants OR migration OR migrants OR \"border control\" OR emigration OR naturalize OR naturalization OR citizenship OR non-citizens OR borders) lang:en bounding_box:[-2.3658677823889223 50.94470961161788 -1.485453336602955 51.70294154490052]', 'max_results': 500, 'start_time': '2020-03-01T00:00:00Z', 'end_time': '2021-03-01T00:00:00Z'}\n",
            "Quitting... \n"
          ],
          "name": "stderr"
        },
        {
          "output_type": "stream",
          "text": [
            "An error happened while retrieving Wiltshire data\n"
          ],
          "name": "stdout"
        },
        {
          "output_type": "stream",
          "text": [
            " HTTP Error code: 429: {\"title\":\"Too Many Requests\",\"type\":\"about:blank\",\"status\":429,\"detail\":\"Too Many Requests\"} | Too Many Requests\n",
            " Request payload: {'query': '(immigration OR immigrants OR migration OR migrants OR \"border control\" OR emigration OR naturalize OR naturalization OR citizenship OR non-citizens OR borders) lang:en bounding_box:[-0.6688607558460822 52.054404346916236 -0.24092696853561613 52.32320500091134]', 'max_results': 500, 'start_time': '2020-03-01T00:00:00Z', 'end_time': '2021-03-01T00:00:00Z'}\n",
            "Rate limit hit... Will retry...\n",
            "Will retry in 4 seconds...\n",
            " HTTP Error code: 429: {\"title\":\"Too Many Requests\",\"type\":\"about:blank\",\"status\":429,\"detail\":\"Too Many Requests\"} | Too Many Requests\n",
            " Request payload: {'query': '(immigration OR immigrants OR migration OR migrants OR \"border control\" OR emigration OR naturalize OR naturalization OR citizenship OR non-citizens OR borders) lang:en bounding_box:[-0.6688607558460822 52.054404346916236 -0.24092696853561613 52.32320500091134]', 'max_results': 500, 'start_time': '2020-03-01T00:00:00Z', 'end_time': '2021-03-01T00:00:00Z', 'next_token': 'b26v89c19zqg8o3foskrgyg91ad7elfpwezmi0xvezs71'}\n",
            "Rate limit hit... Will retry...\n",
            "Will retry in 4 seconds...\n",
            " HTTP Error code: 429: {\"title\":\"Too Many Requests\",\"type\":\"about:blank\",\"status\":429,\"detail\":\"Too Many Requests\"} | Too Many Requests\n",
            " Request payload: {'query': '(immigration OR immigrants OR migration OR migrants OR \"border control\" OR emigration OR naturalize OR naturalization OR citizenship OR non-citizens OR borders) lang:en bounding_box:[-0.6688607558460822 52.054404346916236 -0.24092696853561613 52.32320500091134]', 'max_results': 500, 'start_time': '2020-03-01T00:00:00Z', 'end_time': '2021-03-01T00:00:00Z', 'next_token': 'b26v89c19zqg8o3fo7aetq8s63ffjm76xm2fxis2xjj3x'}\n",
            "Rate limit hit... Will retry...\n",
            "Will retry in 4 seconds...\n",
            " HTTP Error code: 400: {\"errors\":[{\"parameters\":{\"query\":[\"(immigration OR immigrants OR migration OR migrants OR \\\"border control\\\" OR emigration OR naturalize OR naturalization OR citizenship OR non-citizens OR borders) lang:en bounding_box:[-0.7024081464382981 51.805228519429626 -0.14355771291430575 52.1911834407633]\"]},\"message\":\"There were errors processing your request: Height of bounding_box must be less than 25 miles (at position 170)\"}],\"title\":\"Invalid Request\",\"detail\":\"One or more parameters to your request was invalid.\",\"type\":\"https://api.twitter.com/2/problems/invalid-request\"} | Bad Request\n",
            " Request payload: {'query': '(immigration OR immigrants OR migration OR migrants OR \"border control\" OR emigration OR naturalize OR naturalization OR citizenship OR non-citizens OR borders) lang:en bounding_box:[-0.7024081464382981 51.805228519429626 -0.14355771291430575 52.1911834407633]', 'max_results': 500, 'start_time': '2020-03-01T00:00:00Z', 'end_time': '2021-03-01T00:00:00Z'}\n",
            "Quitting... \n"
          ],
          "name": "stderr"
        },
        {
          "output_type": "stream",
          "text": [
            "An error happened while retrieving Central Bedfordshire data\n"
          ],
          "name": "stdout"
        },
        {
          "output_type": "stream",
          "text": [
            " HTTP Error code: 429: {\"title\":\"Too Many Requests\",\"type\":\"about:blank\",\"status\":429,\"detail\":\"Too Many Requests\"} | Too Many Requests\n",
            " Request payload: {'query': '(immigration OR immigrants OR migration OR migrants OR \"border control\" OR emigration OR naturalize OR naturalization OR citizenship OR non-citizens OR borders) lang:en bounding_box:[-2.6898864817674006 54.782255231596594 -1.4617246944767528 55.81107189401146]', 'max_results': 500, 'start_time': '2020-03-01T00:00:00Z', 'end_time': '2021-03-01T00:00:00Z'}\n",
            "Rate limit hit... Will retry...\n",
            "Will retry in 4 seconds...\n",
            " HTTP Error code: 400: {\"errors\":[{\"parameters\":{\"query\":[\"(immigration OR immigrants OR migration OR migrants OR \\\"border control\\\" OR emigration OR naturalize OR naturalization OR citizenship OR non-citizens OR borders) lang:en bounding_box:[-2.6898864817674006 54.782255231596594 -1.4617246944767528 55.81107189401146]\"]},\"message\":\"There were errors processing your request: Height of bounding_box must be less than 25 miles (at position 170), Width of bounding_box must be less than 25 miles (at position 170)\"}],\"title\":\"Invalid Request\",\"detail\":\"One or more parameters to your request was invalid.\",\"type\":\"https://api.twitter.com/2/problems/invalid-request\"} | Bad Request\n",
            " Request payload: {'query': '(immigration OR immigrants OR migration OR migrants OR \"border control\" OR emigration OR naturalize OR naturalization OR citizenship OR non-citizens OR borders) lang:en bounding_box:[-2.6898864817674006 54.782255231596594 -1.4617246944767528 55.81107189401146]', 'max_results': 500, 'start_time': '2020-03-01T00:00:00Z', 'end_time': '2021-03-01T00:00:00Z'}\n",
            "Quitting... \n"
          ],
          "name": "stderr"
        },
        {
          "output_type": "stream",
          "text": [
            "An error happened while retrieving Northumberland data\n"
          ],
          "name": "stdout"
        },
        {
          "output_type": "stream",
          "text": [
            " HTTP Error code: 400: {\"errors\":[{\"parameters\":{\"query\":[\"(immigration OR immigrants OR migration OR migrants OR \\\"border control\\\" OR emigration OR naturalize OR naturalization OR citizenship OR non-citizens OR borders) lang:en bounding_box:[-1.1409789112536126 51.71840352942236 -0.537944109632555 52.08176016568565]\"]},\"message\":\"There were errors processing your request: Height of bounding_box must be less than 25 miles (at position 170), Width of bounding_box must be less than 25 miles (at position 170)\"}],\"title\":\"Invalid Request\",\"detail\":\"One or more parameters to your request was invalid.\",\"type\":\"https://api.twitter.com/2/problems/invalid-request\"} | Bad Request\n",
            " Request payload: {'query': '(immigration OR immigrants OR migration OR migrants OR \"border control\" OR emigration OR naturalize OR naturalization OR citizenship OR non-citizens OR borders) lang:en bounding_box:[-1.1409789112536126 51.71840352942236 -0.537944109632555 52.08176016568565]', 'max_results': 500, 'start_time': '2020-03-01T00:00:00Z', 'end_time': '2021-03-01T00:00:00Z'}\n",
            "Quitting... \n",
            " HTTP Error code: 429: {\"title\":\"Too Many Requests\",\"type\":\"about:blank\",\"status\":429,\"detail\":\"Too Many Requests\"} | Too Many Requests\n",
            " Request payload: {'query': '(immigration OR immigrants OR migration OR migrants OR \"border control\" OR emigration OR naturalize OR naturalization OR citizenship OR non-citizens OR borders) lang:en bounding_box:[-0.7621388662732196 51.58935542783622 -0.5052149480791739 51.76835763326216]', 'max_results': 500, 'start_time': '2020-03-01T00:00:00Z', 'end_time': '2021-03-01T00:00:00Z'}\n",
            "Rate limit hit... Will retry...\n",
            "Will retry in 4 seconds...\n"
          ],
          "name": "stderr"
        },
        {
          "output_type": "stream",
          "text": [
            "An error happened while retrieving Aylesbury Vale data\n"
          ],
          "name": "stdout"
        },
        {
          "output_type": "stream",
          "text": [
            " HTTP Error code: 429: {\"title\":\"Too Many Requests\",\"type\":\"about:blank\",\"status\":429,\"detail\":\"Too Many Requests\"} | Too Many Requests\n",
            " Request payload: {'query': '(immigration OR immigrants OR migration OR migrants OR \"border control\" OR emigration OR naturalize OR naturalization OR citizenship OR non-citizens OR borders) lang:en bounding_box:[-0.7621388662732196 51.58935542783622 -0.5052149480791739 51.76835763326216]', 'max_results': 500, 'start_time': '2020-03-01T00:00:00Z', 'end_time': '2021-03-01T00:00:00Z', 'next_token': 'b26v89c19zqg8o3fo7jfezfn3xmt8mppu6bnaaeypr5od'}\n",
            "Rate limit hit... Will retry...\n",
            "Will retry in 4 seconds...\n",
            " HTTP Error code: 429: {\"title\":\"Too Many Requests\",\"type\":\"about:blank\",\"status\":429,\"detail\":\"Too Many Requests\"} | Too Many Requests\n",
            " Request payload: {'query': '(immigration OR immigrants OR migration OR migrants OR \"border control\" OR emigration OR naturalize OR naturalization OR citizenship OR non-citizens OR borders) lang:en bounding_box:[-0.7032263754771328 51.48528437816998 -0.47657693171996485 51.63455199797699]', 'max_results': 500, 'start_time': '2020-03-01T00:00:00Z', 'end_time': '2021-03-01T00:00:00Z'}\n",
            "Rate limit hit... Will retry...\n",
            "Will retry in 4 seconds...\n",
            " HTTP Error code: 429: {\"title\":\"Too Many Requests\",\"type\":\"about:blank\",\"status\":429,\"detail\":\"Too Many Requests\"} | Too Many Requests\n",
            " Request payload: {'query': '(immigration OR immigrants OR migration OR migrants OR \"border control\" OR emigration OR naturalize OR naturalization OR citizenship OR non-citizens OR borders) lang:en bounding_box:[-0.9511497742439987 51.54475354940783 -0.669678984884917 51.782630234359246]', 'max_results': 500, 'start_time': '2020-03-01T00:00:00Z', 'end_time': '2021-03-01T00:00:00Z', 'next_token': 'b26v89c19zqg8o3foseufmze8h8se1w73osmpktuiuoot'}\n",
            "Rate limit hit... Will retry...\n",
            "Will retry in 4 seconds...\n",
            " HTTP Error code: 429: {\"title\":\"Too Many Requests\",\"type\":\"about:blank\",\"status\":429,\"detail\":\"Too Many Requests\"} | Too Many Requests\n",
            " Request payload: {'query': '(immigration OR immigrants OR migration OR migrants OR \"border control\" OR emigration OR naturalize OR naturalization OR citizenship OR non-citizens OR borders) lang:en bounding_box:[0.0683636081438399 52.1578807048701 0.1845521316583456 52.23697470261645]', 'max_results': 500, 'start_time': '2020-03-01T00:00:00Z', 'end_time': '2021-03-01T00:00:00Z', 'next_token': 'b26v89c19zqg8o3fos8w5kacdjcxnmsv31c2vgu2psjgd'}\n",
            "Rate limit hit... Will retry...\n",
            "Will retry in 4 seconds...\n",
            " HTTP Error code: 429: {\"title\":\"Too Many Requests\",\"type\":\"about:blank\",\"status\":429,\"detail\":\"Too Many Requests\"} | Too Many Requests\n",
            " Request payload: {'query': '(immigration OR immigrants OR migration OR migrants OR \"border control\" OR emigration OR naturalize OR naturalization OR citizenship OR non-citizens OR borders) lang:en bounding_box:[-0.19756082947738562 52.385647630711084 0.23610056110492117 52.74008389128869]', 'max_results': 500, 'start_time': '2020-03-01T00:00:00Z', 'end_time': '2021-03-01T00:00:00Z', 'next_token': 'b26v89c19zqg8o3fosksb5gs25yglx2qssinhkin8aa2l'}\n",
            "Rate limit hit... Will retry...\n",
            "Will retry in 4 seconds...\n",
            " HTTP Error code: 429: {\"title\":\"Too Many Requests\",\"type\":\"about:blank\",\"status\":429,\"detail\":\"Too Many Requests\"} | Too Many Requests\n",
            " Request payload: {'query': '(immigration OR immigrants OR migration OR migrants OR \"border control\" OR emigration OR naturalize OR naturalization OR citizenship OR non-citizens OR borders) lang:en bounding_box:[-0.19756082947738562 52.385647630711084 0.23610056110492117 52.74008389128869]', 'max_results': 500, 'start_time': '2020-03-01T00:00:00Z', 'end_time': '2021-03-01T00:00:00Z', 'next_token': 'b26v89c19zqg8o3foseuuso1axq9ys8nowd9p5rmk52f1'}\n",
            "Rate limit hit... Will retry...\n",
            "Will retry in 4 seconds...\n",
            " HTTP Error code: 400: {\"errors\":[{\"parameters\":{\"query\":[\"(immigration OR immigrants OR migration OR migrants OR \\\"border control\\\" OR emigration OR naturalize OR naturalization OR citizenship OR non-citizens OR borders) lang:en bounding_box:[-0.5003055738461661 52.15847539658248 0.051180798328315014 52.583085279220754]\"]},\"message\":\"There were errors processing your request: Height of bounding_box must be less than 25 miles (at position 170)\"}],\"title\":\"Invalid Request\",\"detail\":\"One or more parameters to your request was invalid.\",\"type\":\"https://api.twitter.com/2/problems/invalid-request\"} | Bad Request\n",
            " Request payload: {'query': '(immigration OR immigrants OR migration OR migrants OR \"border control\" OR emigration OR naturalize OR naturalization OR citizenship OR non-citizens OR borders) lang:en bounding_box:[-0.5003055738461661 52.15847539658248 0.051180798328315014 52.583085279220754]', 'max_results': 500, 'start_time': '2020-03-01T00:00:00Z', 'end_time': '2021-03-01T00:00:00Z'}\n",
            "Quitting... \n",
            " HTTP Error code: 429: {\"title\":\"Too Many Requests\",\"type\":\"about:blank\",\"status\":429,\"detail\":\"Too Many Requests\"} | Too Many Requests\n",
            " Request payload: {'query': '(immigration OR immigrants OR migration OR migrants OR \"border control\" OR emigration OR naturalize OR naturalization OR citizenship OR non-citizens OR borders) lang:en bounding_box:[-0.2351993652637745 52.00563962650119 0.4210203238815282 52.35353427824264]', 'max_results': 500, 'start_time': '2020-03-01T00:00:00Z', 'end_time': '2021-03-01T00:00:00Z'}\n",
            "Rate limit hit... Will retry...\n",
            "Will retry in 4 seconds...\n"
          ],
          "name": "stderr"
        },
        {
          "output_type": "stream",
          "text": [
            "An error happened while retrieving Huntingdonshire data\n"
          ],
          "name": "stdout"
        },
        {
          "output_type": "stream",
          "text": [
            " HTTP Error code: 400: {\"errors\":[{\"parameters\":{\"query\":[\"(immigration OR immigrants OR migration OR migrants OR \\\"border control\\\" OR emigration OR naturalize OR naturalization OR citizenship OR non-citizens OR borders) lang:en bounding_box:[-0.2351993652637745 52.00563962650119 0.4210203238815282 52.35353427824264]\"]},\"message\":\"There were errors processing your request: Width of bounding_box must be less than 25 miles (at position 170)\"}],\"title\":\"Invalid Request\",\"detail\":\"One or more parameters to your request was invalid.\",\"type\":\"https://api.twitter.com/2/problems/invalid-request\"} | Bad Request\n",
            " Request payload: {'query': '(immigration OR immigrants OR migration OR migrants OR \"border control\" OR emigration OR naturalize OR naturalization OR citizenship OR non-citizens OR borders) lang:en bounding_box:[-0.2351993652637745 52.00563962650119 0.4210203238815282 52.35353427824264]', 'max_results': 500, 'start_time': '2020-03-01T00:00:00Z', 'end_time': '2021-03-01T00:00:00Z'}\n",
            "Quitting... \n",
            " HTTP Error code: 429: {\"title\":\"Too Many Requests\",\"type\":\"about:blank\",\"status\":429,\"detail\":\"Too Many Requests\"} | Too Many Requests\n",
            " Request payload: {'query': '(immigration OR immigrants OR migration OR migrants OR \"border control\" OR emigration OR naturalize OR naturalization OR citizenship OR non-citizens OR borders) lang:en bounding_box:[-3.5801196760193825 54.453985406363635 -2.9828124776701666 54.954715828186366]', 'max_results': 500, 'start_time': '2020-03-01T00:00:00Z', 'end_time': '2021-03-01T00:00:00Z'}\n",
            "Rate limit hit... Will retry...\n",
            "Will retry in 4 seconds...\n"
          ],
          "name": "stderr"
        },
        {
          "output_type": "stream",
          "text": [
            "An error happened while retrieving South Cambridgeshire data\n"
          ],
          "name": "stdout"
        },
        {
          "output_type": "stream",
          "text": [
            " HTTP Error code: 400: {\"errors\":[{\"parameters\":{\"query\":[\"(immigration OR immigrants OR migration OR migrants OR \\\"border control\\\" OR emigration OR naturalize OR naturalization OR citizenship OR non-citizens OR borders) lang:en bounding_box:[-3.5801196760193825 54.453985406363635 -2.9828124776701666 54.954715828186366]\"]},\"message\":\"There were errors processing your request: Height of bounding_box must be less than 25 miles (at position 170)\"}],\"title\":\"Invalid Request\",\"detail\":\"One or more parameters to your request was invalid.\",\"type\":\"https://api.twitter.com/2/problems/invalid-request\"} | Bad Request\n",
            " Request payload: {'query': '(immigration OR immigrants OR migration OR migrants OR \"border control\" OR emigration OR naturalize OR naturalization OR citizenship OR non-citizens OR borders) lang:en bounding_box:[-3.5801196760193825 54.453985406363635 -2.9828124776701666 54.954715828186366]', 'max_results': 500, 'start_time': '2020-03-01T00:00:00Z', 'end_time': '2021-03-01T00:00:00Z'}\n",
            "Quitting... \n"
          ],
          "name": "stderr"
        },
        {
          "output_type": "stream",
          "text": [
            "An error happened while retrieving Allerdale data\n"
          ],
          "name": "stdout"
        },
        {
          "output_type": "stream",
          "text": [
            " HTTP Error code: 429: Rate limit exceeded\n",
            " | Too Many Requests\n",
            " Request payload: {'query': '(immigration OR immigrants OR migration OR migrants OR \"border control\" OR emigration OR naturalize OR naturalization OR citizenship OR non-citizens OR borders) lang:en bounding_box:[-3.2765567026117672 54.044242816534826 -3.1423671402429023 54.21848748826174]', 'max_results': 500, 'start_time': '2020-03-01T00:00:00Z', 'end_time': '2021-03-01T00:00:00Z', 'next_token': 'b26v89c19zqg8o3fo7af8gyj2xruquvb9rd5jfv3basu5'}\n",
            "Rate limit hit... Will retry...\n",
            "Will retry in 4 seconds...\n",
            " HTTP Error code: 429: Rate limit exceeded\n",
            " | Too Many Requests\n",
            " Request payload: {'query': '(immigration OR immigrants OR migration OR migrants OR \"border control\" OR emigration OR naturalize OR naturalization OR citizenship OR non-citizens OR borders) lang:en bounding_box:[-3.2765567026117672 54.044242816534826 -3.1423671402429023 54.21848748826174]', 'max_results': 500, 'start_time': '2020-03-01T00:00:00Z', 'end_time': '2021-03-01T00:00:00Z', 'next_token': 'b26v89c19zqg8o3fo7af8gyj2xruquvb9rd5jfv3basu5'}\n",
            "Rate limit hit... Will retry...\n",
            "Will retry in 16 seconds...\n",
            " HTTP Error code: 429: Rate limit exceeded\n",
            " | Too Many Requests\n",
            " Request payload: {'query': '(immigration OR immigrants OR migration OR migrants OR \"border control\" OR emigration OR naturalize OR naturalization OR citizenship OR non-citizens OR borders) lang:en bounding_box:[-3.2765567026117672 54.044242816534826 -3.1423671402429023 54.21848748826174]', 'max_results': 500, 'start_time': '2020-03-01T00:00:00Z', 'end_time': '2021-03-01T00:00:00Z', 'next_token': 'b26v89c19zqg8o3fo7af8gyj2xruquvb9rd5jfv3basu5'}\n",
            "Rate limit hit... Will retry...\n",
            "Will retry in 36 seconds...\n",
            " HTTP Error code: 429: Rate limit exceeded\n",
            " | Too Many Requests\n",
            " Request payload: {'query': '(immigration OR immigrants OR migration OR migrants OR \"border control\" OR emigration OR naturalize OR naturalization OR citizenship OR non-citizens OR borders) lang:en bounding_box:[-3.2765567026117672 54.044242816534826 -3.1423671402429023 54.21848748826174]', 'max_results': 500, 'start_time': '2020-03-01T00:00:00Z', 'end_time': '2021-03-01T00:00:00Z', 'next_token': 'b26v89c19zqg8o3fo7af8gyj2xruquvb9rd5jfv3basu5'}\n",
            "Rate limit hit... Will retry...\n",
            "Will retry in 64 seconds...\n",
            " HTTP Error code: 429: Rate limit exceeded\n",
            " | Too Many Requests\n",
            " Request payload: {'query': '(immigration OR immigrants OR migration OR migrants OR \"border control\" OR emigration OR naturalize OR naturalization OR citizenship OR non-citizens OR borders) lang:en bounding_box:[-3.2765567026117672 54.044242816534826 -3.1423671402429023 54.21848748826174]', 'max_results': 500, 'start_time': '2020-03-01T00:00:00Z', 'end_time': '2021-03-01T00:00:00Z', 'next_token': 'b26v89c19zqg8o3fo7af8gyj2xruquvb9rd5jfv3basu5'}\n",
            "Rate limit hit... Will retry...\n",
            "Will retry in 100 seconds...\n",
            " HTTP Error code: 429: Rate limit exceeded\n",
            " | Too Many Requests\n",
            " Request payload: {'query': '(immigration OR immigrants OR migration OR migrants OR \"border control\" OR emigration OR naturalize OR naturalization OR citizenship OR non-citizens OR borders) lang:en bounding_box:[-3.2765567026117672 54.044242816534826 -3.1423671402429023 54.21848748826174]', 'max_results': 500, 'start_time': '2020-03-01T00:00:00Z', 'end_time': '2021-03-01T00:00:00Z', 'next_token': 'b26v89c19zqg8o3fo7af8gyj2xruquvb9rd5jfv3basu5'}\n",
            "Rate limit hit... Will retry...\n",
            "Will retry in 144 seconds...\n"
          ],
          "name": "stderr"
        },
        {
          "output_type": "stream",
          "text": [
            "An error happened while retrieving Barrow-in-Furness data\n"
          ],
          "name": "stdout"
        },
        {
          "output_type": "stream",
          "text": [
            " HTTP Error code: 429: Rate limit exceeded\n",
            " | Too Many Requests\n",
            " Request payload: {'query': '(immigration OR immigrants OR migration OR migrants OR \"border control\" OR emigration OR naturalize OR naturalization OR citizenship OR non-citizens OR borders) lang:en bounding_box:[-3.1317301627380534 54.77630831447281 -2.482056305903427 55.18902436286351]', 'max_results': 500, 'start_time': '2020-03-01T00:00:00Z', 'end_time': '2021-03-01T00:00:00Z'}\n",
            "Rate limit hit... Will retry...\n",
            "Will retry in 4 seconds...\n",
            " HTTP Error code: 429: Rate limit exceeded\n",
            " | Too Many Requests\n",
            " Request payload: {'query': '(immigration OR immigrants OR migration OR migrants OR \"border control\" OR emigration OR naturalize OR naturalization OR citizenship OR non-citizens OR borders) lang:en bounding_box:[-3.1317301627380534 54.77630831447281 -2.482056305903427 55.18902436286351]', 'max_results': 500, 'start_time': '2020-03-01T00:00:00Z', 'end_time': '2021-03-01T00:00:00Z'}\n",
            "Rate limit hit... Will retry...\n",
            "Will retry in 16 seconds...\n",
            " HTTP Error code: 429: Rate limit exceeded\n",
            " | Too Many Requests\n",
            " Request payload: {'query': '(immigration OR immigrants OR migration OR migrants OR \"border control\" OR emigration OR naturalize OR naturalization OR citizenship OR non-citizens OR borders) lang:en bounding_box:[-3.1317301627380534 54.77630831447281 -2.482056305903427 55.18902436286351]', 'max_results': 500, 'start_time': '2020-03-01T00:00:00Z', 'end_time': '2021-03-01T00:00:00Z'}\n",
            "Rate limit hit... Will retry...\n",
            "Will retry in 36 seconds...\n",
            " HTTP Error code: 429: Rate limit exceeded\n",
            " | Too Many Requests\n",
            " Request payload: {'query': '(immigration OR immigrants OR migration OR migrants OR \"border control\" OR emigration OR naturalize OR naturalization OR citizenship OR non-citizens OR borders) lang:en bounding_box:[-3.1317301627380534 54.77630831447281 -2.482056305903427 55.18902436286351]', 'max_results': 500, 'start_time': '2020-03-01T00:00:00Z', 'end_time': '2021-03-01T00:00:00Z'}\n",
            "Rate limit hit... Will retry...\n",
            "Will retry in 64 seconds...\n",
            " HTTP Error code: 400: {\"errors\":[{\"parameters\":{\"query\":[\"(immigration OR immigrants OR migration OR migrants OR \\\"border control\\\" OR emigration OR naturalize OR naturalization OR citizenship OR non-citizens OR borders) lang:en bounding_box:[-3.1317301627380534 54.77630831447281 -2.482056305903427 55.18902436286351]\"]},\"message\":\"There were errors processing your request: Height of bounding_box must be less than 25 miles (at position 170), Width of bounding_box must be less than 25 miles (at position 170)\"}],\"title\":\"Invalid Request\",\"detail\":\"One or more parameters to your request was invalid.\",\"type\":\"https://api.twitter.com/2/problems/invalid-request\"} | Bad Request\n",
            " Request payload: {'query': '(immigration OR immigrants OR migration OR migrants OR \"border control\" OR emigration OR naturalize OR naturalization OR citizenship OR non-citizens OR borders) lang:en bounding_box:[-3.1317301627380534 54.77630831447281 -2.482056305903427 55.18902436286351]', 'max_results': 500, 'start_time': '2020-03-01T00:00:00Z', 'end_time': '2021-03-01T00:00:00Z'}\n",
            "Quitting... \n"
          ],
          "name": "stderr"
        },
        {
          "output_type": "stream",
          "text": [
            "An error happened while retrieving Carlisle data\n"
          ],
          "name": "stdout"
        },
        {
          "output_type": "stream",
          "text": [
            " HTTP Error code: 429: {\"title\":\"Too Many Requests\",\"type\":\"about:blank\",\"status\":429,\"detail\":\"Too Many Requests\"} | Too Many Requests\n",
            " Request payload: {'query': '(immigration OR immigrants OR migration OR migrants OR \"border control\" OR emigration OR naturalize OR naturalization OR citizenship OR non-citizens OR borders) lang:en bounding_box:[-3.639850395854304 54.18815821093043 -3.114547352922528 54.607415868157304]', 'max_results': 500, 'start_time': '2020-03-01T00:00:00Z', 'end_time': '2021-03-01T00:00:00Z'}\n",
            "Rate limit hit... Will retry...\n",
            "Will retry in 4 seconds...\n",
            " HTTP Error code: 400: {\"errors\":[{\"parameters\":{\"query\":[\"(immigration OR immigrants OR migration OR migrants OR \\\"border control\\\" OR emigration OR naturalize OR naturalization OR citizenship OR non-citizens OR borders) lang:en bounding_box:[-3.639850395854304 54.18815821093043 -3.114547352922528 54.607415868157304]\"]},\"message\":\"There were errors processing your request: Height of bounding_box must be less than 25 miles (at position 170)\"}],\"title\":\"Invalid Request\",\"detail\":\"One or more parameters to your request was invalid.\",\"type\":\"https://api.twitter.com/2/problems/invalid-request\"} | Bad Request\n",
            " Request payload: {'query': '(immigration OR immigrants OR migration OR migrants OR \"border control\" OR emigration OR naturalize OR naturalization OR citizenship OR non-citizens OR borders) lang:en bounding_box:[-3.639850395854304 54.18815821093043 -3.114547352922528 54.607415868157304]', 'max_results': 500, 'start_time': '2020-03-01T00:00:00Z', 'end_time': '2021-03-01T00:00:00Z'}\n",
            "Quitting... \n"
          ],
          "name": "stderr"
        },
        {
          "output_type": "stream",
          "text": [
            "An error happened while retrieving Copeland data\n"
          ],
          "name": "stdout"
        },
        {
          "output_type": "stream",
          "text": [
            " HTTP Error code: 429: {\"title\":\"Too Many Requests\",\"type\":\"about:blank\",\"status\":429,\"detail\":\"Too Many Requests\"} | Too Many Requests\n",
            " Request payload: {'query': '(immigration OR immigrants OR migration OR migrants OR \"border control\" OR emigration OR naturalize OR naturalization OR citizenship OR non-citizens OR borders) lang:en bounding_box:[-3.0940916269516645 54.354671890396425 -2.1588558355637826 54.85659169564391]', 'max_results': 500, 'start_time': '2020-03-01T00:00:00Z', 'end_time': '2021-03-01T00:00:00Z'}\n",
            "Rate limit hit... Will retry...\n",
            "Will retry in 4 seconds...\n",
            " HTTP Error code: 400: {\"errors\":[{\"parameters\":{\"query\":[\"(immigration OR immigrants OR migration OR migrants OR \\\"border control\\\" OR emigration OR naturalize OR naturalization OR citizenship OR non-citizens OR borders) lang:en bounding_box:[-3.0940916269516645 54.354671890396425 -2.1588558355637826 54.85659169564391]\"]},\"message\":\"There were errors processing your request: Height of bounding_box must be less than 25 miles (at position 170), Width of bounding_box must be less than 25 miles (at position 170)\"}],\"title\":\"Invalid Request\",\"detail\":\"One or more parameters to your request was invalid.\",\"type\":\"https://api.twitter.com/2/problems/invalid-request\"} | Bad Request\n",
            " Request payload: {'query': '(immigration OR immigrants OR migration OR migrants OR \"border control\" OR emigration OR naturalize OR naturalization OR citizenship OR non-citizens OR borders) lang:en bounding_box:[-3.0940916269516645 54.354671890396425 -2.1588558355637826 54.85659169564391]', 'max_results': 500, 'start_time': '2020-03-01T00:00:00Z', 'end_time': '2021-03-01T00:00:00Z'}\n",
            "Quitting... \n",
            " HTTP Error code: 429: {\"title\":\"Too Many Requests\",\"type\":\"about:blank\",\"status\":429,\"detail\":\"Too Many Requests\"} | Too Many Requests\n",
            " Request payload: {'query': '(immigration OR immigrants OR migration OR migrants OR \"border control\" OR emigration OR naturalize OR naturalization OR citizenship OR non-citizens OR borders) lang:en bounding_box:[-3.2421910829807166 54.09360222866224 -2.310228207748173 54.49977666821678]', 'max_results': 500, 'start_time': '2020-03-01T00:00:00Z', 'end_time': '2021-03-01T00:00:00Z'}\n",
            "Rate limit hit... Will retry...\n",
            "Will retry in 4 seconds...\n"
          ],
          "name": "stderr"
        },
        {
          "output_type": "stream",
          "text": [
            "An error happened while retrieving Eden data\n"
          ],
          "name": "stdout"
        },
        {
          "output_type": "stream",
          "text": [
            " HTTP Error code: 400: {\"errors\":[{\"parameters\":{\"query\":[\"(immigration OR immigrants OR migration OR migrants OR \\\"border control\\\" OR emigration OR naturalize OR naturalization OR citizenship OR non-citizens OR borders) lang:en bounding_box:[-3.2421910829807166 54.09360222866224 -2.310228207748173 54.49977666821678]\"]},\"message\":\"There were errors processing your request: Height of bounding_box must be less than 25 miles (at position 170), Width of bounding_box must be less than 25 miles (at position 170)\"}],\"title\":\"Invalid Request\",\"detail\":\"One or more parameters to your request was invalid.\",\"type\":\"https://api.twitter.com/2/problems/invalid-request\"} | Bad Request\n",
            " Request payload: {'query': '(immigration OR immigrants OR migration OR migrants OR \"border control\" OR emigration OR naturalize OR naturalization OR citizenship OR non-citizens OR borders) lang:en bounding_box:[-3.2421910829807166 54.09360222866224 -2.310228207748173 54.49977666821678]', 'max_results': 500, 'start_time': '2020-03-01T00:00:00Z', 'end_time': '2021-03-01T00:00:00Z'}\n",
            "Quitting... \n"
          ],
          "name": "stderr"
        },
        {
          "output_type": "stream",
          "text": [
            "An error happened while retrieving South Lakeland data\n"
          ],
          "name": "stdout"
        },
        {
          "output_type": "stream",
          "text": [
            " HTTP Error code: 429: {\"title\":\"Too Many Requests\",\"type\":\"about:blank\",\"status\":429,\"detail\":\"Too Many Requests\"} | Too Many Requests\n",
            " Request payload: {'query': '(immigration OR immigrants OR migration OR migrants OR \"border control\" OR emigration OR naturalize OR naturalization OR citizenship OR non-citizens OR borders) lang:en bounding_box:[-1.6098241505058049 52.924438322126036 -1.3070794061370243 53.133769804883286]', 'max_results': 500, 'start_time': '2020-03-01T00:00:00Z', 'end_time': '2021-03-01T00:00:00Z'}\n",
            "Rate limit hit... Will retry...\n",
            "Will retry in 4 seconds...\n",
            " HTTP Error code: 429: {\"title\":\"Too Many Requests\",\"type\":\"about:blank\",\"status\":429,\"detail\":\"Too Many Requests\"} | Too Many Requests\n",
            " Request payload: {'query': '(immigration OR immigrants OR migration OR migrants OR \"border control\" OR emigration OR naturalize OR naturalization OR citizenship OR non-citizens OR borders) lang:en bounding_box:[-1.6098241505058049 52.924438322126036 -1.3070794061370243 53.133769804883286]', 'max_results': 500, 'start_time': '2020-03-01T00:00:00Z', 'end_time': '2021-03-01T00:00:00Z', 'next_token': 'b26v89c19zqg8o3foskt5ej1i85wnrshouisb8g77ehz1'}\n",
            "Rate limit hit... Will retry...\n",
            "Will retry in 4 seconds...\n",
            " HTTP Error code: 429: {\"title\":\"Too Many Requests\",\"type\":\"about:blank\",\"status\":429,\"detail\":\"Too Many Requests\"} | Too Many Requests\n",
            " Request payload: {'query': '(immigration OR immigrants OR migration OR migrants OR \"border control\" OR emigration OR naturalize OR naturalization OR citizenship OR non-citizens OR borders) lang:en bounding_box:[-1.6098241505058049 52.924438322126036 -1.3070794061370243 53.133769804883286]', 'max_results': 500, 'start_time': '2020-03-01T00:00:00Z', 'end_time': '2021-03-01T00:00:00Z', 'next_token': 'b26v89c19zqg8o3fosbvi28hnx6anbt3iv1swqcxstsot'}\n",
            "Rate limit hit... Will retry...\n",
            "Will retry in 4 seconds...\n",
            " HTTP Error code: 429: {\"title\":\"Too Many Requests\",\"type\":\"about:blank\",\"status\":429,\"detail\":\"Too Many Requests\"} | Too Many Requests\n",
            " Request payload: {'query': '(immigration OR immigrants OR migration OR migrants OR \"border control\" OR emigration OR naturalize OR naturalization OR citizenship OR non-citizens OR borders) lang:en bounding_box:[-1.37826533251563 53.080842242481594 -1.1663440114574835 53.312772010309224]', 'max_results': 500, 'start_time': '2020-03-01T00:00:00Z', 'end_time': '2021-03-01T00:00:00Z', 'next_token': 'b26v89c19zqg8o3fo7gf7xst1ngvp7bp93sjfr86vq5q5'}\n",
            "Rate limit hit... Will retry...\n",
            "Will retry in 4 seconds...\n",
            " HTTP Error code: 429: {\"title\":\"Too Many Requests\",\"type\":\"about:blank\",\"status\":429,\"detail\":\"Too Many Requests\"} | Too Many Requests\n",
            " Request payload: {'query': '(immigration OR immigrants OR migration OR migrants OR \"border control\" OR emigration OR naturalize OR naturalization OR citizenship OR non-citizens OR borders) lang:en bounding_box:[-1.4838168785252854 53.21226911091725 -1.3013518028651827 53.29909410092451]', 'max_results': 500, 'start_time': '2020-03-01T00:00:00Z', 'end_time': '2021-03-01T00:00:00Z', 'next_token': 'b26v89c19zqg8o3fos5upabokiy6hltvl2vncse7ewcjh'}\n",
            "Rate limit hit... Will retry...\n",
            "Will retry in 4 seconds...\n",
            " HTTP Error code: 429: {\"title\":\"Too Many Requests\",\"type\":\"about:blank\",\"status\":429,\"detail\":\"Too Many Requests\"} | Too Many Requests\n",
            " Request payload: {'query': '(immigration OR immigrants OR migration OR migrants OR \"border control\" OR emigration OR naturalize OR naturalization OR citizenship OR non-citizens OR borders) lang:en bounding_box:[-1.4838168785252854 53.21226911091725 -1.3013518028651827 53.29909410092451]', 'max_results': 500, 'start_time': '2020-03-01T00:00:00Z', 'end_time': '2021-03-01T00:00:00Z', 'next_token': 'b26v89c19zqg8o3fo7agxkhwrgvn3ywkmuz9b4x9958cd'}\n",
            "Rate limit hit... Will retry...\n",
            "Will retry in 4 seconds...\n",
            " HTTP Error code: 400: {\"errors\":[{\"parameters\":{\"query\":[\"(immigration OR immigrants OR migration OR migrants OR \\\"border control\\\" OR emigration OR naturalize OR naturalization OR citizenship OR non-citizens OR borders) lang:en bounding_box:[-1.9182964981464279 52.868537301162455 -1.4952720850689696 53.391866008055565]\"]},\"message\":\"There were errors processing your request: Height of bounding_box must be less than 25 miles (at position 170)\"}],\"title\":\"Invalid Request\",\"detail\":\"One or more parameters to your request was invalid.\",\"type\":\"https://api.twitter.com/2/problems/invalid-request\"} | Bad Request\n",
            " Request payload: {'query': '(immigration OR immigrants OR migration OR migrants OR \"border control\" OR emigration OR naturalize OR naturalization OR citizenship OR non-citizens OR borders) lang:en bounding_box:[-1.9182964981464279 52.868537301162455 -1.4952720850689696 53.391866008055565]', 'max_results': 500, 'start_time': '2020-03-01T00:00:00Z', 'end_time': '2021-03-01T00:00:00Z'}\n",
            "Quitting... \n"
          ],
          "name": "stderr"
        },
        {
          "output_type": "stream",
          "text": [
            "An error happened while retrieving Derbyshire Dales data\n"
          ],
          "name": "stdout"
        },
        {
          "output_type": "stream",
          "text": [
            " HTTP Error code: 429: {\"title\":\"Too Many Requests\",\"type\":\"about:blank\",\"status\":429,\"detail\":\"Too Many Requests\"} | Too Many Requests\n",
            " Request payload: {'query': '(immigration OR immigrants OR migration OR migrants OR \"border control\" OR emigration OR naturalize OR naturalization OR citizenship OR non-citizens OR borders) lang:en bounding_box:[-1.4797257333311133 52.872105451436724 -1.238348166874923 53.003532319872384]', 'max_results': 500, 'start_time': '2020-03-01T00:00:00Z', 'end_time': '2021-03-01T00:00:00Z'}\n",
            "Rate limit hit... Will retry...\n",
            "Will retry in 4 seconds...\n",
            " HTTP Error code: 429: {\"title\":\"Too Many Requests\",\"type\":\"about:blank\",\"status\":429,\"detail\":\"Too Many Requests\"} | Too Many Requests\n",
            " Request payload: {'query': '(immigration OR immigrants OR migration OR migrants OR \"border control\" OR emigration OR naturalize OR naturalization OR citizenship OR non-citizens OR borders) lang:en bounding_box:[-1.4797257333311133 52.872105451436724 -1.238348166874923 53.003532319872384]', 'max_results': 500, 'start_time': '2020-03-01T00:00:00Z', 'end_time': '2021-03-01T00:00:00Z', 'next_token': 'b26v89c19zqg8o3fos5up1ss0r0hhualzogl8u7r6lcvx'}\n",
            "Rate limit hit... Will retry...\n",
            "Will retry in 4 seconds...\n",
            " HTTP Error code: 429: {\"title\":\"Too Many Requests\",\"type\":\"about:blank\",\"status\":429,\"detail\":\"Too Many Requests\"} | Too Many Requests\n",
            " Request payload: {'query': '(immigration OR immigrants OR migration OR migrants OR \"border control\" OR emigration OR naturalize OR naturalization OR citizenship OR non-citizens OR borders) lang:en bounding_box:[-2.0344850216609327 53.195023051258275 -1.6540085186028701 53.540538936150206]', 'max_results': 500, 'start_time': '2020-03-01T00:00:00Z', 'end_time': '2021-03-01T00:00:00Z', 'next_token': 'b26v89c19zqg8o3fosktkma0d12fg1r46vxc53wt4d665'}\n",
            "Rate limit hit... Will retry...\n",
            "Will retry in 4 seconds...\n",
            " HTTP Error code: 429: {\"title\":\"Too Many Requests\",\"type\":\"about:blank\",\"status\":429,\"detail\":\"Too Many Requests\"} | Too Many Requests\n",
            " Request payload: {'query': '(immigration OR immigrants OR migration OR migrants OR \"border control\" OR emigration OR naturalize OR naturalization OR citizenship OR non-citizens OR borders) lang:en bounding_box:[-2.0344850216609327 53.195023051258275 -1.6540085186028701 53.540538936150206]', 'max_results': 500, 'start_time': '2020-03-01T00:00:00Z', 'end_time': '2021-03-01T00:00:00Z', 'next_token': 'b26v89c19zqg8o3foseug1ya6grtdc68w8h61puk8lf99'}\n",
            "Rate limit hit... Will retry...\n",
            "Will retry in 4 seconds...\n",
            " HTTP Error code: 429: {\"title\":\"Too Many Requests\",\"type\":\"about:blank\",\"status\":429,\"detail\":\"Too Many Requests\"} | Too Many Requests\n",
            " Request payload: {'query': '(immigration OR immigrants OR migration OR migrants OR \"border control\" OR emigration OR naturalize OR naturalization OR citizenship OR non-citizens OR borders) lang:en bounding_box:[-1.5991871730009564 53.103440527551975 -1.2817143059331544 53.34191190421577]', 'max_results': 500, 'start_time': '2020-03-01T00:00:00Z', 'end_time': '2021-03-01T00:00:00Z', 'next_token': 'b26v89c19zqg8o3foshsycueeqyo6xmhco7j5vmr1o48t'}\n",
            "Rate limit hit... Will retry...\n",
            "Will retry in 4 seconds...\n",
            " HTTP Error code: 429: {\"title\":\"Too Many Requests\",\"type\":\"about:blank\",\"status\":429,\"detail\":\"Too Many Requests\"} | Too Many Requests\n",
            " Request payload: {'query': '(immigration OR immigrants OR migration OR migrants OR \"border control\" OR emigration OR naturalize OR naturalization OR citizenship OR non-citizens OR borders) lang:en bounding_box:[-1.5991871730009564 53.103440527551975 -1.2817143059331544 53.34191190421577]', 'max_results': 500, 'start_time': '2020-03-01T00:00:00Z', 'end_time': '2021-03-01T00:00:00Z', 'next_token': 'b26v89c19zqg8o3foserwrhoaa879wto2ecukts0ft6kd'}\n",
            "Rate limit hit... Will retry...\n",
            "Will retry in 4 seconds...\n",
            " HTTP Error code: 429: {\"title\":\"Too Many Requests\",\"type\":\"about:blank\",\"status\":429,\"detail\":\"Too Many Requests\"} | Too Many Requests\n",
            " Request payload: {'query': '(immigration OR immigrants OR migration OR migrants OR \"border control\" OR emigration OR naturalize OR naturalization OR citizenship OR non-citizens OR borders) lang:en bounding_box:[-1.5991871730009564 53.103440527551975 -1.2817143059331544 53.34191190421577]', 'max_results': 500, 'start_time': '2020-03-01T00:00:00Z', 'end_time': '2021-03-01T00:00:00Z', 'next_token': 'b26v89c19zqg8o3fo7md33fqbtcnn3o65fpcaii5zy7i5'}\n",
            "Rate limit hit... Will retry...\n",
            "Will retry in 4 seconds...\n",
            " HTTP Error code: 429: {\"title\":\"Too Many Requests\",\"type\":\"about:blank\",\"status\":429,\"detail\":\"Too Many Requests\"} | Too Many Requests\n",
            " Request payload: {'query': '(immigration OR immigrants OR migration OR migrants OR \"border control\" OR emigration OR naturalize OR naturalization OR citizenship OR non-citizens OR borders) lang:en bounding_box:[-1.7497413161465118 52.696671396285055 -1.3193528417195433 52.94822599062118]', 'max_results': 500, 'start_time': '2020-03-01T00:00:00Z', 'end_time': '2021-03-01T00:00:00Z', 'next_token': 'b26v89c19zqg8o3foskuemtd4rgsj7xbdjuq3jupbot4t'}\n",
            "Rate limit hit... Will retry...\n",
            "Will retry in 4 seconds...\n",
            " HTTP Error code: 429: {\"title\":\"Too Many Requests\",\"type\":\"about:blank\",\"status\":429,\"detail\":\"Too Many Requests\"} | Too Many Requests\n",
            " Request payload: {'query': '(immigration OR immigrants OR migration OR migrants OR \"border control\" OR emigration OR naturalize OR naturalization OR citizenship OR non-citizens OR borders) lang:en bounding_box:[-1.7497413161465118 52.696671396285055 -1.3193528417195433 52.94822599062118]', 'max_results': 500, 'start_time': '2020-03-01T00:00:00Z', 'end_time': '2021-03-01T00:00:00Z', 'next_token': 'b26v89c19zqg8o3foskrvraqlod59pmmb0d6i1cnwmzct'}\n",
            "Rate limit hit... Will retry...\n",
            "Will retry in 4 seconds...\n",
            " HTTP Error code: 400: {\"errors\":[{\"parameters\":{\"query\":[\"(immigration OR immigrants OR migration OR migrants OR \\\"border control\\\" OR emigration OR naturalize OR naturalization OR citizenship OR non-citizens OR borders) lang:en bounding_box:[-3.585847279291224 50.606924718986875 -2.886261451087691 50.90902810887517]\"]},\"message\":\"There were errors processing your request: Width of bounding_box must be less than 25 miles (at position 170)\"}],\"title\":\"Invalid Request\",\"detail\":\"One or more parameters to your request was invalid.\",\"type\":\"https://api.twitter.com/2/problems/invalid-request\"} | Bad Request\n",
            " Request payload: {'query': '(immigration OR immigrants OR migration OR migrants OR \"border control\" OR emigration OR naturalize OR naturalization OR citizenship OR non-citizens OR borders) lang:en bounding_box:[-3.585847279291224 50.606924718986875 -2.886261451087691 50.90902810887517]', 'max_results': 500, 'start_time': '2020-03-01T00:00:00Z', 'end_time': '2021-03-01T00:00:00Z'}\n",
            "Quitting... \n"
          ],
          "name": "stderr"
        },
        {
          "output_type": "stream",
          "text": [
            "An error happened while retrieving East Devon data\n"
          ],
          "name": "stdout"
        },
        {
          "output_type": "stream",
          "text": [
            " HTTP Error code: 429: {\"title\":\"Too Many Requests\",\"type\":\"about:blank\",\"status\":429,\"detail\":\"Too Many Requests\"} | Too Many Requests\n",
            " Request payload: {'query': '(immigration OR immigrants OR migration OR migrants OR \"border control\" OR emigration OR naturalize OR naturalization OR citizenship OR non-citizens OR borders) lang:en bounding_box:[-3.570300927553368 50.67471957419803 -3.4516577169223592 50.761544564205295]', 'max_results': 500, 'start_time': '2020-03-01T00:00:00Z', 'end_time': '2021-03-01T00:00:00Z', 'next_token': 'b26v89c19zqg8o3fos5v4boripblqvrtpl3ssdg9kj3i5'}\n",
            "Rate limit hit... Will retry...\n",
            "Will retry in 4 seconds...\n",
            " HTTP Error code: 400: {\"errors\":[{\"parameters\":{\"query\":[\"(immigration OR immigrants OR migration OR migrants OR \\\"border control\\\" OR emigration OR naturalize OR naturalization OR citizenship OR non-citizens OR borders) lang:en bounding_box:[-3.9262305594463935 50.703264776392196 -3.1423671402429023 51.033913368474664]\"]},\"message\":\"There were errors processing your request: Width of bounding_box must be less than 25 miles (at position 170)\"}],\"title\":\"Invalid Request\",\"detail\":\"One or more parameters to your request was invalid.\",\"type\":\"https://api.twitter.com/2/problems/invalid-request\"} | Bad Request\n",
            " Request payload: {'query': '(immigration OR immigrants OR migration OR migrants OR \"border control\" OR emigration OR naturalize OR naturalization OR citizenship OR non-citizens OR borders) lang:en bounding_box:[-3.9262305594463935 50.703264776392196 -3.1423671402429023 51.033913368474664]', 'max_results': 500, 'start_time': '2020-03-01T00:00:00Z', 'end_time': '2021-03-01T00:00:00Z'}\n",
            "Quitting... \n",
            " HTTP Error code: 429: {\"title\":\"Too Many Requests\",\"type\":\"about:blank\",\"status\":429,\"detail\":\"Too Many Requests\"} | Too Many Requests\n",
            " Request payload: {'query': '(immigration OR immigrants OR migration OR migrants OR \"border control\" OR emigration OR naturalize OR naturalization OR citizenship OR non-citizens OR borders) lang:en bounding_box:[-4.261704465368556 50.876320064694355 -3.594847798718404 51.246218309793804]', 'max_results': 500, 'start_time': '2020-03-01T00:00:00Z', 'end_time': '2021-03-01T00:00:00Z'}\n",
            "Rate limit hit... Will retry...\n",
            "Will retry in 4 seconds...\n"
          ],
          "name": "stderr"
        },
        {
          "output_type": "stream",
          "text": [
            "An error happened while retrieving Mid Devon data\n"
          ],
          "name": "stdout"
        },
        {
          "output_type": "stream",
          "text": [
            " HTTP Error code: 400: {\"errors\":[{\"parameters\":{\"query\":[\"(immigration OR immigrants OR migration OR migrants OR \\\"border control\\\" OR emigration OR naturalize OR naturalization OR citizenship OR non-citizens OR borders) lang:en bounding_box:[-4.261704465368556 50.876320064694355 -3.594847798718404 51.246218309793804]\"]},\"message\":\"There were errors processing your request: Height of bounding_box must be less than 25 miles (at position 170), Width of bounding_box must be less than 25 miles (at position 170)\"}],\"title\":\"Invalid Request\",\"detail\":\"One or more parameters to your request was invalid.\",\"type\":\"https://api.twitter.com/2/problems/invalid-request\"} | Bad Request\n",
            " Request payload: {'query': '(immigration OR immigrants OR migration OR migrants OR \"border control\" OR emigration OR naturalize OR naturalization OR citizenship OR non-citizens OR borders) lang:en bounding_box:[-4.261704465368556 50.876320064694355 -3.594847798718404 51.246218309793804]', 'max_results': 500, 'start_time': '2020-03-01T00:00:00Z', 'end_time': '2021-03-01T00:00:00Z'}\n",
            "Quitting... \n"
          ],
          "name": "stderr"
        },
        {
          "output_type": "stream",
          "text": [
            "An error happened while retrieving North Devon data\n"
          ],
          "name": "stdout"
        },
        {
          "output_type": "stream",
          "text": [
            " HTTP Error code: 429: {\"title\":\"Too Many Requests\",\"type\":\"about:blank\",\"status\":429,\"detail\":\"Too Many Requests\"} | Too Many Requests\n",
            " Request payload: {'query': '(immigration OR immigrants OR migration OR migrants OR \"border control\" OR emigration OR naturalize OR naturalization OR citizenship OR non-citizens OR borders) lang:en bounding_box:[-4.189700309951116 50.20193966285709 -3.5081155206019425 50.54269801404999]', 'max_results': 500, 'start_time': '2020-03-01T00:00:00Z', 'end_time': '2021-03-01T00:00:00Z'}\n",
            "Rate limit hit... Will retry...\n",
            "Will retry in 4 seconds...\n",
            " HTTP Error code: 400: {\"errors\":[{\"parameters\":{\"query\":[\"(immigration OR immigrants OR migration OR migrants OR \\\"border control\\\" OR emigration OR naturalize OR naturalization OR citizenship OR non-citizens OR borders) lang:en bounding_box:[-4.189700309951116 50.20193966285709 -3.5081155206019425 50.54269801404999]\"]},\"message\":\"There were errors processing your request: Width of bounding_box must be less than 25 miles (at position 170)\"}],\"title\":\"Invalid Request\",\"detail\":\"One or more parameters to your request was invalid.\",\"type\":\"https://api.twitter.com/2/problems/invalid-request\"} | Bad Request\n",
            " Request payload: {'query': '(immigration OR immigrants OR migration OR migrants OR \"border control\" OR emigration OR naturalize OR naturalization OR citizenship OR non-citizens OR borders) lang:en bounding_box:[-4.189700309951116 50.20193966285709 -3.5081155206019425 50.54269801404999]', 'max_results': 500, 'start_time': '2020-03-01T00:00:00Z', 'end_time': '2021-03-01T00:00:00Z'}\n",
            "Quitting... \n"
          ],
          "name": "stderr"
        },
        {
          "output_type": "stream",
          "text": [
            "An error happened while retrieving South Hams data\n"
          ],
          "name": "stdout"
        },
        {
          "output_type": "stream",
          "text": [
            " HTTP Error code: 429: {\"title\":\"Too Many Requests\",\"type\":\"about:blank\",\"status\":429,\"detail\":\"Too Many Requests\"} | Too Many Requests\n",
            " Request payload: {'query': '(immigration OR immigrants OR migration OR migrants OR \"border control\" OR emigration OR naturalize OR naturalization OR citizenship OR non-citizens OR borders) lang:en bounding_box:[-3.882864420388163 50.46122524945413 -3.4246561586408193 50.763923331054805]', 'max_results': 500, 'start_time': '2020-03-01T00:00:00Z', 'end_time': '2021-03-01T00:00:00Z'}\n",
            "Rate limit hit... Will retry...\n",
            "Will retry in 4 seconds...\n",
            " HTTP Error code: 400: {\"errors\":[{\"parameters\":{\"query\":[\"(immigration OR immigrants OR migration OR migrants OR \\\"border control\\\" OR emigration OR naturalize OR naturalization OR citizenship OR non-citizens OR borders) lang:en bounding_box:[-4.680637733251841 50.646174372003856 -3.8836826494269974 51.20280581479017]\"]},\"message\":\"There were errors processing your request: Height of bounding_box must be less than 25 miles (at position 170), Width of bounding_box must be less than 25 miles (at position 170)\"}],\"title\":\"Invalid Request\",\"detail\":\"One or more parameters to your request was invalid.\",\"type\":\"https://api.twitter.com/2/problems/invalid-request\"} | Bad Request\n",
            " Request payload: {'query': '(immigration OR immigrants OR migration OR migrants OR \"border control\" OR emigration OR naturalize OR naturalization OR citizenship OR non-citizens OR borders) lang:en bounding_box:[-4.680637733251841 50.646174372003856 -3.8836826494269974 51.20280581479017]', 'max_results': 500, 'start_time': '2020-03-01T00:00:00Z', 'end_time': '2021-03-01T00:00:00Z'}\n",
            "Quitting... \n"
          ],
          "name": "stderr"
        },
        {
          "output_type": "stream",
          "text": [
            "An error happened while retrieving Torridge data\n"
          ],
          "name": "stdout"
        },
        {
          "output_type": "stream",
          "text": [
            " HTTP Error code: 429: {\"title\":\"Too Many Requests\",\"type\":\"about:blank\",\"status\":429,\"detail\":\"Too Many Requests\"} | Too Many Requests\n",
            " Request payload: {'query': '(immigration OR immigrants OR migration OR migrants OR \"border control\" OR emigration OR naturalize OR naturalization OR citizenship OR non-citizens OR borders) lang:en bounding_box:[-4.335345078863664 50.434464122397095 -3.732310277242607 50.87453598955722]', 'max_results': 500, 'start_time': '2020-03-01T00:00:00Z', 'end_time': '2021-03-01T00:00:00Z'}\n",
            "Rate limit hit... Will retry...\n",
            "Will retry in 4 seconds...\n",
            " HTTP Error code: 400: {\"errors\":[{\"parameters\":{\"query\":[\"(immigration OR immigrants OR migration OR migrants OR \\\"border control\\\" OR emigration OR naturalize OR naturalization OR citizenship OR non-citizens OR borders) lang:en bounding_box:[-4.335345078863664 50.434464122397095 -3.732310277242607 50.87453598955722]\"]},\"message\":\"There were errors processing your request: Height of bounding_box must be less than 25 miles (at position 170), Width of bounding_box must be less than 25 miles (at position 170)\"}],\"title\":\"Invalid Request\",\"detail\":\"One or more parameters to your request was invalid.\",\"type\":\"https://api.twitter.com/2/problems/invalid-request\"} | Bad Request\n",
            " Request payload: {'query': '(immigration OR immigrants OR migration OR migrants OR \"border control\" OR emigration OR naturalize OR naturalization OR citizenship OR non-citizens OR borders) lang:en bounding_box:[-4.335345078863664 50.434464122397095 -3.732310277242607 50.87453598955722]', 'max_results': 500, 'start_time': '2020-03-01T00:00:00Z', 'end_time': '2021-03-01T00:00:00Z'}\n",
            "Quitting... \n",
            " HTTP Error code: 429: {\"title\":\"Too Many Requests\",\"type\":\"about:blank\",\"status\":429,\"detail\":\"Too Many Requests\"} | Too Many Requests\n",
            " Request payload: {'query': '(immigration OR immigrants OR migration OR migrants OR \"border control\" OR emigration OR naturalize OR naturalization OR citizenship OR non-citizens OR borders) lang:en bounding_box:[-1.8741121300493626 50.721700219475935 -1.6818283059232453 50.80971459290796]', 'max_results': 500, 'start_time': '2020-03-01T00:00:00Z', 'end_time': '2021-03-01T00:00:00Z'}\n",
            "Rate limit hit... Will retry...\n",
            "Will retry in 4 seconds...\n"
          ],
          "name": "stderr"
        },
        {
          "output_type": "stream",
          "text": [
            "An error happened while retrieving West Devon data\n"
          ],
          "name": "stdout"
        },
        {
          "output_type": "stream",
          "text": [
            " HTTP Error code: 429: {\"title\":\"Too Many Requests\",\"type\":\"about:blank\",\"status\":429,\"detail\":\"Too Many Requests\"} | Too Many Requests\n",
            " Request payload: {'query': '(immigration OR immigrants OR migration OR migrants OR \"border control\" OR emigration OR naturalize OR naturalization OR citizenship OR non-citizens OR borders) lang:en bounding_box:[-1.8741121300493626 50.721700219475935 -1.6818283059232453 50.80971459290796]', 'max_results': 500, 'start_time': '2020-03-01T00:00:00Z', 'end_time': '2021-03-01T00:00:00Z', 'next_token': 'b26v89c19zqg8o3fo77fgxp3bwvovk4f37ttjfxp9xbb1'}\n",
            "Rate limit hit... Will retry...\n",
            "Will retry in 4 seconds...\n",
            " HTTP Error code: 429: {\"title\":\"Too Many Requests\",\"type\":\"about:blank\",\"status\":429,\"detail\":\"Too Many Requests\"} | Too Many Requests\n",
            " Request payload: {'query': '(immigration OR immigrants OR migration OR migrants OR \"border control\" OR emigration OR naturalize OR naturalization OR citizenship OR non-citizens OR borders) lang:en bounding_box:[-2.1637652097967903 50.74310912112156 -1.790652768088239 50.992284948608166]', 'max_results': 500, 'start_time': '2020-03-01T00:00:00Z', 'end_time': '2021-03-01T00:00:00Z', 'next_token': 'b26v89c19zqg8o3fo7ggh3yzuk4mor6yp555tyctpnf5p'}\n",
            "Rate limit hit... Will retry...\n",
            "Will retry in 4 seconds...\n",
            " HTTP Error code: 429: {\"title\":\"Too Many Requests\",\"type\":\"about:blank\",\"status\":429,\"detail\":\"Too Many Requests\"} | Too Many Requests\n",
            " Request payload: {'query': '(immigration OR immigrants OR migration OR migrants OR \"border control\" OR emigration OR naturalize OR naturalization OR citizenship OR non-citizens OR borders) lang:en bounding_box:[-2.480419847825758 50.758571105643405 -2.0402126249327743 51.08089401375257]', 'max_results': 500, 'start_time': '2020-03-01T00:00:00Z', 'end_time': '2021-03-01T00:00:00Z', 'next_token': 'b26v89c19zqg8o3fo7ddrd74afz1wcx7thl9tiw86p0fx'}\n",
            "Rate limit hit... Will retry...\n",
            "Will retry in 4 seconds...\n",
            " HTTP Error code: 429: {\"title\":\"Too Many Requests\",\"type\":\"about:blank\",\"status\":429,\"detail\":\"Too Many Requests\"} | Too Many Requests\n",
            " Request payload: {'query': '(immigration OR immigrants OR migration OR migrants OR \"border control\" OR emigration OR naturalize OR naturalization OR citizenship OR non-citizens OR borders) lang:en bounding_box:[-2.3282292466025334 50.57659544165557 -1.9240241014182695 50.79306322496136]', 'max_results': 500, 'start_time': '2020-03-01T00:00:00Z', 'end_time': '2021-03-01T00:00:00Z'}\n",
            "Rate limit hit... Will retry...\n",
            "Will retry in 4 seconds...\n",
            " HTTP Error code: 400: {\"errors\":[{\"parameters\":{\"query\":[\"(immigration OR immigrants OR migration OR migrants OR \\\"border control\\\" OR emigration OR naturalize OR naturalization OR citizenship OR non-citizens OR borders) lang:en bounding_box:[-2.9615385226604687 50.59086804275265 -2.2611344654181007 50.99942124915671]\"]},\"message\":\"There were errors processing your request: Height of bounding_box must be less than 25 miles (at position 170), Width of bounding_box must be less than 25 miles (at position 170)\"}],\"title\":\"Invalid Request\",\"detail\":\"One or more parameters to your request was invalid.\",\"type\":\"https://api.twitter.com/2/problems/invalid-request\"} | Bad Request\n",
            " Request payload: {'query': '(immigration OR immigrants OR migration OR migrants OR \"border control\" OR emigration OR naturalize OR naturalization OR citizenship OR non-citizens OR borders) lang:en bounding_box:[-2.9615385226604687 50.59086804275265 -2.2611344654181007 50.99942124915671]', 'max_results': 500, 'start_time': '2020-03-01T00:00:00Z', 'end_time': '2021-03-01T00:00:00Z'}\n",
            "Quitting... \n"
          ],
          "name": "stderr"
        },
        {
          "output_type": "stream",
          "text": [
            "An error happened while retrieving West Dorset data\n"
          ],
          "name": "stdout"
        },
        {
          "output_type": "stream",
          "text": [
            " HTTP Error code: 429: {\"title\":\"Too Many Requests\",\"type\":\"about:blank\",\"status\":429,\"detail\":\"Too Many Requests\"} | Too Many Requests\n",
            " Request payload: {'query': '(immigration OR immigrants OR migration OR migrants OR \"border control\" OR emigration OR naturalize OR naturalization OR citizenship OR non-citizens OR borders) lang:en bounding_box:[0.20909900282338167 50.73478343714826 0.33919741999807407 50.81328274318223]', 'max_results': 500, 'start_time': '2020-03-01T00:00:00Z', 'end_time': '2021-03-01T00:00:00Z'}\n",
            "Rate limit hit... Will retry...\n",
            "Will retry in 4 seconds...\n",
            " HTTP Error code: 429: {\"title\":\"Too Many Requests\",\"type\":\"about:blank\",\"status\":429,\"detail\":\"Too Many Requests\"} | Too Many Requests\n",
            " Request payload: {'query': '(immigration OR immigrants OR migration OR migrants OR \"border control\" OR emigration OR naturalize OR naturalization OR citizenship OR non-citizens OR borders) lang:en bounding_box:[-0.13619365156479546 50.75559764708151 0.15427765722146702 51.0023947077186]', 'max_results': 500, 'start_time': '2020-03-01T00:00:00Z', 'end_time': '2021-03-01T00:00:00Z', 'next_token': 'b26v89c19zqg8o3foshvh8etvy5bfwojl8it1ar594ewt'}\n",
            "Rate limit hit... Will retry...\n",
            "Will retry in 4 seconds...\n",
            " HTTP Error code: 429: {\"title\":\"Too Many Requests\",\"type\":\"about:blank\",\"status\":429,\"detail\":\"Too Many Requests\"} | Too Many Requests\n",
            " Request payload: {'query': '(immigration OR immigrants OR migration OR migrants OR \"border control\" OR emigration OR naturalize OR naturalization OR citizenship OR non-citizens OR borders) lang:en bounding_box:[-0.13619365156479546 50.75559764708151 0.15427765722146702 51.0023947077186]', 'max_results': 500, 'start_time': '2020-03-01T00:00:00Z', 'end_time': '2021-03-01T00:00:00Z', 'next_token': 'b26v89c19zqg8o3fos8t7pj1pi2yu4sxitgrrswaavmnx'}\n",
            "Rate limit hit... Will retry...\n",
            "Will retry in 4 seconds...\n",
            " HTTP Error code: 429: {\"title\":\"Too Many Requests\",\"type\":\"about:blank\",\"status\":429,\"detail\":\"Too Many Requests\"} | Too Many Requests\n",
            " Request payload: {'query': '(immigration OR immigrants OR migration OR migrants OR \"border control\" OR emigration OR naturalize OR naturalization OR citizenship OR non-citizens OR borders) lang:en bounding_box:[-0.13619365156479546 50.75559764708151 0.15427765722146702 51.0023947077186]', 'max_results': 500, 'start_time': '2020-03-01T00:00:00Z', 'end_time': '2021-03-01T00:00:00Z', 'next_token': 'b26v89c19zqg8o3fo7jftlxqsuscketmv0iifsq0k9tod'}\n",
            "Rate limit hit... Will retry...\n",
            "Will retry in 4 seconds...\n",
            " HTTP Error code: 429: {\"title\":\"Too Many Requests\",\"type\":\"about:blank\",\"status\":429,\"detail\":\"Too Many Requests\"} | Too Many Requests\n",
            " Request payload: {'query': '(immigration OR immigrants OR migration OR migrants OR \"border control\" OR emigration OR naturalize OR naturalization OR citizenship OR non-citizens OR borders) lang:en bounding_box:[-0.13619365156479546 50.75559764708151 0.15427765722146702 51.0023947077186]', 'max_results': 500, 'start_time': '2020-03-01T00:00:00Z', 'end_time': '2021-03-01T00:00:00Z', 'next_token': 'b26v89c19zqg8o3fo7gdy6dqyb700opbkedgq2kw0fdkt'}\n",
            "Rate limit hit... Will retry...\n",
            "Will retry in 4 seconds...\n",
            " HTTP Error code: 400: {\"errors\":[{\"parameters\":{\"query\":[\"(immigration OR immigrants OR migration OR migrants OR \\\"border control\\\" OR emigration OR naturalize OR naturalization OR citizenship OR non-citizens OR borders) lang:en bounding_box:[-0.03636970882698076 50.73835158742253 0.45047656927957114 51.147499485538965]\"]},\"message\":\"There were errors processing your request: Height of bounding_box must be less than 25 miles (at position 170)\"}],\"title\":\"Invalid Request\",\"detail\":\"One or more parameters to your request was invalid.\",\"type\":\"https://api.twitter.com/2/problems/invalid-request\"} | Bad Request\n",
            " Request payload: {'query': '(immigration OR immigrants OR migration OR migrants OR \"border control\" OR emigration OR naturalize OR naturalization OR citizenship OR non-citizens OR borders) lang:en bounding_box:[-0.03636970882698076 50.73835158742253 0.45047656927957114 51.147499485538965]', 'max_results': 500, 'start_time': '2020-03-01T00:00:00Z', 'end_time': '2021-03-01T00:00:00Z'}\n",
            "Quitting... \n"
          ],
          "name": "stderr"
        },
        {
          "output_type": "stream",
          "text": [
            "An error happened while retrieving Wealden data\n"
          ],
          "name": "stdout"
        },
        {
          "output_type": "stream",
          "text": [
            " HTTP Error code: 429: {\"title\":\"Too Many Requests\",\"type\":\"about:blank\",\"status\":429,\"detail\":\"Too Many Requests\"} | Too Many Requests\n",
            " Request payload: {'query': '(immigration OR immigrants OR migration OR migrants OR \"border control\" OR emigration OR naturalize OR naturalization OR citizenship OR non-citizens OR borders) lang:en bounding_box:[0.3751994977067934 51.52988625659837 0.5691197799105803 51.651203365923585]', 'max_results': 500, 'start_time': '2020-03-01T00:00:00Z', 'end_time': '2021-03-01T00:00:00Z'}\n",
            "Rate limit hit... Will retry...\n",
            "Will retry in 4 seconds...\n",
            " HTTP Error code: 429: {\"title\":\"Too Many Requests\",\"type\":\"about:blank\",\"status\":429,\"detail\":\"Too Many Requests\"} | Too Many Requests\n",
            " Request payload: {'query': '(immigration OR immigrants OR migration OR migrants OR \"border control\" OR emigration OR naturalize OR naturalization OR citizenship OR non-citizens OR borders) lang:en bounding_box:[0.37929064290096637 51.7505168818908 0.7818593300075607 52.08711239109706]', 'max_results': 500, 'start_time': '2020-03-01T00:00:00Z', 'end_time': '2021-03-01T00:00:00Z'}\n",
            "Rate limit hit... Will retry...\n",
            "Will retry in 4 seconds...\n",
            " HTTP Error code: 429: {\"title\":\"Too Many Requests\",\"type\":\"about:blank\",\"status\":429,\"detail\":\"Too Many Requests\"} | Too Many Requests\n",
            " Request payload: {'query': '(immigration OR immigrants OR migration OR migrants OR \"border control\" OR emigration OR naturalize OR naturalization OR citizenship OR non-citizens OR borders) lang:en bounding_box:[0.37929064290096637 51.7505168818908 0.7818593300075607 52.08711239109706]', 'max_results': 500, 'start_time': '2020-03-01T00:00:00Z', 'end_time': '2021-03-01T00:00:00Z', 'next_token': 'b26v89c19zqg8o3foskt5ky45f1ic52ijjpxkprzbw7lp'}\n",
            "Rate limit hit... Will retry...\n",
            "Will retry in 4 seconds...\n",
            " HTTP Error code: 429: {\"title\":\"Too Many Requests\",\"type\":\"about:blank\",\"status\":429,\"detail\":\"Too Many Requests\"} | Too Many Requests\n",
            " Request payload: {'query': '(immigration OR immigrants OR migration OR migrants OR \"border control\" OR emigration OR naturalize OR naturalization OR citizenship OR non-citizens OR borders) lang:en bounding_box:[0.17555161223116578 51.56437837591632 0.41283803349318227 51.7172141459976]', 'max_results': 500, 'start_time': '2020-03-01T00:00:00Z', 'end_time': '2021-03-01T00:00:00Z', 'next_token': 'b26v89c19zqg8o3fos8t7h055q54fxny2p8wugz3oxpq5'}\n",
            "Rate limit hit... Will retry...\n",
            "Will retry in 4 seconds...\n",
            " HTTP Error code: 429: {\"title\":\"Too Many Requests\",\"type\":\"about:blank\",\"status\":429,\"detail\":\"Too Many Requests\"} | Too Many Requests\n",
            " Request payload: {'query': '(immigration OR immigrants OR migration OR migrants OR \"border control\" OR emigration OR naturalize OR naturalization OR citizenship OR non-citizens OR borders) lang:en bounding_box:[0.33265158768739767 51.61671124660563 0.6468515385998614 51.85756139011894]', 'max_results': 500, 'start_time': '2020-03-01T00:00:00Z', 'end_time': '2021-03-01T00:00:00Z'}\n",
            "Rate limit hit... Will retry...\n",
            "Will retry in 4 seconds...\n",
            " HTTP Error code: 429: {\"title\":\"Too Many Requests\",\"type\":\"about:blank\",\"status\":429,\"detail\":\"Too Many Requests\"} | Too Many Requests\n",
            " Request payload: {'query': '(immigration OR immigrants OR migration OR migrants OR \"border control\" OR emigration OR naturalize OR naturalization OR citizenship OR non-citizens OR borders) lang:en bounding_box:[0.33265158768739767 51.61671124660563 0.6468515385998614 51.85756139011894]', 'max_results': 500, 'start_time': '2020-03-01T00:00:00Z', 'end_time': '2021-03-01T00:00:00Z', 'next_token': 'b26v89c19zqg8o3fo7jfempz8r7rmdt1lz93n2dvyklfh'}\n",
            "Rate limit hit... Will retry...\n",
            "Will retry in 4 seconds...\n",
            " HTTP Error code: 429: {\"title\":\"Too Many Requests\",\"type\":\"about:blank\",\"status\":429,\"detail\":\"Too Many Requests\"} | Too Many Requests\n",
            " Request payload: {'query': '(immigration OR immigrants OR migration OR migrants OR \"border control\" OR emigration OR naturalize OR naturalization OR citizenship OR non-citizens OR borders) lang:en bounding_box:[0.9307770150754475 51.769547016686914 1.2965253954344877 51.959848364648046]', 'max_results': 500, 'start_time': '2020-03-01T00:00:00Z', 'end_time': '2021-03-01T00:00:00Z'}\n",
            "Rate limit hit... Will retry...\n",
            "Will retry in 4 seconds...\n",
            " HTTP Error code: 429: {\"title\":\"Too Many Requests\",\"type\":\"about:blank\",\"status\":429,\"detail\":\"Too Many Requests\"} | Too Many Requests\n",
            " Request payload: {'query': '(immigration OR immigrants OR migration OR migrants OR \"border control\" OR emigration OR naturalize OR naturalization OR citizenship OR non-citizens OR borders) lang:en bounding_box:[0.9307770150754475 51.769547016686914 1.2965253954344877 51.959848364648046]', 'max_results': 500, 'start_time': '2020-03-01T00:00:00Z', 'end_time': '2021-03-01T00:00:00Z', 'next_token': 'b26v89c19zqg8o3fo7de63wv7aymy7kolsst6qvws9cot'}\n",
            "Rate limit hit... Will retry...\n",
            "Will retry in 4 seconds...\n",
            " HTTP Error code: 429: {\"title\":\"Too Many Requests\",\"type\":\"about:blank\",\"status\":429,\"detail\":\"Too Many Requests\"} | Too Many Requests\n",
            " Request payload: {'query': '(immigration OR immigrants OR migration OR migrants OR \"border control\" OR emigration OR naturalize OR naturalization OR citizenship OR non-citizens OR borders) lang:en bounding_box:[0.0683636081438399 51.767168249837404 0.5192078085416734 52.092464616508465]', 'max_results': 500, 'start_time': '2020-03-01T00:00:00Z', 'end_time': '2021-03-01T00:00:00Z', 'next_token': 'b26v89c19zqg8o3fosbs5adk1upvnuvrkls2ynkhb3d6l'}\n",
            "Rate limit hit... Will retry...\n",
            "Will retry in 4 seconds...\n",
            " HTTP Error code: 429: {\"title\":\"Too Many Requests\",\"type\":\"about:blank\",\"status\":429,\"detail\":\"Too Many Requests\"} | Too Many Requests\n",
            " Request payload: {'query': '(immigration OR immigrants OR migration OR migrants OR \"border control\" OR emigration OR naturalize OR naturalization OR citizenship OR non-citizens OR borders) lang:en bounding_box:[0.0683636081438399 51.767168249837404 0.5192078085416734 52.092464616508465]', 'max_results': 500, 'start_time': '2020-03-01T00:00:00Z', 'end_time': '2021-03-01T00:00:00Z', 'next_token': 'b26v89c19zqg8o3fos8sd1ita262rbtdqha0lml8o1ocd'}\n",
            "Rate limit hit... Will retry...\n",
            "Will retry in 4 seconds...\n",
            " HTTP Error code: 429: {\"title\":\"Too Many Requests\",\"type\":\"about:blank\",\"status\":429,\"detail\":\"Too Many Requests\"} | Too Many Requests\n",
            " Request payload: {'query': '(immigration OR immigrants OR migration OR migrants OR \"border control\" OR emigration OR naturalize OR naturalization OR citizenship OR non-citizens OR borders) lang:en bounding_box:[0.0683636081438399 51.767168249837404 0.5192078085416734 52.092464616508465]', 'max_results': 500, 'start_time': '2020-03-01T00:00:00Z', 'end_time': '2021-03-01T00:00:00Z', 'next_token': 'b26v89c19zqg8o3fo7ddrd8wzhlq74cwas9lddxxfd2f1'}\n",
            "Rate limit hit... Will retry...\n",
            "Will retry in 4 seconds...\n",
            " HTTP Error code: 429: {\"title\":\"Too Many Requests\",\"type\":\"about:blank\",\"status\":429,\"detail\":\"Too Many Requests\"} | Too Many Requests\n",
            " Request payload: {'query': '(immigration OR immigrants OR migration OR migrants OR \"border control\" OR emigration OR naturalize OR naturalization OR citizenship OR non-citizens OR borders) lang:en bounding_box:[-2.3233198723695256 51.57746159358865 -1.6155517537776474 52.112684134729335]', 'max_results': 500, 'start_time': '2020-03-01T00:00:00Z', 'end_time': '2021-03-01T00:00:00Z'}\n",
            "Rate limit hit... Will retry...\n",
            "Will retry in 4 seconds...\n",
            " HTTP Error code: 400: {\"errors\":[{\"parameters\":{\"query\":[\"(immigration OR immigrants OR migration OR migrants OR \\\"border control\\\" OR emigration OR naturalize OR naturalization OR citizenship OR non-citizens OR borders) lang:en bounding_box:[-2.3233198723695256 51.57746159358865 -1.6155517537776474 52.112684134729335]\"]},\"message\":\"There were errors processing your request: Height of bounding_box must be less than 25 miles (at position 170), Width of bounding_box must be less than 25 miles (at position 170)\"}],\"title\":\"Invalid Request\",\"detail\":\"One or more parameters to your request was invalid.\",\"type\":\"https://api.twitter.com/2/problems/invalid-request\"} | Bad Request\n",
            " Request payload: {'query': '(immigration OR immigrants OR migration OR migrants OR \"border control\" OR emigration OR naturalize OR naturalization OR citizenship OR non-citizens OR borders) lang:en bounding_box:[-2.3233198723695256 51.57746159358865 -1.6155517537776474 52.112684134729335]', 'max_results': 500, 'start_time': '2020-03-01T00:00:00Z', 'end_time': '2021-03-01T00:00:00Z'}\n",
            "Quitting... \n"
          ],
          "name": "stderr"
        },
        {
          "output_type": "stream",
          "text": [
            "An error happened while retrieving Cotswold data\n"
          ],
          "name": "stdout"
        },
        {
          "output_type": "stream",
          "text": [
            " HTTP Error code: 429: {\"title\":\"Too Many Requests\",\"type\":\"about:blank\",\"status\":429,\"detail\":\"Too Many Requests\"} | Too Many Requests\n",
            " Request payload: {'query': '(immigration OR immigrants OR migration OR migrants OR \"border control\" OR emigration OR naturalize OR naturalization OR citizenship OR non-citizens OR borders) lang:en bounding_box:[-2.687431794650897 51.60957494605709 -2.267680297728777 52.02407506958493]', 'max_results': 500, 'start_time': '2020-03-01T00:00:00Z', 'end_time': '2021-03-01T00:00:00Z'}\n",
            "Rate limit hit... Will retry...\n",
            "Will retry in 4 seconds...\n",
            " HTTP Error code: 400: {\"errors\":[{\"parameters\":{\"query\":[\"(immigration OR immigrants OR migration OR migrants OR \\\"border control\\\" OR emigration OR naturalize OR naturalization OR citizenship OR non-citizens OR borders) lang:en bounding_box:[-2.687431794650897 51.60957494605709 -2.267680297728777 52.02407506958493]\"]},\"message\":\"There were errors processing your request: Height of bounding_box must be less than 25 miles (at position 170)\"}],\"title\":\"Invalid Request\",\"detail\":\"One or more parameters to your request was invalid.\",\"type\":\"https://api.twitter.com/2/problems/invalid-request\"} | Bad Request\n",
            " Request payload: {'query': '(immigration OR immigrants OR migration OR migrants OR \"border control\" OR emigration OR naturalize OR naturalization OR citizenship OR non-citizens OR borders) lang:en bounding_box:[-2.687431794650897 51.60957494605709 -2.267680297728777 52.02407506958493]', 'max_results': 500, 'start_time': '2020-03-01T00:00:00Z', 'end_time': '2021-03-01T00:00:00Z'}\n",
            "Quitting... \n"
          ],
          "name": "stderr"
        },
        {
          "output_type": "stream",
          "text": [
            "An error happened while retrieving Forest of Dean data\n"
          ],
          "name": "stdout"
        },
        {
          "output_type": "stream",
          "text": [
            " HTTP Error code: 429: {\"title\":\"Too Many Requests\",\"type\":\"about:blank\",\"status\":429,\"detail\":\"Too Many Requests\"} | Too Many Requests\n",
            " Request payload: {'query': '(immigration OR immigrants OR migration OR migrants OR \"border control\" OR emigration OR naturalize OR naturalization OR citizenship OR non-citizens OR borders) lang:en bounding_box:[-2.301227688320993 51.80760728627914 -2.176856874418143 51.88551190060073]', 'max_results': 500, 'start_time': '2020-03-01T00:00:00Z', 'end_time': '2021-03-01T00:00:00Z'}\n",
            "Rate limit hit... Will retry...\n",
            "Will retry in 4 seconds...\n",
            " HTTP Error code: 429: {\"title\":\"Too Many Requests\",\"type\":\"about:blank\",\"status\":429,\"detail\":\"Too Many Requests\"} | Too Many Requests\n",
            " Request payload: {'query': '(immigration OR immigrants OR migration OR migrants OR \"border control\" OR emigration OR naturalize OR naturalization OR citizenship OR non-citizens OR borders) lang:en bounding_box:[-2.534422964388838 51.5899501195486 -2.0688506412919834 51.84983039785802]', 'max_results': 500, 'start_time': '2020-03-01T00:00:00Z', 'end_time': '2021-03-01T00:00:00Z', 'next_token': 'b26v89c19zqg8o3fos8tmg9phvb20uteqdt948fvk3zi5'}\n",
            "Rate limit hit... Will retry...\n",
            "Will retry in 4 seconds...\n",
            " HTTP Error code: 429: {\"title\":\"Too Many Requests\",\"type\":\"about:blank\",\"status\":429,\"detail\":\"Too Many Requests\"} | Too Many Requests\n",
            " Request payload: {'query': '(immigration OR immigrants OR migration OR migrants OR \"border control\" OR emigration OR naturalize OR naturalization OR citizenship OR non-citizens OR borders) lang:en bounding_box:[-2.534422964388838 51.5899501195486 -2.0688506412919834 51.84983039785802]', 'max_results': 500, 'start_time': '2020-03-01T00:00:00Z', 'end_time': '2021-03-01T00:00:00Z', 'next_token': 'b26v89c19zqg8o3fo7ag32v8rwvuqec30vgyyn4hs6lx9'}\n",
            "Rate limit hit... Will retry...\n",
            "Will retry in 4 seconds...\n",
            " HTTP Error code: 429: {\"title\":\"Too Many Requests\",\"type\":\"about:blank\",\"status\":429,\"detail\":\"Too Many Requests\"} | Too Many Requests\n",
            " Request payload: {'query': '(immigration OR immigrants OR migration OR migrants OR \"border control\" OR emigration OR naturalize OR naturalization OR citizenship OR non-citizens OR borders) lang:en bounding_box:[-2.3527761177675695 51.819501120526716 -1.8012897455930883 52.05024150492959]', 'max_results': 500, 'start_time': '2020-03-01T00:00:00Z', 'end_time': '2021-03-01T00:00:00Z', 'next_token': 'b26v89c19zqg8o3fosbv39elmviuolaal9qxkhiu2ved9'}\n",
            "Rate limit hit... Will retry...\n",
            "Will retry in 4 seconds...\n",
            " HTTP Error code: 429: {\"title\":\"Too Many Requests\",\"type\":\"about:blank\",\"status\":429,\"detail\":\"Too Many Requests\"} | Too Many Requests\n",
            " Request payload: {'query': '(immigration OR immigrants OR migration OR migrants OR \"border control\" OR emigration OR naturalize OR naturalization OR citizenship OR non-citizens OR borders) lang:en bounding_box:[-1.1319783918264328 50.86739968900867 -0.7449560564576947 51.2129155739006]', 'max_results': 500, 'start_time': '2020-03-01T00:00:00Z', 'end_time': '2021-03-01T00:00:00Z', 'next_token': 'b26v89c19zqg8o3fos8t78hjiv3mvs9n2mswdqmjqxfnh'}\n",
            "Rate limit hit... Will retry...\n",
            "Will retry in 4 seconds...\n",
            " HTTP Error code: 429: {\"title\":\"Too Many Requests\",\"type\":\"about:blank\",\"status\":429,\"detail\":\"Too Many Requests\"} | Too Many Requests\n",
            " Request payload: {'query': '(immigration OR immigrants OR migration OR migrants OR \"border control\" OR emigration OR naturalize OR naturalization OR citizenship OR non-citizens OR borders) lang:en bounding_box:[-1.1319783918264328 50.86739968900867 -0.7449560564576947 51.2129155739006]', 'max_results': 500, 'start_time': '2020-03-01T00:00:00Z', 'end_time': '2021-03-01T00:00:00Z', 'next_token': 'b26v89c19zqg8o3fos5upadh9l02gmc7hkg6y82kc58cd'}\n",
            "Rate limit hit... Will retry...\n",
            "Will retry in 4 seconds...\n",
            " HTTP Error code: 429: {\"title\":\"Too Many Requests\",\"type\":\"about:blank\",\"status\":429,\"detail\":\"Too Many Requests\"} | Too Many Requests\n",
            " Request payload: {'query': '(immigration OR immigrants OR migration OR migrants OR \"border control\" OR emigration OR naturalize OR naturalization OR citizenship OR non-citizens OR borders) lang:en bounding_box:[-1.1319783918264328 50.86739968900867 -0.7449560564576947 51.2129155739006]', 'max_results': 500, 'start_time': '2020-03-01T00:00:00Z', 'end_time': '2021-03-01T00:00:00Z', 'next_token': 'b26v89c19zqg8o3fo7gg1pvnddoig64egj5w313twcpkt'}\n",
            "Rate limit hit... Will retry...\n",
            "Will retry in 4 seconds...\n",
            " HTTP Error code: 429: {\"title\":\"Too Many Requests\",\"type\":\"about:blank\",\"status\":429,\"detail\":\"Too Many Requests\"} | Too Many Requests\n",
            " Request payload: {'query': '(immigration OR immigrants OR migration OR migrants OR \"border control\" OR emigration OR naturalize OR naturalization OR citizenship OR non-citizens OR borders) lang:en bounding_box:[-1.1319783918264328 50.86739968900867 -0.7449560564576947 51.2129155739006]', 'max_results': 500, 'start_time': '2020-03-01T00:00:00Z', 'end_time': '2021-03-01T00:00:00Z', 'next_token': 'b26v89c19zqg8o3fo7gdj2w8b2tq8esgjohn1un3gfurh'}\n",
            "Rate limit hit... Will retry...\n",
            "Will retry in 4 seconds...\n",
            " HTTP Error code: 429: {\"title\":\"Too Many Requests\",\"type\":\"about:blank\",\"status\":429,\"detail\":\"Too Many Requests\"} | Too Many Requests\n",
            " Request payload: {'query': '(immigration OR immigrants OR migration OR migrants OR \"border control\" OR emigration OR naturalize OR naturalization OR citizenship OR non-citizens OR borders) lang:en bounding_box:[-1.3995392875253279 50.84896424592494 -1.2579856638069522 51.00417878285574]', 'max_results': 500, 'start_time': '2020-03-01T00:00:00Z', 'end_time': '2021-03-01T00:00:00Z'}\n",
            "Rate limit hit... Will retry...\n",
            "Will retry in 4 seconds...\n",
            " HTTP Error code: 429: {\"title\":\"Too Many Requests\",\"type\":\"about:blank\",\"status\":429,\"detail\":\"Too Many Requests\"} | Too Many Requests\n",
            " Request payload: {'query': '(immigration OR immigrants OR migration OR migrants OR \"border control\" OR emigration OR naturalize OR naturalization OR citizenship OR non-citizens OR borders) lang:en bounding_box:[-1.3087158642146939 50.80911990119558 -1.1123408948944036 50.898918349764735]', 'max_results': 500, 'start_time': '2020-03-01T00:00:00Z', 'end_time': '2021-03-01T00:00:00Z'}\n",
            "Rate limit hit... Will retry...\n",
            "Will retry in 4 seconds...\n",
            " HTTP Error code: 429: {\"title\":\"Too Many Requests\",\"type\":\"about:blank\",\"status\":429,\"detail\":\"Too Many Requests\"} | Too Many Requests\n",
            " Request payload: {'query': '(immigration OR immigrants OR migration OR migrants OR \"border control\" OR emigration OR naturalize OR naturalization OR citizenship OR non-citizens OR borders) lang:en bounding_box:[-1.213801295709887 50.77343839845287 -1.1115226658555688 50.839449178526884]', 'max_results': 500, 'start_time': '2020-03-01T00:00:00Z', 'end_time': '2021-03-01T00:00:00Z'}\n",
            "Rate limit hit... Will retry...\n",
            "Will retry in 4 seconds...\n",
            " HTTP Error code: 429: {\"title\":\"Too Many Requests\",\"type\":\"about:blank\",\"status\":429,\"detail\":\"Too Many Requests\"} | Too Many Requests\n",
            " Request payload: {'query': '(immigration OR immigrants OR migration OR migrants OR \"border control\" OR emigration OR naturalize OR naturalization OR citizenship OR non-citizens OR borders) lang:en bounding_box:[-1.0026982036905752 51.186154446843574 -0.7629570953120544 51.36634603569427]', 'max_results': 500, 'start_time': '2020-03-01T00:00:00Z', 'end_time': '2021-03-01T00:00:00Z'}\n",
            "Rate limit hit... Will retry...\n",
            "Will retry in 4 seconds...\n",
            " HTTP Error code: 429: {\"title\":\"Too Many Requests\",\"type\":\"about:blank\",\"status\":429,\"detail\":\"Too Many Requests\"} | Too Many Requests\n",
            " Request payload: {'query': '(immigration OR immigrants OR migration OR migrants OR \"border control\" OR emigration OR naturalize OR naturalization OR citizenship OR non-citizens OR borders) lang:en bounding_box:[-1.0550648621759855 50.77700654872714 -0.9266029030789626 50.90962280058755]', 'max_results': 500, 'start_time': '2020-03-01T00:00:00Z', 'end_time': '2021-03-01T00:00:00Z'}\n",
            "Rate limit hit... Will retry...\n",
            "Will retry in 4 seconds...\n",
            " HTTP Error code: 429: {\"title\":\"Too Many Requests\",\"type\":\"about:blank\",\"status\":429,\"detail\":\"Too Many Requests\"} | Too Many Requests\n",
            " Request payload: {'query': '(immigration OR immigrants OR migration OR migrants OR \"border control\" OR emigration OR naturalize OR naturalization OR citizenship OR non-citizens OR borders) lang:en bounding_box:[-1.9575714920104854 50.70623823495409 -1.3070794061370243 51.009531008267146]', 'max_results': 500, 'start_time': '2020-03-01T00:00:00Z', 'end_time': '2021-03-01T00:00:00Z'}\n",
            "Rate limit hit... Will retry...\n",
            "Will retry in 4 seconds...\n",
            " HTTP Error code: 400: {\"errors\":[{\"parameters\":{\"query\":[\"(immigration OR immigrants OR migration OR migrants OR \\\"border control\\\" OR emigration OR naturalize OR naturalization OR citizenship OR non-citizens OR borders) lang:en bounding_box:[-1.9575714920104854 50.70623823495409 -1.3070794061370243 51.009531008267146]\"]},\"message\":\"There were errors processing your request: Width of bounding_box must be less than 25 miles (at position 170)\"}],\"title\":\"Invalid Request\",\"detail\":\"One or more parameters to your request was invalid.\",\"type\":\"https://api.twitter.com/2/problems/invalid-request\"} | Bad Request\n",
            " Request payload: {'query': '(immigration OR immigrants OR migration OR migrants OR \"border control\" OR emigration OR naturalize OR naturalization OR citizenship OR non-citizens OR borders) lang:en bounding_box:[-1.9575714920104854 50.70623823495409 -1.3070794061370243 51.009531008267146]', 'max_results': 500, 'start_time': '2020-03-01T00:00:00Z', 'end_time': '2021-03-01T00:00:00Z'}\n",
            "Quitting... \n"
          ],
          "name": "stderr"
        },
        {
          "output_type": "stream",
          "text": [
            "An error happened while retrieving New Forest data\n"
          ],
          "name": "stdout"
        },
        {
          "output_type": "stream",
          "text": [
            " HTTP Error code: 429: {\"title\":\"Too Many Requests\",\"type\":\"about:blank\",\"status\":429,\"detail\":\"Too Many Requests\"} | Too Many Requests\n",
            " Request payload: {'query': '(immigration OR immigrants OR migration OR migrants OR \"border control\" OR emigration OR naturalize OR naturalization OR citizenship OR non-citizens OR borders) lang:en bounding_box:[-1.6941017415057633 50.92805824367129 -1.3087158642146939 51.339584908637235]', 'max_results': 500, 'start_time': '2020-03-01T00:00:00Z', 'end_time': '2021-03-01T00:00:00Z'}\n",
            "Rate limit hit... Will retry...\n",
            "Will retry in 4 seconds...\n",
            " HTTP Error code: 400: {\"errors\":[{\"parameters\":{\"query\":[\"(immigration OR immigrants OR migration OR migrants OR \\\"border control\\\" OR emigration OR naturalize OR naturalization OR citizenship OR non-citizens OR borders) lang:en bounding_box:[-1.6941017415057633 50.92805824367129 -1.3087158642146939 51.339584908637235]\"]},\"message\":\"There were errors processing your request: Height of bounding_box must be less than 25 miles (at position 170)\"}],\"title\":\"Invalid Request\",\"detail\":\"One or more parameters to your request was invalid.\",\"type\":\"https://api.twitter.com/2/problems/invalid-request\"} | Bad Request\n",
            " Request payload: {'query': '(immigration OR immigrants OR migration OR migrants OR \"border control\" OR emigration OR naturalize OR naturalization OR citizenship OR non-citizens OR borders) lang:en bounding_box:[-1.6941017415057633 50.92805824367129 -1.3087158642146939 51.339584908637235]', 'max_results': 500, 'start_time': '2020-03-01T00:00:00Z', 'end_time': '2021-03-01T00:00:00Z'}\n",
            "Quitting... \n"
          ],
          "name": "stderr"
        },
        {
          "output_type": "stream",
          "text": [
            "An error happened while retrieving Test Valley data\n"
          ],
          "name": "stdout"
        },
        {
          "output_type": "stream",
          "text": [
            " HTTP Error code: 429: {\"title\":\"Too Many Requests\",\"type\":\"about:blank\",\"status\":429,\"detail\":\"Too Many Requests\"} | Too Many Requests\n",
            " Request payload: {'query': '(immigration OR immigrants OR migration OR migrants OR \"border control\" OR emigration OR naturalize OR naturalization OR citizenship OR non-citizens OR borders) lang:en bounding_box:[-1.456815320243746 50.854911163048726 -1.0337909071662876 51.19685889766638]', 'max_results': 500, 'start_time': '2020-03-01T00:00:00Z', 'end_time': '2021-03-01T00:00:00Z', 'next_token': 'b26v89c19zqg8o3foskt53u7e93rl5vqrvndw41njeph9'}\n",
            "Rate limit hit... Will retry...\n",
            "Will retry in 4 seconds...\n",
            " HTTP Error code: 429: {\"title\":\"Too Many Requests\",\"type\":\"about:blank\",\"status\":429,\"detail\":\"Too Many Requests\"} | Too Many Requests\n",
            " Request payload: {'query': '(immigration OR immigrants OR migration OR migrants OR \"border control\" OR emigration OR naturalize OR naturalization OR citizenship OR non-citizens OR borders) lang:en bounding_box:[-0.11410146751626282 51.68093795154252 0.014360491580760915 51.78025146750973]', 'max_results': 500, 'start_time': '2020-03-01T00:00:00Z', 'end_time': '2021-03-01T00:00:00Z'}\n",
            "Rate limit hit... Will retry...\n",
            "Will retry in 4 seconds...\n",
            " HTTP Error code: 429: {\"title\":\"Too Many Requests\",\"type\":\"about:blank\",\"status\":429,\"detail\":\"Too Many Requests\"} | Too Many Requests\n",
            " Request payload: {'query': '(immigration OR immigrants OR migration OR migrants OR \"border control\" OR emigration OR naturalize OR naturalization OR citizenship OR non-citizens OR borders) lang:en bounding_box:[-0.7457742854965286 51.67974856811776 -0.4045727763025253 51.85815608183132]', 'max_results': 500, 'start_time': '2020-03-01T00:00:00Z', 'end_time': '2021-03-01T00:00:00Z'}\n",
            "Rate limit hit... Will retry...\n",
            "Will retry in 4 seconds...\n",
            " HTTP Error code: 429: Rate limit exceeded\n",
            " | Too Many Requests\n",
            " Request payload: {'query': '(immigration OR immigrants OR migration OR migrants OR \"border control\" OR emigration OR naturalize OR naturalization OR citizenship OR non-citizens OR borders) lang:en bounding_box:[-0.7457742854965286 51.67974856811776 -0.4045727763025253 51.85815608183132]', 'max_results': 500, 'start_time': '2020-03-01T00:00:00Z', 'end_time': '2021-03-01T00:00:00Z'}\n",
            "Rate limit hit... Will retry...\n",
            "Will retry in 16 seconds...\n",
            " HTTP Error code: 429: Rate limit exceeded\n",
            " | Too Many Requests\n",
            " Request payload: {'query': '(immigration OR immigrants OR migration OR migrants OR \"border control\" OR emigration OR naturalize OR naturalization OR citizenship OR non-citizens OR borders) lang:en bounding_box:[-0.7457742854965286 51.67974856811776 -0.4045727763025253 51.85815608183132]', 'max_results': 500, 'start_time': '2020-03-01T00:00:00Z', 'end_time': '2021-03-01T00:00:00Z'}\n",
            "Rate limit hit... Will retry...\n",
            "Will retry in 36 seconds...\n",
            " HTTP Error code: 429: Rate limit exceeded\n",
            " | Too Many Requests\n",
            " Request payload: {'query': '(immigration OR immigrants OR migration OR migrants OR \"border control\" OR emigration OR naturalize OR naturalization OR citizenship OR non-citizens OR borders) lang:en bounding_box:[-0.7457742854965286 51.67974856811776 -0.4045727763025253 51.85815608183132]', 'max_results': 500, 'start_time': '2020-03-01T00:00:00Z', 'end_time': '2021-03-01T00:00:00Z'}\n",
            "Rate limit hit... Will retry...\n",
            "Will retry in 64 seconds...\n",
            " HTTP Error code: 429: Rate limit exceeded\n",
            " | Too Many Requests\n",
            " Request payload: {'query': '(immigration OR immigrants OR migration OR migrants OR \"border control\" OR emigration OR naturalize OR naturalization OR citizenship OR non-citizens OR borders) lang:en bounding_box:[-0.7457742854965286 51.67974856811776 -0.4045727763025253 51.85815608183132]', 'max_results': 500, 'start_time': '2020-03-01T00:00:00Z', 'end_time': '2021-03-01T00:00:00Z'}\n",
            "Rate limit hit... Will retry...\n",
            "Will retry in 100 seconds...\n",
            " HTTP Error code: 429: Rate limit exceeded\n",
            " | Too Many Requests\n",
            " Request payload: {'query': '(immigration OR immigrants OR migration OR migrants OR \"border control\" OR emigration OR naturalize OR naturalization OR citizenship OR non-citizens OR borders) lang:en bounding_box:[-0.7457742854965286 51.67974856811776 -0.4045727763025253 51.85815608183132]', 'max_results': 500, 'start_time': '2020-03-01T00:00:00Z', 'end_time': '2021-03-01T00:00:00Z'}\n",
            "Rate limit hit... Will retry...\n",
            "Will retry in 144 seconds...\n",
            " HTTP Error code: 429: Rate limit exceeded\n",
            " | Too Many Requests\n",
            " Request payload: {'query': '(immigration OR immigrants OR migration OR migrants OR \"border control\" OR emigration OR naturalize OR naturalization OR citizenship OR non-citizens OR borders) lang:en bounding_box:[-0.7457742854965286 51.67974856811776 -0.4045727763025253 51.85815608183132]', 'max_results': 500, 'start_time': '2020-03-01T00:00:00Z', 'end_time': '2021-03-01T00:00:00Z'}\n",
            "Rate limit hit... Will retry...\n",
            "Will retry in 196 seconds...\n",
            " HTTP Error code: 429: {\"title\":\"Too Many Requests\",\"type\":\"about:blank\",\"status\":429,\"detail\":\"Too Many Requests\"} | Too Many Requests\n",
            " Request payload: {'query': '(immigration OR immigrants OR migration OR migrants OR \"border control\" OR emigration OR naturalize OR naturalization OR citizenship OR non-citizens OR borders) lang:en bounding_box:[-0.7457742854965286 51.67974856811776 -0.4045727763025253 51.85815608183132]', 'max_results': 500, 'start_time': '2020-03-01T00:00:00Z', 'end_time': '2021-03-01T00:00:00Z', 'next_token': 'b26v89c19zqg8o3fos5wdjzoume77vamzmbdusxbjxxml'}\n",
            "Rate limit hit... Will retry...\n",
            "Will retry in 4 seconds...\n",
            " HTTP Error code: 429: {\"title\":\"Too Many Requests\",\"type\":\"about:blank\",\"status\":429,\"detail\":\"Too Many Requests\"} | Too Many Requests\n",
            " Request payload: {'query': '(immigration OR immigrants OR migration OR migrants OR \"border control\" OR emigration OR naturalize OR naturalization OR citizenship OR non-citizens OR borders) lang:en bounding_box:[-0.7457742854965286 51.67974856811776 -0.4045727763025253 51.85815608183132]', 'max_results': 500, 'start_time': '2020-03-01T00:00:00Z', 'end_time': '2021-03-01T00:00:00Z', 'next_token': 'b26v89c19zqg8o3fo7jg924x6ofdchhw4t55kq00czcsd'}\n",
            "Rate limit hit... Will retry...\n",
            "Will retry in 4 seconds...\n",
            " HTTP Error code: 429: {\"title\":\"Too Many Requests\",\"type\":\"about:blank\",\"status\":429,\"detail\":\"Too Many Requests\"} | Too Many Requests\n",
            " Request payload: {'query': '(immigration OR immigrants OR migration OR migrants OR \"border control\" OR emigration OR naturalize OR naturalization OR citizenship OR non-citizens OR borders) lang:en bounding_box:[-0.38657173744816475 51.6232528554418 -0.16319520984633495 51.73802835593085]', 'max_results': 500, 'start_time': '2020-03-01T00:00:00Z', 'end_time': '2021-03-01T00:00:00Z'}\n",
            "Rate limit hit... Will retry...\n",
            "Will retry in 4 seconds...\n",
            " HTTP Error code: 429: {\"title\":\"Too Many Requests\",\"type\":\"about:blank\",\"status\":429,\"detail\":\"Too Many Requests\"} | Too Many Requests\n",
            " Request payload: {'query': '(immigration OR immigrants OR migration OR migrants OR \"border control\" OR emigration OR naturalize OR naturalization OR citizenship OR non-citizens OR borders) lang:en bounding_box:[-0.5395805677102246 51.59946518694665 -0.36284309532196346 51.74100181449275]', 'max_results': 500, 'start_time': '2020-03-01T00:00:00Z', 'end_time': '2021-03-01T00:00:00Z', 'next_token': 'b26v89c19zqg8o3fo7jfemnkxbzuz0bfu4etgeiyufbzx'}\n",
            "Rate limit hit... Will retry...\n",
            "Will retry in 4 seconds...\n",
            " HTTP Error code: 429: {\"title\":\"Too Many Requests\",\"type\":\"about:blank\",\"status\":429,\"detail\":\"Too Many Requests\"} | Too Many Requests\n",
            " Request payload: {'query': '(immigration OR immigrants OR migration OR migrants OR \"border control\" OR emigration OR naturalize OR naturalization OR citizenship OR non-citizens OR borders) lang:en bounding_box:[-0.43975662497240986 51.6369307648265 -0.3685706985938051 51.70175216147576]', 'max_results': 500, 'start_time': '2020-03-01T00:00:00Z', 'end_time': '2021-03-01T00:00:00Z'}\n",
            "Rate limit hit... Will retry...\n",
            "Will retry in 4 seconds...\n",
            " HTTP Error code: 429: {\"title\":\"Too Many Requests\",\"type\":\"about:blank\",\"status\":429,\"detail\":\"Too Many Requests\"} | Too Many Requests\n",
            " Request payload: {'query': '(immigration OR immigrants OR migration OR migrants OR \"border control\" OR emigration OR naturalize OR naturalization OR citizenship OR non-citizens OR borders) lang:en bounding_box:[0.5903937349202781 50.989311490046276 1.0289644997355927 51.27000597828894]', 'max_results': 500, 'start_time': '2020-03-01T00:00:00Z', 'end_time': '2021-03-01T00:00:00Z'}\n",
            "Rate limit hit... Will retry...\n",
            "Will retry in 4 seconds...\n",
            " HTTP Error code: 429: {\"title\":\"Too Many Requests\",\"type\":\"about:blank\",\"status\":429,\"detail\":\"Too Many Requests\"} | Too Many Requests\n",
            " Request payload: {'query': '(immigration OR immigrants OR migration OR migrants OR \"border control\" OR emigration OR naturalize OR naturalization OR citizenship OR non-citizens OR borders) lang:en bounding_box:[0.9504145120074767 51.17723407115789 1.249886340220919 51.380023945078975]', 'max_results': 500, 'start_time': '2020-03-01T00:00:00Z', 'end_time': '2021-03-01T00:00:00Z', 'next_token': 'b26v89c19zqg8o3fo7aetbcaezg3hf4uyfl1eg54nyxdp'}\n",
            "Rate limit hit... Will retry...\n",
            "Will retry in 4 seconds...\n",
            " HTTP Error code: 429: {\"title\":\"Too Many Requests\",\"type\":\"about:blank\",\"status\":429,\"detail\":\"Too Many Requests\"} | Too Many Requests\n",
            " Request payload: {'query': '(immigration OR immigrants OR migration OR migrants OR \"border control\" OR emigration OR naturalize OR naturalization OR citizenship OR non-citizens OR borders) lang:en bounding_box:[0.14936828298846017 51.38656555391514 0.3449250232699157 51.47933746104619]', 'max_results': 500, 'start_time': '2020-03-01T00:00:00Z', 'end_time': '2021-03-01T00:00:00Z'}\n",
            "Rate limit hit... Will retry...\n",
            "Will retry in 4 seconds...\n",
            " HTTP Error code: 429: {\"title\":\"Too Many Requests\",\"type\":\"about:blank\",\"status\":429,\"detail\":\"Too Many Requests\"} | Too Many Requests\n",
            " Request payload: {'query': '(immigration OR immigrants OR migration OR migrants OR \"border control\" OR emigration OR naturalize OR naturalization OR citizenship OR non-citizens OR borders) lang:en bounding_box:[0.14936828298846017 51.38656555391514 0.3449250232699157 51.47933746104619]', 'max_results': 500, 'start_time': '2020-03-01T00:00:00Z', 'end_time': '2021-03-01T00:00:00Z', 'next_token': 'b26v89c19zqg8o3fos8sd1kb3nlobwqg8behz9h4nqh6l'}\n",
            "Rate limit hit... Will retry...\n",
            "Will retry in 4 seconds...\n",
            " HTTP Error code: 429: {\"title\":\"Too Many Requests\",\"type\":\"about:blank\",\"status\":429,\"detail\":\"Too Many Requests\"} | Too Many Requests\n",
            " Request payload: {'query': '(immigration OR immigrants OR migration OR migrants OR \"border control\" OR emigration OR naturalize OR naturalization OR citizenship OR non-citizens OR borders) lang:en bounding_box:[0.14936828298846017 51.38656555391514 0.3449250232699157 51.47933746104619]', 'max_results': 500, 'start_time': '2020-03-01T00:00:00Z', 'end_time': '2021-03-01T00:00:00Z', 'next_token': 'b26v89c19zqg8o3fos5t06vaww8n0oennb4pekhb498xp'}\n",
            "Rate limit hit... Will retry...\n",
            "Will retry in 4 seconds...\n",
            " HTTP Error code: 429: {\"title\":\"Too Many Requests\",\"type\":\"about:blank\",\"status\":429,\"detail\":\"Too Many Requests\"} | Too Many Requests\n",
            " Request payload: {'query': '(immigration OR immigrants OR migration OR migrants OR \"border control\" OR emigration OR naturalize OR naturalization OR citizenship OR non-citizens OR borders) lang:en bounding_box:[0.14936828298846017 51.38656555391514 0.3449250232699157 51.47933746104619]', 'max_results': 500, 'start_time': '2020-03-01T00:00:00Z', 'end_time': '2021-03-01T00:00:00Z', 'next_token': 'b26v89c19zqg8o3fo7aghxu5saubl2pfhqdqjxaqpqmbh'}\n",
            "Rate limit hit... Will retry...\n",
            "Will retry in 4 seconds...\n",
            " HTTP Error code: 429: {\"title\":\"Too Many Requests\",\"type\":\"about:blank\",\"status\":429,\"detail\":\"Too Many Requests\"} | Too Many Requests\n",
            " Request payload: {'query': '(immigration OR immigrants OR migration OR migrants OR \"border control\" OR emigration OR naturalize OR naturalization OR citizenship OR non-citizens OR borders) lang:en bounding_box:[1.142698336133594 51.09695068998679 1.4061680866383162 51.33244860808869]', 'max_results': 500, 'start_time': '2020-03-01T00:00:00Z', 'end_time': '2021-03-01T00:00:00Z', 'next_token': 'b26v89c19zqg8o3foskrglo73qz741bw3ztw0f1y8dgfx'}\n",
            "Rate limit hit... Will retry...\n",
            "Will retry in 4 seconds...\n",
            " HTTP Error code: 429: {\"title\":\"Too Many Requests\",\"type\":\"about:blank\",\"status\":429,\"detail\":\"Too Many Requests\"} | Too Many Requests\n",
            " Request payload: {'query': '(immigration OR immigrants OR migration OR migrants OR \"border control\" OR emigration OR naturalize OR naturalization OR citizenship OR non-citizens OR borders) lang:en bounding_box:[0.31055940363886503 51.32471761582777 0.4913880212212982 51.4650648599491]', 'max_results': 500, 'start_time': '2020-03-01T00:00:00Z', 'end_time': '2021-03-01T00:00:00Z', 'next_token': 'b26v89c19zqg8o3fo7gg1ptupv3uon2d7gstakdxsey65'}\n",
            "Rate limit hit... Will retry...\n",
            "Will retry in 4 seconds...\n",
            " HTTP Error code: 429: {\"title\":\"Too Many Requests\",\"type\":\"about:blank\",\"status\":429,\"detail\":\"Too Many Requests\"} | Too Many Requests\n",
            " Request payload: {'query': '(immigration OR immigrants OR migration OR migrants OR \"border control\" OR emigration OR naturalize OR naturalization OR citizenship OR non-citizens OR borders) lang:en bounding_box:[0.3784724138621316 51.13382157615426 0.796587452706583 51.338990216924856]', 'max_results': 500, 'start_time': '2020-03-01T00:00:00Z', 'end_time': '2021-03-01T00:00:00Z', 'next_token': 'b26v89c19zqg8o3fosesce5fikn1f5gkfn0k6bu2jk4u5'}\n",
            "Rate limit hit... Will retry...\n",
            "Will retry in 4 seconds...\n",
            " HTTP Error code: 429: {\"title\":\"Too Many Requests\",\"type\":\"about:blank\",\"status\":429,\"detail\":\"Too Many Requests\"} | Too Many Requests\n",
            " Request payload: {'query': '(immigration OR immigrants OR migration OR migrants OR \"border control\" OR emigration OR naturalize OR naturalization OR citizenship OR non-citizens OR borders) lang:en bounding_box:[0.3784724138621316 51.13382157615426 0.796587452706583 51.338990216924856]', 'max_results': 500, 'start_time': '2020-03-01T00:00:00Z', 'end_time': '2021-03-01T00:00:00Z', 'next_token': 'b26v89c19zqg8o3fos5vjhct7u1i0uif9y2a7aha00cxp'}\n",
            "Rate limit hit... Will retry...\n",
            "Will retry in 4 seconds...\n",
            " HTTP Error code: 429: {\"title\":\"Too Many Requests\",\"type\":\"about:blank\",\"status\":429,\"detail\":\"Too Many Requests\"} | Too Many Requests\n",
            " Request payload: {'query': '(immigration OR immigrants OR migration OR migrants OR \"border control\" OR emigration OR naturalize OR naturalization OR citizenship OR non-citizens OR borders) lang:en bounding_box:[0.3784724138621316 51.13382157615426 0.796587452706583 51.338990216924856]', 'max_results': 500, 'start_time': '2020-03-01T00:00:00Z', 'end_time': '2021-03-01T00:00:00Z', 'next_token': 'b26v89c19zqg8o3fos5t0fdlpsuz9hcljilwli1dx4z99'}\n",
            "Rate limit hit... Will retry...\n",
            "Will retry in 4 seconds...\n",
            " HTTP Error code: 429: {\"title\":\"Too Many Requests\",\"type\":\"about:blank\",\"status\":429,\"detail\":\"Too Many Requests\"} | Too Many Requests\n",
            " Request payload: {'query': '(immigration OR immigrants OR migration OR migrants OR \"border control\" OR emigration OR naturalize OR naturalization OR citizenship OR non-citizens OR borders) lang:en bounding_box:[0.3784724138621316 51.13382157615426 0.796587452706583 51.338990216924856]', 'max_results': 500, 'start_time': '2020-03-01T00:00:00Z', 'end_time': '2021-03-01T00:00:00Z', 'next_token': 'b26v89c19zqg8o3fo7gfmme53umfh7szlot82x4ms7059'}\n",
            "Rate limit hit... Will retry...\n",
            "Will retry in 4 seconds...\n",
            " HTTP Error code: 429: {\"title\":\"Too Many Requests\",\"type\":\"about:blank\",\"status\":429,\"detail\":\"Too Many Requests\"} | Too Many Requests\n",
            " Request payload: {'query': '(immigration OR immigrants OR migration OR migrants OR \"border control\" OR emigration OR naturalize OR naturalization OR citizenship OR non-citizens OR borders) lang:en bounding_box:[0.3784724138621316 51.13382157615426 0.796587452706583 51.338990216924856]', 'max_results': 500, 'start_time': '2020-03-01T00:00:00Z', 'end_time': '2021-03-01T00:00:00Z', 'next_token': 'b26v89c19zqg8o3fo7dffkranv5fiasgsuhlknxftetml'}\n",
            "Rate limit hit... Will retry...\n",
            "Will retry in 4 seconds...\n",
            " HTTP Error code: 429: {\"title\":\"Too Many Requests\",\"type\":\"about:blank\",\"status\":429,\"detail\":\"Too Many Requests\"} | Too Many Requests\n",
            " Request payload: {'query': '(immigration OR immigrants OR migration OR migrants OR \"border control\" OR emigration OR naturalize OR naturalization OR citizenship OR non-citizens OR borders) lang:en bounding_box:[0.03317975947395535 51.13203750101712 0.3449250232699157 51.418084214671204]', 'max_results': 500, 'start_time': '2020-03-01T00:00:00Z', 'end_time': '2021-03-01T00:00:00Z', 'next_token': 'b26v89c19zqg8o3fos5tfl1n8v3dkjylf71lxynrkpu9p'}\n",
            "Rate limit hit... Will retry...\n",
            "Will retry in 4 seconds...\n",
            " HTTP Error code: 429: {\"title\":\"Too Many Requests\",\"type\":\"about:blank\",\"status\":429,\"detail\":\"Too Many Requests\"} | Too Many Requests\n",
            " Request payload: {'query': '(immigration OR immigrants OR migration OR migrants OR \"border control\" OR emigration OR naturalize OR naturalization OR citizenship OR non-citizens OR borders) lang:en bounding_box:[0.15018651202729494 51.00358409114336 0.6468515385998614 51.201616431365416]', 'max_results': 500, 'start_time': '2020-03-01T00:00:00Z', 'end_time': '2021-03-01T00:00:00Z'}\n",
            "Rate limit hit... Will retry...\n",
            "Will retry in 4 seconds...\n",
            " HTTP Error code: 429: {\"title\":\"Too Many Requests\",\"type\":\"about:blank\",\"status\":429,\"detail\":\"Too Many Requests\"} | Too Many Requests\n",
            " Request payload: {'query': '(immigration OR immigrants OR migration OR migrants OR \"border control\" OR emigration OR naturalize OR naturalization OR citizenship OR non-citizens OR borders) lang:en bounding_box:[-2.34213914026272 53.72310929185041 -2.112216780350214 53.82539626637952]', 'max_results': 500, 'start_time': '2020-03-01T00:00:00Z', 'end_time': '2021-03-01T00:00:00Z', 'next_token': 'b26v89c19zqg8o3fo77fvsnelb8ysngkq71l22429vlod'}\n",
            "Rate limit hit... Will retry...\n",
            "Will retry in 4 seconds...\n",
            " HTTP Error code: 429: {\"title\":\"Too Many Requests\",\"type\":\"about:blank\",\"status\":429,\"detail\":\"Too Many Requests\"} | Too Many Requests\n",
            " Request payload: {'query': '(immigration OR immigrants OR migration OR migrants OR \"border control\" OR emigration OR naturalize OR naturalization OR citizenship OR non-citizens OR borders) lang:en bounding_box:[-2.8240760441362656 53.59346649855189 -2.5115125513014704 53.75165449404459]', 'max_results': 500, 'start_time': '2020-03-01T00:00:00Z', 'end_time': '2021-03-01T00:00:00Z'}\n",
            "Rate limit hit... Will retry...\n",
            "Will retry in 4 seconds...\n",
            " HTTP Error code: 429: {\"title\":\"Too Many Requests\",\"type\":\"about:blank\",\"status\":429,\"detail\":\"Too Many Requests\"} | Too Many Requests\n",
            " Request payload: {'query': '(immigration OR immigrants OR migration OR migrants OR \"border control\" OR emigration OR naturalize OR naturalization OR citizenship OR non-citizens OR borders) lang:en bounding_box:[-2.8240760441362656 53.59346649855189 -2.5115125513014704 53.75165449404459]', 'max_results': 500, 'start_time': '2020-03-01T00:00:00Z', 'end_time': '2021-03-01T00:00:00Z', 'next_token': 'b26v89c19zqg8o3fosbvx9wrevxck42rw8gsnm36enp19'}\n",
            "Rate limit hit... Will retry...\n",
            "Will retry in 4 seconds...\n",
            " HTTP Error code: 429: {\"title\":\"Too Many Requests\",\"type\":\"about:blank\",\"status\":429,\"detail\":\"Too Many Requests\"} | Too Many Requests\n",
            " Request payload: {'query': '(immigration OR immigrants OR migration OR migrants OR \"border control\" OR emigration OR naturalize OR naturalization OR citizenship OR non-citizens OR borders) lang:en bounding_box:[-2.8240760441362656 53.59346649855189 -2.5115125513014704 53.75165449404459]', 'max_results': 500, 'start_time': '2020-03-01T00:00:00Z', 'end_time': '2021-03-01T00:00:00Z', 'next_token': 'b26v89c19zqg8o3fo7agxicl2s58xr8yc7mw7rkjjgzul'}\n",
            "Rate limit hit... Will retry...\n",
            "Will retry in 4 seconds...\n",
            " HTTP Error code: 429: {\"title\":\"Too Many Requests\",\"type\":\"about:blank\",\"status\":429,\"detail\":\"Too Many Requests\"} | Too Many Requests\n",
            " Request payload: {'query': '(immigration OR immigrants OR migration OR migrants OR \"border control\" OR emigration OR naturalize OR naturalization OR citizenship OR non-citizens OR borders) lang:en bounding_box:[-3.0564530911652756 53.73143497582372 -2.780709905078035 53.86464591939651]', 'max_results': 500, 'start_time': '2020-03-01T00:00:00Z', 'end_time': '2021-03-01T00:00:00Z', 'next_token': 'b26v89c19zqg8o3foshsj79cxzwsfwarushykeyk6mhrx'}\n",
            "Rate limit hit... Will retry...\n",
            "Will retry in 4 seconds...\n",
            " HTTP Error code: 429: {\"title\":\"Too Many Requests\",\"type\":\"about:blank\",\"status\":429,\"detail\":\"Too Many Requests\"} | Too Many Requests\n",
            " Request payload: {'query': '(immigration OR immigrants OR migration OR migrants OR \"border control\" OR emigration OR naturalize OR naturalization OR citizenship OR non-citizens OR borders) lang:en bounding_box:[-2.924718215912914 53.91816817351057 -2.4591458928160597 54.239301698194986]', 'max_results': 500, 'start_time': '2020-03-01T00:00:00Z', 'end_time': '2021-03-01T00:00:00Z', 'next_token': 'b26v89c19zqg8o3foskuu58v51cwh1mzd01wh0zogx3zx'}\n",
            "Rate limit hit... Will retry...\n",
            "Will retry in 4 seconds...\n",
            " HTTP Error code: 429: {\"title\":\"Too Many Requests\",\"type\":\"about:blank\",\"status\":429,\"detail\":\"Too Many Requests\"} | Too Many Requests\n",
            " Request payload: {'query': '(immigration OR immigrants OR migration OR migrants OR \"border control\" OR emigration OR naturalize OR naturalization OR citizenship OR non-citizens OR borders) lang:en bounding_box:[-2.924718215912914 53.91816817351057 -2.4591458928160597 54.239301698194986]', 'max_results': 500, 'start_time': '2020-03-01T00:00:00Z', 'end_time': '2021-03-01T00:00:00Z', 'next_token': 'b26v89c19zqg8o3foshsiwm11ayaxcbm5l1mdzy752f0d'}\n",
            "Rate limit hit... Will retry...\n",
            "Will retry in 4 seconds...\n",
            " HTTP Error code: 429: {\"title\":\"Too Many Requests\",\"type\":\"about:blank\",\"status\":429,\"detail\":\"Too Many Requests\"} | Too Many Requests\n",
            " Request payload: {'query': '(immigration OR immigrants OR migration OR migrants OR \"border control\" OR emigration OR naturalize OR naturalization OR citizenship OR non-citizens OR borders) lang:en bounding_box:[-2.924718215912914 53.91816817351057 -2.4591458928160597 54.239301698194986]', 'max_results': 500, 'start_time': '2020-03-01T00:00:00Z', 'end_time': '2021-03-01T00:00:00Z', 'next_token': 'b26v89c19zqg8o3fosbviapaoqrx0s3jbvmukeg2yny4d'}\n",
            "Rate limit hit... Will retry...\n",
            "Will retry in 4 seconds...\n",
            " HTTP Error code: 429: {\"title\":\"Too Many Requests\",\"type\":\"about:blank\",\"status\":429,\"detail\":\"Too Many Requests\"} | Too Many Requests\n",
            " Request payload: {'query': '(immigration OR immigrants OR migration OR migrants OR \"border control\" OR emigration OR naturalize OR naturalization OR citizenship OR non-citizens OR borders) lang:en bounding_box:[-2.333956849874375 53.80577143987103 -2.045121999165781 53.95206560111615]', 'max_results': 500, 'start_time': '2020-03-01T00:00:00Z', 'end_time': '2021-03-01T00:00:00Z', 'next_token': 'b26v89c19zqg8o3fos5t08ytzksu1k1kp13cbkv2fx2t9'}\n",
            "Rate limit hit... Will retry...\n",
            "Will retry in 4 seconds...\n",
            " HTTP Error code: 429: {\"title\":\"Too Many Requests\",\"type\":\"about:blank\",\"status\":429,\"detail\":\"Too Many Requests\"} | Too Many Requests\n",
            " Request payload: {'query': '(immigration OR immigrants OR migration OR migrants OR \"border control\" OR emigration OR naturalize OR naturalization OR citizenship OR non-citizens OR borders) lang:en bounding_box:[-2.6506114879033427 53.756412027743615 -2.1842209357676534 54.049000350233854]', 'max_results': 500, 'start_time': '2020-03-01T00:00:00Z', 'end_time': '2021-03-01T00:00:00Z', 'next_token': 'b26v89c19zqg8o3foskv8y2g319yrzcwp3p8wf6kai931'}\n",
            "Rate limit hit... Will retry...\n",
            "Will retry in 4 seconds...\n",
            " HTTP Error code: 429: {\"title\":\"Too Many Requests\",\"type\":\"about:blank\",\"status\":429,\"detail\":\"Too Many Requests\"} | Too Many Requests\n",
            " Request payload: {'query': '(immigration OR immigrants OR migration OR migrants OR \"border control\" OR emigration OR naturalize OR naturalization OR citizenship OR non-citizens OR borders) lang:en bounding_box:[-2.855168747611978 53.67137111287348 -2.545878170932521 53.78257846308827]', 'max_results': 500, 'start_time': '2020-03-01T00:00:00Z', 'end_time': '2021-03-01T00:00:00Z'}\n",
            "Rate limit hit... Will retry...\n",
            "Will retry in 4 seconds...\n",
            " HTTP Error code: 429: {\"title\":\"Too Many Requests\",\"type\":\"about:blank\",\"status\":429,\"detail\":\"Too Many Requests\"} | Too Many Requests\n",
            " Request payload: {'query': '(immigration OR immigrants OR migration OR migrants OR \"border control\" OR emigration OR naturalize OR naturalization OR citizenship OR non-citizens OR borders) lang:en bounding_box:[-3.046634342699261 53.482853840049486 -2.6890682527285663 53.73381374267323]', 'max_results': 500, 'start_time': '2020-03-01T00:00:00Z', 'end_time': '2021-03-01T00:00:00Z', 'next_token': 'b26v89c19zqg8o3foshtsfk9zborbk1m565mmgsoo9tod'}\n",
            "Rate limit hit... Will retry...\n",
            "Will retry in 4 seconds...\n",
            " HTTP Error code: 429: {\"title\":\"Too Many Requests\",\"type\":\"about:blank\",\"status\":429,\"detail\":\"Too Many Requests\"} | Too Many Requests\n",
            " Request payload: {'query': '(immigration OR immigrants OR migration OR migrants OR \"border control\" OR emigration OR naturalize OR naturalization OR citizenship OR non-citizens OR borders) lang:en bounding_box:[-3.046634342699261 53.482853840049486 -2.6890682527285663 53.73381374267323]', 'max_results': 500, 'start_time': '2020-03-01T00:00:00Z', 'end_time': '2021-03-01T00:00:00Z', 'next_token': 'b26v89c19zqg8o3fosevpn2gfiby4hi2hi77s2tzghev1'}\n",
            "Rate limit hit... Will retry...\n",
            "Will retry in 4 seconds...\n",
            " HTTP Error code: 429: {\"title\":\"Too Many Requests\",\"type\":\"about:blank\",\"status\":429,\"detail\":\"Too Many Requests\"} | Too Many Requests\n",
            " Request payload: {'query': '(immigration OR immigrants OR migration OR migrants OR \"border control\" OR emigration OR naturalize OR naturalization OR citizenship OR non-citizens OR borders) lang:en bounding_box:[-3.046634342699261 53.482853840049486 -2.6890682527285663 53.73381374267323]', 'max_results': 500, 'start_time': '2020-03-01T00:00:00Z', 'end_time': '2021-03-01T00:00:00Z', 'next_token': 'b26v89c19zqg8o3fos5vyin7567zbkpgph9vyirtl5xfh'}\n",
            "Rate limit hit... Will retry...\n",
            "Will retry in 4 seconds...\n",
            " HTTP Error code: 429: {\"title\":\"Too Many Requests\",\"type\":\"about:blank\",\"status\":429,\"detail\":\"Too Many Requests\"} | Too Many Requests\n",
            " Request payload: {'query': '(immigration OR immigrants OR migration OR migrants OR \"border control\" OR emigration OR naturalize OR naturalization OR citizenship OR non-citizens OR borders) lang:en bounding_box:[-1.3348991934573995 52.653853592993805 -0.9470586290498266 52.824530114446446]', 'max_results': 500, 'start_time': '2020-03-01T00:00:00Z', 'end_time': '2021-03-01T00:00:00Z', 'next_token': 'b26v89c19zqg8o3fosevpkwjc14lb4ndf5lvfwjxppif1'}\n",
            "Rate limit hit... Will retry...\n",
            "Will retry in 4 seconds...\n",
            " HTTP Error code: 429: {\"title\":\"Too Many Requests\",\"type\":\"about:blank\",\"status\":429,\"detail\":\"Too Many Requests\"} | Too Many Requests\n",
            " Request payload: {'query': '(immigration OR immigrants OR migration OR migrants OR \"border control\" OR emigration OR naturalize OR naturalization OR citizenship OR non-citizens OR borders) lang:en bounding_box:[-1.3348991934573995 52.653853592993805 -0.9470586290498266 52.824530114446446]', 'max_results': 500, 'start_time': '2020-03-01T00:00:00Z', 'end_time': '2021-03-01T00:00:00Z', 'next_token': 'b26v89c19zqg8o3fosetlg1v5e10bmicltyfkwenp5gu5'}\n",
            "Rate limit hit... Will retry...\n",
            "Will retry in 4 seconds...\n",
            " HTTP Error code: 400: {\"errors\":[{\"parameters\":{\"query\":[\"(immigration OR immigrants OR migration OR migrants OR \\\"border control\\\" OR emigration OR naturalize OR naturalization OR citizenship OR non-citizens OR borders) lang:en bounding_box:[-1.3062611770981905 52.39218923954725 -0.7130451239431475 52.68477756203749]\"]},\"message\":\"There were errors processing your request: Width of bounding_box must be less than 25 miles (at position 170)\"}],\"title\":\"Invalid Request\",\"detail\":\"One or more parameters to your request was invalid.\",\"type\":\"https://api.twitter.com/2/problems/invalid-request\"} | Bad Request\n",
            " Request payload: {'query': '(immigration OR immigrants OR migration OR migrants OR \"border control\" OR emigration OR naturalize OR naturalization OR citizenship OR non-citizens OR borders) lang:en bounding_box:[-1.3062611770981905 52.39218923954725 -0.7130451239431475 52.68477756203749]', 'max_results': 500, 'start_time': '2020-03-01T00:00:00Z', 'end_time': '2021-03-01T00:00:00Z'}\n",
            "Quitting... \n"
          ],
          "name": "stderr"
        },
        {
          "output_type": "stream",
          "text": [
            "An error happened while retrieving Harborough data\n"
          ],
          "name": "stdout"
        },
        {
          "output_type": "stream",
          "text": [
            " HTTP Error code: 429: {\"title\":\"Too Many Requests\",\"type\":\"about:blank\",\"status\":429,\"detail\":\"Too Many Requests\"} | Too Many Requests\n",
            " Request payload: {'query': '(immigration OR immigrants OR migration OR migrants OR \"border control\" OR emigration OR naturalize OR naturalization OR citizenship OR non-citizens OR borders) lang:en bounding_box:[-1.571367385680582 52.501017822912516 -1.1998914020496994 52.715106839368794]', 'max_results': 500, 'start_time': '2020-03-01T00:00:00Z', 'end_time': '2021-03-01T00:00:00Z', 'next_token': 'b26v89c19zqg8o3foskutsfb09s0dj7uvmvl9fn21be65'}\n",
            "Rate limit hit... Will retry...\n",
            "Will retry in 4 seconds...\n",
            " HTTP Error code: 429: {\"title\":\"Too Many Requests\",\"type\":\"about:blank\",\"status\":429,\"detail\":\"Too Many Requests\"} | Too Many Requests\n",
            " Request payload: {'query': '(immigration OR immigrants OR migration OR migrants OR \"border control\" OR emigration OR naturalize OR naturalization OR citizenship OR non-citizens OR borders) lang:en bounding_box:[-1.0468825717876404 52.64612260073288 -0.6639513816130744 52.97736588452773]', 'max_results': 500, 'start_time': '2020-03-01T00:00:00Z', 'end_time': '2021-03-01T00:00:00Z', 'next_token': 'b26v89c19zqg8o3fosbteeg8bswlz0389aif82cryeet9'}\n",
            "Rate limit hit... Will retry...\n",
            "Will retry in 4 seconds...\n",
            " HTTP Error code: 429: {\"title\":\"Too Many Requests\",\"type\":\"about:blank\",\"status\":429,\"detail\":\"Too Many Requests\"} | Too Many Requests\n",
            " Request payload: {'query': '(immigration OR immigrants OR migration OR migrants OR \"border control\" OR emigration OR naturalize OR naturalization OR citizenship OR non-citizens OR borders) lang:en bounding_box:[-1.0468825717876404 52.64612260073288 -0.6639513816130744 52.97736588452773]', 'max_results': 500, 'start_time': '2020-03-01T00:00:00Z', 'end_time': '2021-03-01T00:00:00Z', 'next_token': 'b26v89c19zqg8o3fos8uw3g7hskuoj3xym21yjt3ik7st'}\n",
            "Rate limit hit... Will retry...\n",
            "Will retry in 4 seconds...\n",
            " HTTP Error code: 429: {\"title\":\"Too Many Requests\",\"type\":\"about:blank\",\"status\":429,\"detail\":\"Too Many Requests\"} | Too Many Requests\n",
            " Request payload: {'query': '(immigration OR immigrants OR migration OR migrants OR \"border control\" OR emigration OR naturalize OR naturalization OR citizenship OR non-citizens OR borders) lang:en bounding_box:[-1.0468825717876404 52.64612260073288 -0.6639513816130744 52.97736588452773]', 'max_results': 500, 'start_time': '2020-03-01T00:00:00Z', 'end_time': '2021-03-01T00:00:00Z', 'next_token': 'b26v89c19zqg8o3fo7mcntmfijm2xf9kc8u9zll0cwg3h'}\n",
            "Rate limit hit... Will retry...\n",
            "Will retry in 4 seconds...\n",
            " HTTP Error code: 429: {\"title\":\"Too Many Requests\",\"type\":\"about:blank\",\"status\":429,\"detail\":\"Too Many Requests\"} | Too Many Requests\n",
            " Request payload: {'query': '(immigration OR immigrants OR migration OR migrants OR \"border control\" OR emigration OR naturalize OR naturalization OR citizenship OR non-citizens OR borders) lang:en bounding_box:[-1.0468825717876404 52.64612260073288 -0.6639513816130744 52.97736588452773]', 'max_results': 500, 'start_time': '2020-03-01T00:00:00Z', 'end_time': '2021-03-01T00:00:00Z', 'next_token': 'b26v89c19zqg8o3fo7df0jdb7wx3lcdigi3s2lfcxvou5'}\n",
            "Rate limit hit... Will retry...\n",
            "Will retry in 4 seconds...\n",
            " HTTP Error code: 429: {\"title\":\"Too Many Requests\",\"type\":\"about:blank\",\"status\":429,\"detail\":\"Too Many Requests\"} | Too Many Requests\n",
            " Request payload: {'query': '(immigration OR immigrants OR migration OR migrants OR \"border control\" OR emigration OR naturalize OR naturalization OR citizenship OR non-citizens OR borders) lang:en bounding_box:[-1.0468825717876404 52.64612260073288 -0.6639513816130744 52.97736588452773]', 'max_results': 500, 'start_time': '2020-03-01T00:00:00Z', 'end_time': '2021-03-01T00:00:00Z', 'next_token': 'b26v89c19zqg8o3fo77h5oebguv1g0tkjrkh0jqnk24ql'}\n",
            "Rate limit hit... Will retry...\n",
            "Will retry in 4 seconds...\n",
            " HTTP Error code: 429: {\"title\":\"Too Many Requests\",\"type\":\"about:blank\",\"status\":429,\"detail\":\"Too Many Requests\"} | Too Many Requests\n",
            " Request payload: {'query': '(immigration OR immigrants OR migration OR migrants OR \"border control\" OR emigration OR naturalize OR naturalization OR citizenship OR non-citizens OR borders) lang:en bounding_box:[-0.24665457180745864 52.86259038403867 0.19928025435736707 53.08678915960538]', 'max_results': 500, 'start_time': '2020-03-01T00:00:00Z', 'end_time': '2021-03-01T00:00:00Z'}\n",
            "Rate limit hit... Will retry...\n",
            "Will retry in 4 seconds...\n",
            " HTTP Error code: 429: {\"title\":\"Too Many Requests\",\"type\":\"about:blank\",\"status\":429,\"detail\":\"Too Many Requests\"} | Too Many Requests\n",
            " Request payload: {'query': '(immigration OR immigrants OR migration OR migrants OR \"border control\" OR emigration OR naturalize OR naturalization OR citizenship OR non-citizens OR borders) lang:en bounding_box:[-0.3178404981860634 53.00115355302287 0.3555620007747642 53.526861026765495]', 'max_results': 500, 'start_time': '2020-03-01T00:00:00Z', 'end_time': '2021-03-01T00:00:00Z'}\n",
            "Rate limit hit... Will retry...\n",
            "Will retry in 4 seconds...\n",
            " HTTP Error code: 400: {\"errors\":[{\"parameters\":{\"query\":[\"(immigration OR immigrants OR migration OR migrants OR \\\"border control\\\" OR emigration OR naturalize OR naturalization OR citizenship OR non-citizens OR borders) lang:en bounding_box:[-0.3178404981860634 53.00115355302287 0.3555620007747642 53.526861026765495]\"]},\"message\":\"There were errors processing your request: Height of bounding_box must be less than 25 miles (at position 170), Width of bounding_box must be less than 25 miles (at position 170)\"}],\"title\":\"Invalid Request\",\"detail\":\"One or more parameters to your request was invalid.\",\"type\":\"https://api.twitter.com/2/problems/invalid-request\"} | Bad Request\n",
            " Request payload: {'query': '(immigration OR immigrants OR migration OR migrants OR \"border control\" OR emigration OR naturalize OR naturalization OR citizenship OR non-citizens OR borders) lang:en bounding_box:[-0.3178404981860634 53.00115355302287 0.3555620007747642 53.526861026765495]', 'max_results': 500, 'start_time': '2020-03-01T00:00:00Z', 'end_time': '2021-03-01T00:00:00Z'}\n",
            "Quitting... \n"
          ],
          "name": "stderr"
        },
        {
          "output_type": "stream",
          "text": [
            "An error happened while retrieving East Lindsey data\n"
          ],
          "name": "stdout"
        },
        {
          "output_type": "stream",
          "text": [
            " HTTP Error code: 429: {\"title\":\"Too Many Requests\",\"type\":\"about:blank\",\"status\":429,\"detail\":\"Too Many Requests\"} | Too Many Requests\n",
            " Request payload: {'query': '(immigration OR immigrants OR migration OR migrants OR \"border control\" OR emigration OR naturalize OR naturalization OR citizenship OR non-citizens OR borders) lang:en bounding_box:[-0.6222217006325135 53.18610267557259 -0.49375974153548974 53.254492222496125]', 'max_results': 500, 'start_time': '2020-03-01T00:00:00Z', 'end_time': '2021-03-01T00:00:00Z'}\n",
            "Rate limit hit... Will retry...\n",
            "Will retry in 4 seconds...\n",
            " HTTP Error code: 400: {\"errors\":[{\"parameters\":{\"query\":[\"(immigration OR immigrants OR migration OR migrants OR \\\"border control\\\" OR emigration OR naturalize OR naturalization OR citizenship OR non-citizens OR borders) lang:en bounding_box:[-0.7637753243508891 52.88697274424619 -0.19019676812787534 53.258060372770395]\"]},\"message\":\"There were errors processing your request: Height of bounding_box must be less than 25 miles (at position 170)\"}],\"title\":\"Invalid Request\",\"detail\":\"One or more parameters to your request was invalid.\",\"type\":\"https://api.twitter.com/2/problems/invalid-request\"} | Bad Request\n",
            " Request payload: {'query': '(immigration OR immigrants OR migration OR migrants OR \"border control\" OR emigration OR naturalize OR naturalization OR citizenship OR non-citizens OR borders) lang:en bounding_box:[-0.7637753243508891 52.88697274424619 -0.19019676812787534 53.258060372770395]', 'max_results': 500, 'start_time': '2020-03-01T00:00:00Z', 'end_time': '2021-03-01T00:00:00Z'}\n",
            "Quitting... \n"
          ],
          "name": "stderr"
        },
        {
          "output_type": "stream",
          "text": [
            "An error happened while retrieving North Kesteven data\n"
          ],
          "name": "stdout"
        },
        {
          "output_type": "stream",
          "text": [
            " HTTP Error code: 429: {\"title\":\"Too Many Requests\",\"type\":\"about:blank\",\"status\":429,\"detail\":\"Too Many Requests\"} | Too Many Requests\n",
            " Request payload: {'query': '(immigration OR immigrants OR migration OR migrants OR \"border control\" OR emigration OR naturalize OR naturalization OR citizenship OR non-citizens OR borders) lang:en bounding_box:[-0.30720352068121404 52.65147482614429 0.2721026388136414 52.928601164112685]', 'max_results': 500, 'start_time': '2020-03-01T00:00:00Z', 'end_time': '2021-03-01T00:00:00Z'}\n",
            "Rate limit hit... Will retry...\n",
            "Will retry in 4 seconds...\n",
            " HTTP Error code: 429: {\"title\":\"Too Many Requests\",\"type\":\"about:blank\",\"status\":429,\"detail\":\"Too Many Requests\"} | Too Many Requests\n",
            " Request payload: {'query': '(immigration OR immigrants OR migration OR migrants OR \"border control\" OR emigration OR naturalize OR naturalization OR citizenship OR non-citizens OR borders) lang:en bounding_box:[-0.30720352068121404 52.65147482614429 0.2721026388136414 52.928601164112685]', 'max_results': 500, 'start_time': '2020-03-01T00:00:00Z', 'end_time': '2021-03-01T00:00:00Z', 'next_token': 'b26v89c19zqg8o3fos8t7j62f9mdwtlkauqgcmuz1dqwt'}\n",
            "Rate limit hit... Will retry...\n",
            "Will retry in 4 seconds...\n",
            " HTTP Error code: 400: {\"errors\":[{\"parameters\":{\"query\":[\"(immigration OR immigrants OR migration OR migrants OR \\\"border control\\\" OR emigration OR naturalize OR naturalization OR citizenship OR non-citizens OR borders) lang:en bounding_box:[-0.8046867762926162 52.640175683609094 -0.21228895217640797 53.060028032548345]\"]},\"message\":\"There were errors processing your request: Height of bounding_box must be less than 25 miles (at position 170)\"}],\"title\":\"Invalid Request\",\"detail\":\"One or more parameters to your request was invalid.\",\"type\":\"https://api.twitter.com/2/problems/invalid-request\"} | Bad Request\n",
            " Request payload: {'query': '(immigration OR immigrants OR migration OR migrants OR \"border control\" OR emigration OR naturalize OR naturalization OR citizenship OR non-citizens OR borders) lang:en bounding_box:[-0.8046867762926162 52.640175683609094 -0.21228895217640797 53.060028032548345]', 'max_results': 500, 'start_time': '2020-03-01T00:00:00Z', 'end_time': '2021-03-01T00:00:00Z'}\n",
            "Quitting... \n"
          ],
          "name": "stderr"
        },
        {
          "output_type": "stream",
          "text": [
            "An error happened while retrieving South Kesteven data\n"
          ],
          "name": "stdout"
        },
        {
          "output_type": "stream",
          "text": [
            " HTTP Error code: 429: {\"title\":\"Too Many Requests\",\"type\":\"about:blank\",\"status\":429,\"detail\":\"Too Many Requests\"} | Too Many Requests\n",
            " Request payload: {'query': '(immigration OR immigrants OR migration OR migrants OR \"border control\" OR emigration OR naturalize OR naturalization OR citizenship OR non-citizens OR borders) lang:en bounding_box:[-0.8202331280304724 53.17896637502405 -0.13210250637062249 53.61665947533466]', 'max_results': 500, 'start_time': '2020-03-01T00:00:00Z', 'end_time': '2021-03-01T00:00:00Z'}\n",
            "Rate limit hit... Will retry...\n",
            "Will retry in 4 seconds...\n",
            " HTTP Error code: 400: {\"errors\":[{\"parameters\":{\"query\":[\"(immigration OR immigrants OR migration OR migrants OR \\\"border control\\\" OR emigration OR naturalize OR naturalization OR citizenship OR non-citizens OR borders) lang:en bounding_box:[-0.8202331280304724 53.17896637502405 -0.13210250637062249 53.61665947533466]\"]},\"message\":\"There were errors processing your request: Height of bounding_box must be less than 25 miles (at position 170), Width of bounding_box must be less than 25 miles (at position 170)\"}],\"title\":\"Invalid Request\",\"detail\":\"One or more parameters to your request was invalid.\",\"type\":\"https://api.twitter.com/2/problems/invalid-request\"} | Bad Request\n",
            " Request payload: {'query': '(immigration OR immigrants OR migration OR migrants OR \"border control\" OR emigration OR naturalize OR naturalization OR citizenship OR non-citizens OR borders) lang:en bounding_box:[-0.8202331280304724 53.17896637502405 -0.13210250637062249 53.61665947533466]', 'max_results': 500, 'start_time': '2020-03-01T00:00:00Z', 'end_time': '2021-03-01T00:00:00Z'}\n",
            "Quitting... \n"
          ],
          "name": "stderr"
        },
        {
          "output_type": "stream",
          "text": [
            "An error happened while retrieving West Lindsey data\n"
          ],
          "name": "stdout"
        },
        {
          "output_type": "stream",
          "text": [
            " HTTP Error code: 400: {\"errors\":[{\"parameters\":{\"query\":[\"(immigration OR immigrants OR migration OR migrants OR \\\"border control\\\" OR emigration OR naturalize OR naturalization OR citizenship OR non-citizens OR borders) lang:en bounding_box:[0.5306630150853566 52.36959095447686 1.1083327165025434 52.810852205061735]\"]},\"message\":\"There were errors processing your request: Height of bounding_box must be less than 25 miles (at position 170)\"}],\"title\":\"Invalid Request\",\"detail\":\"One or more parameters to your request was invalid.\",\"type\":\"https://api.twitter.com/2/problems/invalid-request\"} | Bad Request\n",
            " Request payload: {'query': '(immigration OR immigrants OR migration OR migrants OR \"border control\" OR emigration OR naturalize OR naturalization OR citizenship OR non-citizens OR borders) lang:en bounding_box:[0.5306630150853566 52.36959095447686 1.1083327165025434 52.810852205061735]', 'max_results': 500, 'start_time': '2020-03-01T00:00:00Z', 'end_time': '2021-03-01T00:00:00Z'}\n",
            "Quitting... \n"
          ],
          "name": "stderr"
        },
        {
          "output_type": "stream",
          "text": [
            "An error happened while retrieving Breckland data\n"
          ],
          "name": "stdout"
        },
        {
          "output_type": "stream",
          "text": [
            " HTTP Error code: 429: {\"title\":\"Too Many Requests\",\"type\":\"about:blank\",\"status\":429,\"detail\":\"Too Many Requests\"} | Too Many Requests\n",
            " Request payload: {'query': '(immigration OR immigrants OR migration OR migrants OR \"border control\" OR emigration OR naturalize OR naturalization OR citizenship OR non-citizens OR borders) lang:en bounding_box:[0.990507734910369 52.555729460451346 1.677820127531385 52.830477031570226]', 'max_results': 500, 'start_time': '2020-03-01T00:00:00Z', 'end_time': '2021-03-01T00:00:00Z'}\n",
            "Rate limit hit... Will retry...\n",
            "Will retry in 4 seconds...\n",
            " HTTP Error code: 400: {\"errors\":[{\"parameters\":{\"query\":[\"(immigration OR immigrants OR migration OR migrants OR \\\"border control\\\" OR emigration OR naturalize OR naturalization OR citizenship OR non-citizens OR borders) lang:en bounding_box:[0.990507734910369 52.555729460451346 1.677820127531385 52.830477031570226]\"]},\"message\":\"There were errors processing your request: Width of bounding_box must be less than 25 miles (at position 170)\"}],\"title\":\"Invalid Request\",\"detail\":\"One or more parameters to your request was invalid.\",\"type\":\"https://api.twitter.com/2/problems/invalid-request\"} | Bad Request\n",
            " Request payload: {'query': '(immigration OR immigrants OR migration OR migrants OR \"border control\" OR emigration OR naturalize OR naturalization OR citizenship OR non-citizens OR borders) lang:en bounding_box:[0.990507734910369 52.555729460451346 1.677820127531385 52.830477031570226]', 'max_results': 500, 'start_time': '2020-03-01T00:00:00Z', 'end_time': '2021-03-01T00:00:00Z'}\n",
            "Quitting... \n"
          ],
          "name": "stderr"
        },
        {
          "output_type": "stream",
          "text": [
            "An error happened while retrieving Broadland data\n"
          ],
          "name": "stdout"
        },
        {
          "output_type": "stream",
          "text": [
            " HTTP Error code: 429: {\"title\":\"Too Many Requests\",\"type\":\"about:blank\",\"status\":429,\"detail\":\"Too Many Requests\"} | Too Many Requests\n",
            " Request payload: {'query': '(immigration OR immigrants OR migration OR migrants OR \"border control\" OR emigration OR naturalize OR naturalization OR citizenship OR non-citizens OR borders) lang:en bounding_box:[1.5452670232401884 52.52599487483242 1.7457331377546517 52.74246265813821]', 'max_results': 500, 'start_time': '2020-03-01T00:00:00Z', 'end_time': '2021-03-01T00:00:00Z'}\n",
            "Rate limit hit... Will retry...\n",
            "Will retry in 4 seconds...\n",
            " HTTP Error code: 429: {\"title\":\"Too Many Requests\",\"type\":\"about:blank\",\"status\":429,\"detail\":\"Too Many Requests\"} | Too Many Requests\n",
            " Request payload: {'query': '(immigration OR immigrants OR migration OR migrants OR \"border control\" OR emigration OR naturalize OR naturalization OR citizenship OR non-citizens OR borders) lang:en bounding_box:[1.5452670232401884 52.52599487483242 1.7457331377546517 52.74246265813821]', 'max_results': 500, 'start_time': '2020-03-01T00:00:00Z', 'end_time': '2021-03-01T00:00:00Z', 'next_token': 'b26v89c19zqg8o3fo7ggh3yp9rkm6phkp6xsyraht108t'}\n",
            "Rate limit hit... Will retry...\n",
            "Will retry in 4 seconds...\n",
            " HTTP Error code: 400: {\"errors\":[{\"parameters\":{\"query\":[\"(immigration OR immigrants OR migration OR migrants OR \\\"border control\\\" OR emigration OR naturalize OR naturalization OR citizenship OR non-citizens OR borders) lang:en bounding_box:[0.15427765722146702 52.43619642626326 0.8219525529104539 52.98866502706292]\"]},\"message\":\"There were errors processing your request: Height of bounding_box must be less than 25 miles (at position 170), Width of bounding_box must be less than 25 miles (at position 170)\"}],\"title\":\"Invalid Request\",\"detail\":\"One or more parameters to your request was invalid.\",\"type\":\"https://api.twitter.com/2/problems/invalid-request\"} | Bad Request\n",
            " Request payload: {'query': '(immigration OR immigrants OR migration OR migrants OR \"border control\" OR emigration OR naturalize OR naturalization OR citizenship OR non-citizens OR borders) lang:en bounding_box:[0.15427765722146702 52.43619642626326 0.8219525529104539 52.98866502706292]', 'max_results': 500, 'start_time': '2020-03-01T00:00:00Z', 'end_time': '2021-03-01T00:00:00Z'}\n",
            "Quitting... \n"
          ],
          "name": "stderr"
        },
        {
          "output_type": "stream",
          "text": [
            "An error happened while retrieving King's Lynn and West Norfolk data\n"
          ],
          "name": "stdout"
        },
        {
          "output_type": "stream",
          "text": [
            " HTTP Error code: 429: {\"title\":\"Too Many Requests\",\"type\":\"about:blank\",\"status\":429,\"detail\":\"Too Many Requests\"} | Too Many Requests\n",
            " Request payload: {'query': '(immigration OR immigrants OR migration OR migrants OR \"border control\" OR emigration OR naturalize OR naturalization OR citizenship OR non-citizens OR borders) lang:en bounding_box:[0.7082187165124525 52.68002002833846 1.6753654404148808 52.97974465137724]', 'max_results': 500, 'start_time': '2020-03-01T00:00:00Z', 'end_time': '2021-03-01T00:00:00Z'}\n",
            "Rate limit hit... Will retry...\n",
            "Will retry in 4 seconds...\n",
            " HTTP Error code: 400: {\"errors\":[{\"parameters\":{\"query\":[\"(immigration OR immigrants OR migration OR migrants OR \\\"border control\\\" OR emigration OR naturalize OR naturalization OR citizenship OR non-citizens OR borders) lang:en bounding_box:[0.7082187165124525 52.68002002833846 1.6753654404148808 52.97974465137724]\"]},\"message\":\"There were errors processing your request: Width of bounding_box must be less than 25 miles (at position 170)\"}],\"title\":\"Invalid Request\",\"detail\":\"One or more parameters to your request was invalid.\",\"type\":\"https://api.twitter.com/2/problems/invalid-request\"} | Bad Request\n",
            " Request payload: {'query': '(immigration OR immigrants OR migration OR migrants OR \"border control\" OR emigration OR naturalize OR naturalization OR citizenship OR non-citizens OR borders) lang:en bounding_box:[0.7082187165124525 52.68002002833846 1.6753654404148808 52.97974465137724]', 'max_results': 500, 'start_time': '2020-03-01T00:00:00Z', 'end_time': '2021-03-01T00:00:00Z'}\n",
            "Quitting... \n"
          ],
          "name": "stderr"
        },
        {
          "output_type": "stream",
          "text": [
            "An error happened while retrieving North Norfolk data\n"
          ],
          "name": "stdout"
        },
        {
          "output_type": "stream",
          "text": [
            " HTTP Error code: 429: {\"title\":\"Too Many Requests\",\"type\":\"about:blank\",\"status\":429,\"detail\":\"Too Many Requests\"} | Too Many Requests\n",
            " Request payload: {'query': '(immigration OR immigrants OR migration OR migrants OR \"border control\" OR emigration OR naturalize OR naturalization OR citizenship OR non-citizens OR borders) lang:en bounding_box:[1.2040655140461842 52.59497911346833 1.3423462216092226 52.68477756203749]', 'max_results': 500, 'start_time': '2020-03-01T00:00:00Z', 'end_time': '2021-03-01T00:00:00Z'}\n",
            "Rate limit hit... Will retry...\n",
            "Will retry in 4 seconds...\n",
            " HTTP Error code: 429: {\"title\":\"Too Many Requests\",\"type\":\"about:blank\",\"status\":429,\"detail\":\"Too Many Requests\"} | Too Many Requests\n",
            " Request payload: {'query': '(immigration OR immigrants OR migration OR migrants OR \"border control\" OR emigration OR naturalize OR naturalization OR citizenship OR non-citizens OR borders) lang:en bounding_box:[0.9471415958521385 52.35531835337978 1.6819112727255572 52.67823595320132]', 'max_results': 500, 'start_time': '2020-03-01T00:00:00Z', 'end_time': '2021-03-01T00:00:00Z'}\n",
            "Rate limit hit... Will retry...\n",
            "Will retry in 4 seconds...\n",
            " HTTP Error code: 400: {\"errors\":[{\"parameters\":{\"query\":[\"(immigration OR immigrants OR migration OR migrants OR \\\"border control\\\" OR emigration OR naturalize OR naturalization OR citizenship OR non-citizens OR borders) lang:en bounding_box:[0.9471415958521385 52.35531835337978 1.6819112727255572 52.67823595320132]\"]},\"message\":\"There were errors processing your request: Width of bounding_box must be less than 25 miles (at position 170)\"}],\"title\":\"Invalid Request\",\"detail\":\"One or more parameters to your request was invalid.\",\"type\":\"https://api.twitter.com/2/problems/invalid-request\"} | Bad Request\n",
            " Request payload: {'query': '(immigration OR immigrants OR migration OR migrants OR \"border control\" OR emigration OR naturalize OR naturalization OR citizenship OR non-citizens OR borders) lang:en bounding_box:[0.9471415958521385 52.35531835337978 1.6819112727255572 52.67823595320132]', 'max_results': 500, 'start_time': '2020-03-01T00:00:00Z', 'end_time': '2021-03-01T00:00:00Z'}\n",
            "Quitting... \n"
          ],
          "name": "stderr"
        },
        {
          "output_type": "stream",
          "text": [
            "An error happened while retrieving South Norfolk data\n"
          ],
          "name": "stdout"
        },
        {
          "output_type": "stream",
          "text": [
            " HTTP Error code: 429: {\"title\":\"Too Many Requests\",\"type\":\"about:blank\",\"status\":429,\"detail\":\"Too Many Requests\"} | Too Many Requests\n",
            " Request payload: {'query': '(immigration OR immigrants OR migration OR migrants OR \"border control\" OR emigration OR naturalize OR naturalization OR citizenship OR non-citizens OR borders) lang:en bounding_box:[-1.2849872220884917 52.14301341206064 -0.7858675083994218 52.47723015441738]', 'max_results': 500, 'start_time': '2020-03-01T00:00:00Z', 'end_time': '2021-03-01T00:00:00Z'}\n",
            "Rate limit hit... Will retry...\n",
            "Will retry in 4 seconds...\n",
            " HTTP Error code: 400: {\"errors\":[{\"parameters\":{\"query\":[\"(immigration OR immigrants OR migration OR migrants OR \\\"border control\\\" OR emigration OR naturalize OR naturalization OR citizenship OR non-citizens OR borders) lang:en bounding_box:[-0.6745883591179238 52.253626070563044 -0.3415691403122656 52.64374383388337]\"]},\"message\":\"There were errors processing your request: Height of bounding_box must be less than 25 miles (at position 170)\"}],\"title\":\"Invalid Request\",\"detail\":\"One or more parameters to your request was invalid.\",\"type\":\"https://api.twitter.com/2/problems/invalid-request\"} | Bad Request\n",
            " Request payload: {'query': '(immigration OR immigrants OR migration OR migrants OR \"border control\" OR emigration OR naturalize OR naturalization OR citizenship OR non-citizens OR borders) lang:en bounding_box:[-0.6745883591179238 52.253626070563044 -0.3415691403122656 52.64374383388337]', 'max_results': 500, 'start_time': '2020-03-01T00:00:00Z', 'end_time': '2021-03-01T00:00:00Z'}\n",
            "Quitting... \n"
          ],
          "name": "stderr"
        },
        {
          "output_type": "stream",
          "text": [
            "An error happened while retrieving East Northamptonshire data\n"
          ],
          "name": "stdout"
        },
        {
          "output_type": "stream",
          "text": [
            " HTTP Error code: 429: {\"title\":\"Too Many Requests\",\"type\":\"about:blank\",\"status\":429,\"detail\":\"Too Many Requests\"} | Too Many Requests\n",
            " Request payload: {'query': '(immigration OR immigrants OR migration OR migrants OR \"border control\" OR emigration OR naturalize OR naturalization OR citizenship OR non-citizens OR borders) lang:en bounding_box:[-0.9061471771080996 52.346992669406475 -0.6140394102441675 52.52837364168193]', 'max_results': 500, 'start_time': '2020-03-01T00:00:00Z', 'end_time': '2021-03-01T00:00:00Z'}\n",
            "Rate limit hit... Will retry...\n",
            "Will retry in 4 seconds...\n",
            " HTTP Error code: 400: {\"errors\":[{\"parameters\":{\"query\":[\"(immigration OR immigrants OR migration OR migrants OR \\\"border control\\\" OR emigration OR naturalize OR naturalization OR citizenship OR non-citizens OR borders) lang:en bounding_box:[-1.3324445063408952 51.977094424307026 -0.7048628335548015 52.25957298768683]\"]},\"message\":\"There were errors processing your request: Width of bounding_box must be less than 25 miles (at position 170)\"}],\"title\":\"Invalid Request\",\"detail\":\"One or more parameters to your request was invalid.\",\"type\":\"https://api.twitter.com/2/problems/invalid-request\"} | Bad Request\n",
            " Request payload: {'query': '(immigration OR immigrants OR migration OR migrants OR \"border control\" OR emigration OR naturalize OR naturalization OR citizenship OR non-citizens OR borders) lang:en bounding_box:[-1.3324445063408952 51.977094424307026 -0.7048628335548015 52.25957298768683]', 'max_results': 500, 'start_time': '2020-03-01T00:00:00Z', 'end_time': '2021-03-01T00:00:00Z'}\n",
            "Quitting... \n"
          ],
          "name": "stderr"
        },
        {
          "output_type": "stream",
          "text": [
            "An error happened while retrieving South Northamptonshire data\n"
          ],
          "name": "stdout"
        },
        {
          "output_type": "stream",
          "text": [
            " HTTP Error code: 429: {\"title\":\"Too Many Requests\",\"type\":\"about:blank\",\"status\":429,\"detail\":\"Too Many Requests\"} | Too Many Requests\n",
            " Request payload: {'query': '(immigration OR immigrants OR migration OR migrants OR \"border control\" OR emigration OR naturalize OR naturalization OR citizenship OR non-citizens OR borders) lang:en bounding_box:[-0.817778440913969 52.191778132475676 -0.6107664940888293 52.364238729065455]', 'max_results': 500, 'start_time': '2020-03-01T00:00:00Z', 'end_time': '2021-03-01T00:00:00Z'}\n",
            "Rate limit hit... Will retry...\n",
            "Will retry in 4 seconds...\n",
            " HTTP Error code: 400: {\"errors\":[{\"parameters\":{\"query\":[\"(immigration OR immigrants OR migration OR migrants OR \\\"border control\\\" OR emigration OR naturalize OR naturalization OR citizenship OR non-citizens OR borders) lang:en bounding_box:[-2.564697438825716 53.85037331829942 -1.8168360973309445 54.257142449566345]\"]},\"message\":\"There were errors processing your request: Height of bounding_box must be less than 25 miles (at position 170), Width of bounding_box must be less than 25 miles (at position 170)\"}],\"title\":\"Invalid Request\",\"detail\":\"One or more parameters to your request was invalid.\",\"type\":\"https://api.twitter.com/2/problems/invalid-request\"} | Bad Request\n",
            " Request payload: {'query': '(immigration OR immigrants OR migration OR migrants OR \"border control\" OR emigration OR naturalize OR naturalization OR citizenship OR non-citizens OR borders) lang:en bounding_box:[-2.564697438825716 53.85037331829942 -1.8168360973309445 54.257142449566345]', 'max_results': 500, 'start_time': '2020-03-01T00:00:00Z', 'end_time': '2021-03-01T00:00:00Z'}\n",
            "Quitting... \n"
          ],
          "name": "stderr"
        },
        {
          "output_type": "stream",
          "text": [
            "An error happened while retrieving Craven data\n"
          ],
          "name": "stdout"
        },
        {
          "output_type": "stream",
          "text": [
            " HTTP Error code: 429: {\"title\":\"Too Many Requests\",\"type\":\"about:blank\",\"status\":429,\"detail\":\"Too Many Requests\"} | Too Many Requests\n",
            " Request payload: {'query': '(immigration OR immigrants OR migration OR migrants OR \"border control\" OR emigration OR naturalize OR naturalization OR citizenship OR non-citizens OR borders) lang:en bounding_box:[-1.7055569480494466 53.988936487283624 -0.9724237292536975 54.512265194176734]', 'max_results': 500, 'start_time': '2020-03-01T00:00:00Z', 'end_time': '2021-03-01T00:00:00Z'}\n",
            "Rate limit hit... Will retry...\n",
            "Will retry in 4 seconds...\n",
            " HTTP Error code: 400: {\"errors\":[{\"parameters\":{\"query\":[\"(immigration OR immigrants OR migration OR migrants OR \\\"border control\\\" OR emigration OR naturalize OR naturalization OR citizenship OR non-citizens OR borders) lang:en bounding_box:[-1.7055569480494466 53.988936487283624 -0.9724237292536975 54.512265194176734]\"]},\"message\":\"There were errors processing your request: Height of bounding_box must be less than 25 miles (at position 170), Width of bounding_box must be less than 25 miles (at position 170)\"}],\"title\":\"Invalid Request\",\"detail\":\"One or more parameters to your request was invalid.\",\"type\":\"https://api.twitter.com/2/problems/invalid-request\"} | Bad Request\n",
            " Request payload: {'query': '(immigration OR immigrants OR migration OR migrants OR \"border control\" OR emigration OR naturalize OR naturalization OR citizenship OR non-citizens OR borders) lang:en bounding_box:[-1.7055569480494466 53.988936487283624 -0.9724237292536975 54.512265194176734]', 'max_results': 500, 'start_time': '2020-03-01T00:00:00Z', 'end_time': '2021-03-01T00:00:00Z'}\n",
            "Quitting... \n"
          ],
          "name": "stderr"
        },
        {
          "output_type": "stream",
          "text": [
            "An error happened while retrieving Hambleton data\n"
          ],
          "name": "stdout"
        },
        {
          "output_type": "stream",
          "text": [
            " HTTP Error code: 400: {\"errors\":[{\"parameters\":{\"query\":[\"(immigration OR immigrants OR migration OR migrants OR \\\"border control\\\" OR emigration OR naturalize OR naturalization OR citizenship OR non-citizens OR borders) lang:en bounding_box:[-2.004210547224054 53.89140704645354 -1.1753445308846633 54.26130529155299]\"]},\"message\":\"There were errors processing your request: Height of bounding_box must be less than 25 miles (at position 170), Width of bounding_box must be less than 25 miles (at position 170)\"}],\"title\":\"Invalid Request\",\"detail\":\"One or more parameters to your request was invalid.\",\"type\":\"https://api.twitter.com/2/problems/invalid-request\"} | Bad Request\n",
            " Request payload: {'query': '(immigration OR immigrants OR migration OR migrants OR \"border control\" OR emigration OR naturalize OR naturalization OR citizenship OR non-citizens OR borders) lang:en bounding_box:[-2.004210547224054 53.89140704645354 -1.1753445308846633 54.26130529155299]', 'max_results': 500, 'start_time': '2020-03-01T00:00:00Z', 'end_time': '2021-03-01T00:00:00Z'}\n",
            "Quitting... \n"
          ],
          "name": "stderr"
        },
        {
          "output_type": "stream",
          "text": [
            "An error happened while retrieving Harrogate data\n"
          ],
          "name": "stdout"
        },
        {
          "output_type": "stream",
          "text": [
            " HTTP Error code: 429: {\"title\":\"Too Many Requests\",\"type\":\"about:blank\",\"status\":429,\"detail\":\"Too Many Requests\"} | Too Many Requests\n",
            " Request payload: {'query': '(immigration OR immigrants OR migration OR migrants OR \"border control\" OR emigration OR naturalize OR naturalization OR citizenship OR non-citizens OR borders) lang:en bounding_box:[-2.367504240466591 54.17269622640859 -1.4674522977485953 54.54199977979566]', 'max_results': 500, 'start_time': '2020-03-01T00:00:00Z', 'end_time': '2021-03-01T00:00:00Z'}\n",
            "Rate limit hit... Will retry...\n",
            "Will retry in 4 seconds...\n",
            " HTTP Error code: 400: {\"errors\":[{\"parameters\":{\"query\":[\"(immigration OR immigrants OR migration OR migrants OR \\\"border control\\\" OR emigration OR naturalize OR naturalization OR citizenship OR non-citizens OR borders) lang:en bounding_box:[-2.367504240466591 54.17269622640859 -1.4674522977485953 54.54199977979566]\"]},\"message\":\"There were errors processing your request: Height of bounding_box must be less than 25 miles (at position 170), Width of bounding_box must be less than 25 miles (at position 170)\"}],\"title\":\"Invalid Request\",\"detail\":\"One or more parameters to your request was invalid.\",\"type\":\"https://api.twitter.com/2/problems/invalid-request\"} | Bad Request\n",
            " Request payload: {'query': '(immigration OR immigrants OR migration OR migrants OR \"border control\" OR emigration OR naturalize OR naturalization OR citizenship OR non-citizens OR borders) lang:en bounding_box:[-2.367504240466591 54.17269622640859 -1.4674522977485953 54.54199977979566]', 'max_results': 500, 'start_time': '2020-03-01T00:00:00Z', 'end_time': '2021-03-01T00:00:00Z'}\n",
            "Quitting... \n"
          ],
          "name": "stderr"
        },
        {
          "output_type": "stream",
          "text": [
            "An error happened while retrieving Richmondshire data\n"
          ],
          "name": "stdout"
        },
        {
          "output_type": "stream",
          "text": [
            " HTTP Error code: 429: {\"title\":\"Too Many Requests\",\"type\":\"about:blank\",\"status\":429,\"detail\":\"Too Many Requests\"} | Too Many Requests\n",
            " Request payload: {'query': '(immigration OR immigrants OR migration OR migrants OR \"border control\" OR emigration OR naturalize OR naturalization OR citizenship OR non-citizens OR borders) lang:en bounding_box:[-1.2661679541952973 53.98180018673508 -0.418482669962712 54.415330445059034]', 'max_results': 500, 'start_time': '2020-03-01T00:00:00Z', 'end_time': '2021-03-01T00:00:00Z'}\n",
            "Rate limit hit... Will retry...\n",
            "Will retry in 4 seconds...\n",
            " HTTP Error code: 400: {\"errors\":[{\"parameters\":{\"query\":[\"(immigration OR immigrants OR migration OR migrants OR \\\"border control\\\" OR emigration OR naturalize OR naturalization OR citizenship OR non-citizens OR borders) lang:en bounding_box:[-1.2661679541952973 53.98180018673508 -0.418482669962712 54.415330445059034]\"]},\"message\":\"There were errors processing your request: Height of bounding_box must be less than 25 miles (at position 170), Width of bounding_box must be less than 25 miles (at position 170)\"}],\"title\":\"Invalid Request\",\"detail\":\"One or more parameters to your request was invalid.\",\"type\":\"https://api.twitter.com/2/problems/invalid-request\"} | Bad Request\n",
            " Request payload: {'query': '(immigration OR immigrants OR migration OR migrants OR \"border control\" OR emigration OR naturalize OR naturalization OR citizenship OR non-citizens OR borders) lang:en bounding_box:[-1.2661679541952973 53.98180018673508 -0.418482669962712 54.415330445059034]', 'max_results': 500, 'start_time': '2020-03-01T00:00:00Z', 'end_time': '2021-03-01T00:00:00Z'}\n",
            "Quitting... \n"
          ],
          "name": "stderr"
        },
        {
          "output_type": "stream",
          "text": [
            "An error happened while retrieving Ryedale data\n"
          ],
          "name": "stdout"
        },
        {
          "output_type": "stream",
          "text": [
            " HTTP Error code: 400: {\"errors\":[{\"parameters\":{\"query\":[\"(immigration OR immigrants OR migration OR migrants OR \\\"border control\\\" OR emigration OR naturalize OR naturalization OR citizenship OR non-citizens OR borders) lang:en bounding_box:[-1.064883610642 54.13225718996685 -0.21228895217640797 54.55924583945464]\"]},\"message\":\"There were errors processing your request: Height of bounding_box must be less than 25 miles (at position 170), Width of bounding_box must be less than 25 miles (at position 170)\"}],\"title\":\"Invalid Request\",\"detail\":\"One or more parameters to your request was invalid.\",\"type\":\"https://api.twitter.com/2/problems/invalid-request\"} | Bad Request\n",
            " Request payload: {'query': '(immigration OR immigrants OR migration OR migrants OR \"border control\" OR emigration OR naturalize OR naturalization OR citizenship OR non-citizens OR borders) lang:en bounding_box:[-1.064883610642 54.13225718996685 -0.21228895217640797 54.55924583945464]', 'max_results': 500, 'start_time': '2020-03-01T00:00:00Z', 'end_time': '2021-03-01T00:00:00Z'}\n",
            "Quitting... \n"
          ],
          "name": "stderr"
        },
        {
          "output_type": "stream",
          "text": [
            "An error happened while retrieving Scarborough data\n"
          ],
          "name": "stdout"
        },
        {
          "output_type": "stream",
          "text": [
            " HTTP Error code: 429: {\"title\":\"Too Many Requests\",\"type\":\"about:blank\",\"status\":429,\"detail\":\"Too Many Requests\"} | Too Many Requests\n",
            " Request payload: {'query': '(immigration OR immigrants OR migration OR migrants OR \"border control\" OR emigration OR naturalize OR naturalization OR citizenship OR non-citizens OR borders) lang:en bounding_box:[-1.3529002323117592 53.620822317321306 -0.9036924899915952 53.93541423316955]', 'max_results': 500, 'start_time': '2020-03-01T00:00:00Z', 'end_time': '2021-03-01T00:00:00Z'}\n",
            "Rate limit hit... Will retry...\n",
            "Will retry in 4 seconds...\n",
            " HTTP Error code: 429: {\"title\":\"Too Many Requests\",\"type\":\"about:blank\",\"status\":429,\"detail\":\"Too Many Requests\"} | Too Many Requests\n",
            " Request payload: {'query': '(immigration OR immigrants OR migration OR migrants OR \"border control\" OR emigration OR naturalize OR naturalization OR citizenship OR non-citizens OR borders) lang:en bounding_box:[-1.3529002323117592 53.620822317321306 -0.9036924899915952 53.93541423316955]', 'max_results': 500, 'start_time': '2020-03-01T00:00:00Z', 'end_time': '2021-03-01T00:00:00Z', 'next_token': 'b26v89c19zqg8o3fos8vqn9ea7r23atoyjibtjtuvi64d'}\n",
            "Rate limit hit... Will retry...\n",
            "Will retry in 4 seconds...\n",
            " HTTP Error code: 429: Rate limit exceeded\n",
            " | Too Many Requests\n",
            " Request payload: {'query': '(immigration OR immigrants OR migration OR migrants OR \"border control\" OR emigration OR naturalize OR naturalization OR citizenship OR non-citizens OR borders) lang:en bounding_box:[-1.3529002323117592 53.620822317321306 -0.9036924899915952 53.93541423316955]', 'max_results': 500, 'start_time': '2020-03-01T00:00:00Z', 'end_time': '2021-03-01T00:00:00Z', 'next_token': 'b26v89c19zqg8o3fo7ggheo4pgkrz7oz9zjoq1ugdhrb1'}\n",
            "Rate limit hit... Will retry...\n",
            "Will retry in 4 seconds...\n",
            " HTTP Error code: 429: Rate limit exceeded\n",
            " | Too Many Requests\n",
            " Request payload: {'query': '(immigration OR immigrants OR migration OR migrants OR \"border control\" OR emigration OR naturalize OR naturalization OR citizenship OR non-citizens OR borders) lang:en bounding_box:[-1.3529002323117592 53.620822317321306 -0.9036924899915952 53.93541423316955]', 'max_results': 500, 'start_time': '2020-03-01T00:00:00Z', 'end_time': '2021-03-01T00:00:00Z', 'next_token': 'b26v89c19zqg8o3fo7ggheo4pgkrz7oz9zjoq1ugdhrb1'}\n",
            "Rate limit hit... Will retry...\n",
            "Will retry in 16 seconds...\n",
            " HTTP Error code: 429: Rate limit exceeded\n",
            " | Too Many Requests\n",
            " Request payload: {'query': '(immigration OR immigrants OR migration OR migrants OR \"border control\" OR emigration OR naturalize OR naturalization OR citizenship OR non-citizens OR borders) lang:en bounding_box:[-1.3529002323117592 53.620822317321306 -0.9036924899915952 53.93541423316955]', 'max_results': 500, 'start_time': '2020-03-01T00:00:00Z', 'end_time': '2021-03-01T00:00:00Z', 'next_token': 'b26v89c19zqg8o3fo7ggheo4pgkrz7oz9zjoq1ugdhrb1'}\n",
            "Rate limit hit... Will retry...\n",
            "Will retry in 36 seconds...\n",
            " HTTP Error code: 429: Rate limit exceeded\n",
            " | Too Many Requests\n",
            " Request payload: {'query': '(immigration OR immigrants OR migration OR migrants OR \"border control\" OR emigration OR naturalize OR naturalization OR citizenship OR non-citizens OR borders) lang:en bounding_box:[-1.3529002323117592 53.620822317321306 -0.9036924899915952 53.93541423316955]', 'max_results': 500, 'start_time': '2020-03-01T00:00:00Z', 'end_time': '2021-03-01T00:00:00Z', 'next_token': 'b26v89c19zqg8o3fo7ggheo4pgkrz7oz9zjoq1ugdhrb1'}\n",
            "Rate limit hit... Will retry...\n",
            "Will retry in 64 seconds...\n",
            " HTTP Error code: 429: Rate limit exceeded\n",
            " | Too Many Requests\n",
            " Request payload: {'query': '(immigration OR immigrants OR migration OR migrants OR \"border control\" OR emigration OR naturalize OR naturalization OR citizenship OR non-citizens OR borders) lang:en bounding_box:[-1.3529002323117592 53.620822317321306 -0.9036924899915952 53.93541423316955]', 'max_results': 500, 'start_time': '2020-03-01T00:00:00Z', 'end_time': '2021-03-01T00:00:00Z', 'next_token': 'b26v89c19zqg8o3fo7ggheo4pgkrz7oz9zjoq1ugdhrb1'}\n",
            "Rate limit hit... Will retry...\n",
            "Will retry in 100 seconds...\n",
            " HTTP Error code: 429: Rate limit exceeded\n",
            " | Too Many Requests\n",
            " Request payload: {'query': '(immigration OR immigrants OR migration OR migrants OR \"border control\" OR emigration OR naturalize OR naturalization OR citizenship OR non-citizens OR borders) lang:en bounding_box:[-1.3529002323117592 53.620822317321306 -0.9036924899915952 53.93541423316955]', 'max_results': 500, 'start_time': '2020-03-01T00:00:00Z', 'end_time': '2021-03-01T00:00:00Z', 'next_token': 'b26v89c19zqg8o3fo7ggheo4pgkrz7oz9zjoq1ugdhrb1'}\n",
            "Rate limit hit... Will retry...\n",
            "Will retry in 144 seconds...\n",
            " HTTP Error code: 429: Rate limit exceeded\n",
            " | Too Many Requests\n",
            " Request payload: {'query': '(immigration OR immigrants OR migration OR migrants OR \"border control\" OR emigration OR naturalize OR naturalization OR citizenship OR non-citizens OR borders) lang:en bounding_box:[-1.3529002323117592 53.620822317321306 -0.9036924899915952 53.93541423316955]', 'max_results': 500, 'start_time': '2020-03-01T00:00:00Z', 'end_time': '2021-03-01T00:00:00Z', 'next_token': 'b26v89c19zqg8o3fo7ggheo4pgkrz7oz9zjoq1ugdhrb1'}\n",
            "Rate limit hit... Will retry...\n",
            "Will retry in 196 seconds...\n",
            " HTTP Error code: 429: {\"title\":\"Too Many Requests\",\"type\":\"about:blank\",\"status\":429,\"detail\":\"Too Many Requests\"} | Too Many Requests\n",
            " Request payload: {'query': '(immigration OR immigrants OR migration OR migrants OR \"border control\" OR emigration OR naturalize OR naturalization OR citizenship OR non-citizens OR borders) lang:en bounding_box:[-1.344717941923414 53.00828985357141 -1.16388932434098 53.17123538276313]', 'max_results': 500, 'start_time': '2020-03-01T00:00:00Z', 'end_time': '2021-03-01T00:00:00Z', 'next_token': 'b26v89c19zqg8o3fo7gcorm8uz12r9vd0le3k50dy0cxp'}\n",
            "Rate limit hit... Will retry...\n",
            "Will retry in 4 seconds...\n",
            " HTTP Error code: 429: {\"title\":\"Too Many Requests\",\"type\":\"about:blank\",\"status\":429,\"detail\":\"Too Many Requests\"} | Too Many Requests\n",
            " Request payload: {'query': '(immigration OR immigrants OR migration OR migrants OR \"border control\" OR emigration OR naturalize OR naturalization OR citizenship OR non-citizens OR borders) lang:en bounding_box:[-1.2129830666710522 53.196807126395406 -0.7482289726130329 53.50247866655798]', 'max_results': 500, 'start_time': '2020-03-01T00:00:00Z', 'end_time': '2021-03-01T00:00:00Z'}\n",
            "Rate limit hit... Will retry...\n",
            "Will retry in 4 seconds...\n",
            " HTTP Error code: 429: {\"title\":\"Too Many Requests\",\"type\":\"about:blank\",\"status\":429,\"detail\":\"Too Many Requests\"} | Too Many Requests\n",
            " Request payload: {'query': '(immigration OR immigrants OR migration OR migrants OR \"border control\" OR emigration OR naturalize OR naturalization OR citizenship OR non-citizens OR borders) lang:en bounding_box:[-1.2129830666710522 53.196807126395406 -0.7482289726130329 53.50247866655798]', 'max_results': 500, 'start_time': '2020-03-01T00:00:00Z', 'end_time': '2021-03-01T00:00:00Z', 'next_token': 'b26v89c19zqg8o3fosesr6y3yqzt13hfmly8n8remxc3h'}\n",
            "Rate limit hit... Will retry...\n",
            "Will retry in 4 seconds...\n",
            " HTTP Error code: 429: {\"title\":\"Too Many Requests\",\"type\":\"about:blank\",\"status\":429,\"detail\":\"Too Many Requests\"} | Too Many Requests\n",
            " Request payload: {'query': '(immigration OR immigrants OR migration OR migrants OR \"border control\" OR emigration OR naturalize OR naturalization OR citizenship OR non-citizens OR borders) lang:en bounding_box:[-1.3365356515350681 52.892324969657594 -1.1827085922341745 53.05467580713694]', 'max_results': 500, 'start_time': '2020-03-01T00:00:00Z', 'end_time': '2021-03-01T00:00:00Z', 'next_token': 'b26v89c19zqg8o3fos5v4i2nat20tds214adnvec370ql'}\n",
            "Rate limit hit... Will retry...\n",
            "Will retry in 4 seconds...\n",
            " HTTP Error code: 429: {\"title\":\"Too Many Requests\",\"type\":\"about:blank\",\"status\":429,\"detail\":\"Too Many Requests\"} | Too Many Requests\n",
            " Request payload: {'query': '(immigration OR immigrants OR migration OR migrants OR \"border control\" OR emigration OR naturalize OR naturalization OR citizenship OR non-citizens OR borders) lang:en bounding_box:[-1.1777992180011667 52.95714636630686 -0.6664060687295787 53.26103383133229]', 'max_results': 500, 'start_time': '2020-03-01T00:00:00Z', 'end_time': '2021-03-01T00:00:00Z'}\n",
            "Rate limit hit... Will retry...\n",
            "Will retry in 4 seconds...\n",
            " HTTP Error code: 429: {\"title\":\"Too Many Requests\",\"type\":\"about:blank\",\"status\":429,\"detail\":\"Too Many Requests\"} | Too Many Requests\n",
            " Request payload: {'query': '(immigration OR immigrants OR migration OR migrants OR \"border control\" OR emigration OR naturalize OR naturalization OR citizenship OR non-citizens OR borders) lang:en bounding_box:[-1.1777992180011667 52.95714636630686 -0.6664060687295787 53.26103383133229]', 'max_results': 500, 'start_time': '2020-03-01T00:00:00Z', 'end_time': '2021-03-01T00:00:00Z', 'next_token': 'b26v89c19zqg8o3fo7aeee9ul3fuqxsjcw9yaany9gmf1'}\n",
            "Rate limit hit... Will retry...\n",
            "Will retry in 4 seconds...\n",
            " HTTP Error code: 400: {\"errors\":[{\"parameters\":{\"query\":[\"(immigration OR immigrants OR migration OR migrants OR \\\"border control\\\" OR emigration OR naturalize OR naturalization OR citizenship OR non-citizens OR borders) lang:en bounding_box:[-1.5230918723893438 51.78084615922211 -1.0477008008264752 52.16858515569292]\"]},\"message\":\"There were errors processing your request: Height of bounding_box must be less than 25 miles (at position 170)\"}],\"title\":\"Invalid Request\",\"detail\":\"One or more parameters to your request was invalid.\",\"type\":\"https://api.twitter.com/2/problems/invalid-request\"} | Bad Request\n",
            " Request payload: {'query': '(immigration OR immigrants OR migration OR migrants OR \"border control\" OR emigration OR naturalize OR naturalization OR citizenship OR non-citizens OR borders) lang:en bounding_box:[-1.5230918723893438 51.78084615922211 -1.0477008008264752 52.16858515569292]', 'max_results': 500, 'start_time': '2020-03-01T00:00:00Z', 'end_time': '2021-03-01T00:00:00Z'}\n",
            "Quitting... \n"
          ],
          "name": "stderr"
        },
        {
          "output_type": "stream",
          "text": [
            "An error happened while retrieving Cherwell data\n"
          ],
          "name": "stdout"
        },
        {
          "output_type": "stream",
          "text": [
            " HTTP Error code: 429: {\"title\":\"Too Many Requests\",\"type\":\"about:blank\",\"status\":429,\"detail\":\"Too Many Requests\"} | Too Many Requests\n",
            " Request payload: {'query': '(immigration OR immigrants OR migration OR migrants OR \"border control\" OR emigration OR naturalize OR naturalization OR citizenship OR non-citizens OR borders) lang:en bounding_box:[-1.304624719020521 51.71126722887382 -1.176162759923498 51.79630814374395]', 'max_results': 500, 'start_time': '2020-03-01T00:00:00Z', 'end_time': '2021-03-01T00:00:00Z', 'next_token': 'b26v89c19zqg8o3fo7gdjbffismi7hj0v01s82hs86kql'}\n",
            "Rate limit hit... Will retry...\n",
            "Will retry in 4 seconds...\n",
            " HTTP Error code: 429: {\"title\":\"Too Many Requests\",\"type\":\"about:blank\",\"status\":429,\"detail\":\"Too Many Requests\"} | Too Many Requests\n",
            " Request payload: {'query': '(immigration OR immigrants OR migration OR migrants OR \"border control\" OR emigration OR naturalize OR naturalization OR citizenship OR non-citizens OR borders) lang:en bounding_box:[-1.2898965963214994 51.459712634537695 -0.8701450993993793 51.81355420340293]', 'max_results': 500, 'start_time': '2020-03-01T00:00:00Z', 'end_time': '2021-03-01T00:00:00Z', 'next_token': 'b26v89c19zqg8o3fosnr8hpdyez8pbs80zvjbmcxaj0cd'}\n",
            "Rate limit hit... Will retry...\n",
            "Will retry in 4 seconds...\n",
            " HTTP Error code: 429: {\"title\":\"Too Many Requests\",\"type\":\"about:blank\",\"status\":429,\"detail\":\"Too Many Requests\"} | Too Many Requests\n",
            " Request payload: {'query': '(immigration OR immigrants OR migration OR migrants OR \"border control\" OR emigration OR naturalize OR naturalization OR citizenship OR non-citizens OR borders) lang:en bounding_box:[-1.2898965963214994 51.459712634537695 -0.8701450993993793 51.81355420340293]', 'max_results': 500, 'start_time': '2020-03-01T00:00:00Z', 'end_time': '2021-03-01T00:00:00Z', 'next_token': 'b26v89c19zqg8o3foskspy89osv0hlpr087vz3q86nsl9'}\n",
            "Rate limit hit... Will retry...\n",
            "Will retry in 4 seconds...\n",
            " HTTP Error code: 429: {\"title\":\"Too Many Requests\",\"type\":\"about:blank\",\"status\":429,\"detail\":\"Too Many Requests\"} | Too Many Requests\n",
            " Request payload: {'query': '(immigration OR immigrants OR migration OR migrants OR \"border control\" OR emigration OR naturalize OR naturalization OR citizenship OR non-citizens OR borders) lang:en bounding_box:[-1.699829344777605 51.51858711406317 -1.2023460891662037 51.79036122662016]', 'max_results': 500, 'start_time': '2020-03-01T00:00:00Z', 'end_time': '2021-03-01T00:00:00Z', 'next_token': 'b26v89c19zqg8o3fosnrnpfgeei2b3n1hqztbcmmyzm2l'}\n",
            "Rate limit hit... Will retry...\n",
            "Will retry in 4 seconds...\n",
            " HTTP Error code: 400: {\"errors\":[{\"parameters\":{\"query\":[\"(immigration OR immigrants OR migration OR migrants OR \\\"border control\\\" OR emigration OR naturalize OR naturalization OR citizenship OR non-citizens OR borders) lang:en bounding_box:[-2.84289531202946 51.06305326238121 -2.2447698846414097 51.325906999252524]\"]},\"message\":\"There were errors processing your request: Width of bounding_box must be less than 25 miles (at position 170)\"}],\"title\":\"Invalid Request\",\"detail\":\"One or more parameters to your request was invalid.\",\"type\":\"https://api.twitter.com/2/problems/invalid-request\"} | Bad Request\n",
            " Request payload: {'query': '(immigration OR immigrants OR migration OR migrants OR \"border control\" OR emigration OR naturalize OR naturalization OR citizenship OR non-citizens OR borders) lang:en bounding_box:[-2.84289531202946 51.06305326238121 -2.2447698846414097 51.325906999252524]', 'max_results': 500, 'start_time': '2020-03-01T00:00:00Z', 'end_time': '2021-03-01T00:00:00Z'}\n",
            "Quitting... \n"
          ],
          "name": "stderr"
        },
        {
          "output_type": "stream",
          "text": [
            "An error happened while retrieving Mendip data\n"
          ],
          "name": "stdout"
        },
        {
          "output_type": "stream",
          "text": [
            " HTTP Error code: 400: {\"errors\":[{\"parameters\":{\"query\":[\"(immigration OR immigrants OR migration OR migrants OR \\\"border control\\\" OR emigration OR naturalize OR naturalization OR citizenship OR non-citizens OR borders) lang:en bounding_box:[-3.0924551688739954 50.821013735443145 -2.32577455948603 51.147499485538965]\"]},\"message\":\"There were errors processing your request: Width of bounding_box must be less than 25 miles (at position 170)\"}],\"title\":\"Invalid Request\",\"detail\":\"One or more parameters to your request was invalid.\",\"type\":\"https://api.twitter.com/2/problems/invalid-request\"} | Bad Request\n",
            " Request payload: {'query': '(immigration OR immigrants OR migration OR migrants OR \"border control\" OR emigration OR naturalize OR naturalization OR citizenship OR non-citizens OR borders) lang:en bounding_box:[-3.0924551688739954 50.821013735443145 -2.32577455948603 51.147499485538965]', 'max_results': 500, 'start_time': '2020-03-01T00:00:00Z', 'end_time': '2021-03-01T00:00:00Z'}\n",
            "Quitting... \n"
          ],
          "name": "stderr"
        },
        {
          "output_type": "stream",
          "text": [
            "An error happened while retrieving South Somerset data\n"
          ],
          "name": "stdout"
        },
        {
          "output_type": "stream",
          "text": [
            " HTTP Error code: 429: {\"title\":\"Too Many Requests\",\"type\":\"about:blank\",\"status\":429,\"detail\":\"Too Many Requests\"} | Too Many Requests\n",
            " Request payload: {'query': '(immigration OR immigrants OR migration OR migrants OR \"border control\" OR emigration OR naturalize OR naturalization OR citizenship OR non-citizens OR borders) lang:en bounding_box:[-3.4156556392136395 50.89118735750382 -2.883806763971187 51.11835959163242]', 'max_results': 500, 'start_time': '2020-03-01T00:00:00Z', 'end_time': '2021-03-01T00:00:00Z'}\n",
            "Rate limit hit... Will retry...\n",
            "Will retry in 4 seconds...\n",
            " HTTP Error code: 400: {\"errors\":[{\"parameters\":{\"query\":[\"(immigration OR immigrants OR migration OR migrants OR \\\"border control\\\" OR emigration OR naturalize OR naturalization OR citizenship OR non-citizens OR borders) lang:en bounding_box:[-3.839498281329932 51.00358409114336 -3.0515437169322683 51.23313509212147]\"]},\"message\":\"There were errors processing your request: Width of bounding_box must be less than 25 miles (at position 170)\"}],\"title\":\"Invalid Request\",\"detail\":\"One or more parameters to your request was invalid.\",\"type\":\"https://api.twitter.com/2/problems/invalid-request\"} | Bad Request\n",
            " Request payload: {'query': '(immigration OR immigrants OR migration OR migrants OR \"border control\" OR emigration OR naturalize OR naturalization OR citizenship OR non-citizens OR borders) lang:en bounding_box:[-3.839498281329932 51.00358409114336 -3.0515437169322683 51.23313509212147]', 'max_results': 500, 'start_time': '2020-03-01T00:00:00Z', 'end_time': '2021-03-01T00:00:00Z'}\n",
            "Quitting... \n"
          ],
          "name": "stderr"
        },
        {
          "output_type": "stream",
          "text": [
            "An error happened while retrieving West Somerset data\n"
          ],
          "name": "stdout"
        },
        {
          "output_type": "stream",
          "text": [
            " HTTP Error code: 429: {\"title\":\"Too Many Requests\",\"type\":\"about:blank\",\"status\":429,\"detail\":\"Too Many Requests\"} | Too Many Requests\n",
            " Request payload: {'query': '(immigration OR immigrants OR migration OR migrants OR \"border control\" OR emigration OR naturalize OR naturalization OR citizenship OR non-citizens OR borders) lang:en bounding_box:[-2.054940747631796 52.639580991896715 -1.9109324367969167 52.773981318894265]', 'max_results': 500, 'start_time': '2020-03-01T00:00:00Z', 'end_time': '2021-03-01T00:00:00Z'}\n",
            "Rate limit hit... Will retry...\n",
            "Will retry in 4 seconds...\n",
            " HTTP Error code: 429: {\"title\":\"Too Many Requests\",\"type\":\"about:blank\",\"status\":429,\"detail\":\"Too Many Requests\"} | Too Many Requests\n",
            " Request payload: {'query': '(immigration OR immigrants OR migration OR migrants OR \"border control\" OR emigration OR naturalize OR naturalization OR citizenship OR non-citizens OR borders) lang:en bounding_box:[-2.054940747631796 52.639580991896715 -1.9109324367969167 52.773981318894265]', 'max_results': 500, 'start_time': '2020-03-01T00:00:00Z', 'end_time': '2021-03-01T00:00:00Z', 'next_token': 'b26v89c19zqg8o3fo77h5bo20smauh47x4exvj6njofb1'}\n",
            "Rate limit hit... Will retry...\n",
            "Will retry in 4 seconds...\n",
            " HTTP Error code: 429: {\"title\":\"Too Many Requests\",\"type\":\"about:blank\",\"status\":429,\"detail\":\"Too Many Requests\"} | Too Many Requests\n",
            " Request payload: {'query': '(immigration OR immigrants OR migration OR migrants OR \"border control\" OR emigration OR naturalize OR naturalization OR citizenship OR non-citizens OR borders) lang:en bounding_box:[-2.0434855410881125 52.729974132178256 -1.5852772793407688 53.04575543145126]', 'max_results': 500, 'start_time': '2020-03-01T00:00:00Z', 'end_time': '2021-03-01T00:00:00Z'}\n",
            "Rate limit hit... Will retry...\n",
            "Will retry in 4 seconds...\n",
            " HTTP Error code: 400: {\"errors\":[{\"parameters\":{\"query\":[\"(immigration OR immigrants OR migration OR migrants OR \\\"border control\\\" OR emigration OR naturalize OR naturalization OR citizenship OR non-citizens OR borders) lang:en bounding_box:[-2.32577455948603 52.423113208590934 -1.983754821253191 52.78646984485422]\"]},\"message\":\"There were errors processing your request: Height of bounding_box must be less than 25 miles (at position 170)\"}],\"title\":\"Invalid Request\",\"detail\":\"One or more parameters to your request was invalid.\",\"type\":\"https://api.twitter.com/2/problems/invalid-request\"} | Bad Request\n",
            " Request payload: {'query': '(immigration OR immigrants OR migration OR migrants OR \"border control\" OR emigration OR naturalize OR naturalization OR citizenship OR non-citizens OR borders) lang:en bounding_box:[-2.32577455948603 52.423113208590934 -1.983754821253191 52.78646984485422]', 'max_results': 500, 'start_time': '2020-03-01T00:00:00Z', 'end_time': '2021-03-01T00:00:00Z'}\n",
            "Quitting... \n"
          ],
          "name": "stderr"
        },
        {
          "output_type": "stream",
          "text": [
            "An error happened while retrieving South Staffordshire data\n"
          ],
          "name": "stdout"
        },
        {
          "output_type": "stream",
          "text": [
            " HTTP Error code: 429: {\"title\":\"Too Many Requests\",\"type\":\"about:blank\",\"status\":429,\"detail\":\"Too Many Requests\"} | Too Many Requests\n",
            " Request payload: {'query': '(immigration OR immigrants OR migration OR migrants OR \"border control\" OR emigration OR naturalize OR naturalization OR citizenship OR non-citizens OR borders) lang:en bounding_box:[-2.416597982796664 52.715106839368794 -1.9330246208454493 52.98033934308962]', 'max_results': 500, 'start_time': '2020-03-01T00:00:00Z', 'end_time': '2021-03-01T00:00:00Z'}\n",
            "Rate limit hit... Will retry...\n",
            "Will retry in 4 seconds...\n",
            " HTTP Error code: 429: {\"title\":\"Too Many Requests\",\"type\":\"about:blank\",\"status\":429,\"detail\":\"Too Many Requests\"} | Too Many Requests\n",
            " Request payload: {'query': '(immigration OR immigrants OR migration OR migrants OR \"border control\" OR emigration OR naturalize OR naturalization OR citizenship OR non-citizens OR borders) lang:en bounding_box:[-2.416597982796664 52.715106839368794 -1.9330246208454493 52.98033934308962]', 'max_results': 500, 'start_time': '2020-03-01T00:00:00Z', 'end_time': '2021-03-01T00:00:00Z', 'next_token': 'b26v89c19zqg8o3foseu0jk9zr93ykf5ubfabxuohmhrx'}\n",
            "Rate limit hit... Will retry...\n",
            "Will retry in 4 seconds...\n",
            " HTTP Error code: 429: {\"title\":\"Too Many Requests\",\"type\":\"about:blank\",\"status\":429,\"detail\":\"Too Many Requests\"} | Too Many Requests\n",
            " Request payload: {'query': '(immigration OR immigrants OR migration OR migrants OR \"border control\" OR emigration OR naturalize OR naturalization OR citizenship OR non-citizens OR borders) lang:en bounding_box:[-2.211222494049194 52.91670732986512 -1.7759246453892175 53.22594702030196]', 'max_results': 500, 'start_time': '2020-03-01T00:00:00Z', 'end_time': '2021-03-01T00:00:00Z', 'next_token': 'b26v89c19zqg8o3fosesc7qy11fo3s9370l592drlk7zx'}\n",
            "Rate limit hit... Will retry...\n",
            "Will retry in 4 seconds...\n",
            " HTTP Error code: 429: {\"title\":\"Too Many Requests\",\"type\":\"about:blank\",\"status\":429,\"detail\":\"Too Many Requests\"} | Too Many Requests\n",
            " Request payload: {'query': '(immigration OR immigrants OR migration OR migrants OR \"border control\" OR emigration OR naturalize OR naturalization OR citizenship OR non-citizens OR borders) lang:en bounding_box:[-2.211222494049194 52.91670732986512 -1.7759246453892175 53.22594702030196]', 'max_results': 500, 'start_time': '2020-03-01T00:00:00Z', 'end_time': '2021-03-01T00:00:00Z', 'next_token': 'b26v89c19zqg8o3fosbtetb7r34bepnvkj6fmaccezs71'}\n",
            "Rate limit hit... Will retry...\n",
            "Will retry in 4 seconds...\n",
            " HTTP Error code: 429: {\"title\":\"Too Many Requests\",\"type\":\"about:blank\",\"status\":429,\"detail\":\"Too Many Requests\"} | Too Many Requests\n",
            " Request payload: {'query': '(immigration OR immigrants OR migration OR migrants OR \"border control\" OR emigration OR naturalize OR naturalization OR citizenship OR non-citizens OR borders) lang:en bounding_box:[-2.211222494049194 52.91670732986512 -1.7759246453892175 53.22594702030196]', 'max_results': 500, 'start_time': '2020-03-01T00:00:00Z', 'end_time': '2021-03-01T00:00:00Z', 'next_token': 'b26v89c19zqg8o3fo7jfexc45val5gsvpighj5bh6ki2l'}\n",
            "Rate limit hit... Will retry...\n",
            "Will retry in 4 seconds...\n"
          ],
          "name": "stderr"
        },
        {
          "output_type": "stream",
          "text": [
            "An error happened while retrieving Staffordshire Moorlands data\n"
          ],
          "name": "stdout"
        },
        {
          "output_type": "stream",
          "text": [
            " HTTP Error code: 400: {\"errors\":[{\"parameters\":{\"query\":[\"(immigration OR immigrants OR migration OR migrants OR \\\"border control\\\" OR emigration OR naturalize OR naturalization OR citizenship OR non-citizens OR borders) lang:en bounding_box:[0.6272140416678322 51.94854922211286 1.2793425856189629 52.18107368165286]\"]},\"message\":\"There were errors processing your request: Width of bounding_box must be less than 25 miles (at position 170)\"}],\"title\":\"Invalid Request\",\"detail\":\"One or more parameters to your request was invalid.\",\"type\":\"https://api.twitter.com/2/problems/invalid-request\"} | Bad Request\n",
            " Request payload: {'query': '(immigration OR immigrants OR migration OR migrants OR \"border control\" OR emigration OR naturalize OR naturalization OR citizenship OR non-citizens OR borders) lang:en bounding_box:[0.6272140416678322 51.94854922211286 1.2793425856189629 52.18107368165286]', 'max_results': 500, 'start_time': '2020-03-01T00:00:00Z', 'end_time': '2021-03-01T00:00:00Z'}\n",
            "Quitting... \n"
          ],
          "name": "stderr"
        },
        {
          "output_type": "stream",
          "text": [
            "An error happened while retrieving Babergh data\n"
          ],
          "name": "stdout"
        },
        {
          "output_type": "stream",
          "text": [
            " HTTP Error code: 429: {\"title\":\"Too Many Requests\",\"type\":\"about:blank\",\"status\":429,\"detail\":\"Too Many Requests\"} | Too Many Requests\n",
            " Request payload: {'query': '(immigration OR immigrants OR migration OR migrants OR \"border control\" OR emigration OR naturalize OR naturalization OR citizenship OR non-citizens OR borders) lang:en bounding_box:[0.34001564903690795 52.20307727501087 0.718855694017301 52.462362861607915]', 'max_results': 500, 'start_time': '2020-03-01T00:00:00Z', 'end_time': '2021-03-01T00:00:00Z'}\n",
            "Rate limit hit... Will retry...\n",
            "Will retry in 4 seconds...\n",
            " HTTP Error code: 429: {\"title\":\"Too Many Requests\",\"type\":\"about:blank\",\"status\":429,\"detail\":\"Too Many Requests\"} | Too Many Requests\n",
            " Request payload: {'query': '(immigration OR immigrants OR migration OR migrants OR \"border control\" OR emigration OR naturalize OR naturalization OR citizenship OR non-citizens OR borders) lang:en bounding_box:[0.34001564903690795 52.20307727501087 0.718855694017301 52.462362861607915]', 'max_results': 500, 'start_time': '2020-03-01T00:00:00Z', 'end_time': '2021-03-01T00:00:00Z', 'next_token': 'b26v89c19zqg8o3fo7jfu0uj9c94o8rbln50y97zdfbel'}\n",
            "Rate limit hit... Will retry...\n",
            "Will retry in 4 seconds...\n",
            " HTTP Error code: 429: {\"title\":\"Too Many Requests\",\"type\":\"about:blank\",\"status\":429,\"detail\":\"Too Many Requests\"} | Too Many Requests\n",
            " Request payload: {'query': '(immigration OR immigrants OR migration OR migrants OR \"border control\" OR emigration OR naturalize OR naturalization OR citizenship OR non-citizens OR borders) lang:en bounding_box:[0.34001564903690795 52.20307727501087 0.718855694017301 52.462362861607915]', 'max_results': 500, 'start_time': '2020-03-01T00:00:00Z', 'end_time': '2021-03-01T00:00:00Z', 'next_token': 'b26v89c19zqg8o3fo7gconew9ckpqclptjfw3xjclqirh'}\n",
            "Rate limit hit... Will retry...\n",
            "Will retry in 4 seconds...\n",
            " HTTP Error code: 429: {\"title\":\"Too Many Requests\",\"type\":\"about:blank\",\"status\":429,\"detail\":\"Too Many Requests\"} | Too Many Requests\n",
            " Request payload: {'query': '(immigration OR immigrants OR migration OR migrants OR \"border control\" OR emigration OR naturalize OR naturalization OR citizenship OR non-citizens OR borders) lang:en bounding_box:[0.34001564903690795 52.20307727501087 0.718855694017301 52.462362861607915]', 'max_results': 500, 'start_time': '2020-03-01T00:00:00Z', 'end_time': '2021-03-01T00:00:00Z', 'next_token': 'b26v89c19zqg8o3fo7delds9giv76g7rtyh6kuvokjfct'}\n",
            "Rate limit hit... Will retry...\n",
            "Will retry in 4 seconds...\n",
            " HTTP Error code: 400: {\"errors\":[{\"parameters\":{\"query\":[\"(immigration OR immigrants OR migration OR migrants OR \\\"border control\\\" OR emigration OR naturalize OR naturalization OR citizenship OR non-citizens OR borders) lang:en bounding_box:[0.7974056817454169 52.06510879773905 1.4094410027936544 52.404677765507195]\"]},\"message\":\"There were errors processing your request: Width of bounding_box must be less than 25 miles (at position 170)\"}],\"title\":\"Invalid Request\",\"detail\":\"One or more parameters to your request was invalid.\",\"type\":\"https://api.twitter.com/2/problems/invalid-request\"} | Bad Request\n",
            " Request payload: {'query': '(immigration OR immigrants OR migration OR migrants OR \"border control\" OR emigration OR naturalize OR naturalization OR citizenship OR non-citizens OR borders) lang:en bounding_box:[0.7974056817454169 52.06510879773905 1.4094410027936544 52.404677765507195]', 'max_results': 500, 'start_time': '2020-03-01T00:00:00Z', 'end_time': '2021-03-01T00:00:00Z'}\n",
            "Quitting... \n"
          ],
          "name": "stderr"
        },
        {
          "output_type": "stream",
          "text": [
            "An error happened while retrieving Mid Suffolk data\n"
          ],
          "name": "stdout"
        },
        {
          "output_type": "stream",
          "text": [
            " HTTP Error code: 429: {\"title\":\"Too Many Requests\",\"type\":\"about:blank\",\"status\":429,\"detail\":\"Too Many Requests\"} | Too Many Requests\n",
            " Request payload: {'query': '(immigration OR immigrants OR migration OR migrants OR \"border control\" OR emigration OR naturalize OR naturalization OR citizenship OR non-citizens OR borders) lang:en bounding_box:[0.3817453300174698 52.05380965520386 0.9675973218230016 52.40051492352055]', 'max_results': 500, 'start_time': '2020-03-01T00:00:00Z', 'end_time': '2021-03-01T00:00:00Z'}\n",
            "Rate limit hit... Will retry...\n",
            "Will retry in 4 seconds...\n",
            " HTTP Error code: 400: {\"errors\":[{\"parameters\":{\"query\":[\"(immigration OR immigrants OR migration OR migrants OR \\\"border control\\\" OR emigration OR naturalize OR naturalization OR citizenship OR non-citizens OR borders) lang:en bounding_box:[1.1574264588326155 51.93249254587864 1.6671831500265348 52.36899626276448]\"]},\"message\":\"There were errors processing your request: Height of bounding_box must be less than 25 miles (at position 170)\"}],\"title\":\"Invalid Request\",\"detail\":\"One or more parameters to your request was invalid.\",\"type\":\"https://api.twitter.com/2/problems/invalid-request\"} | Bad Request\n",
            " Request payload: {'query': '(immigration OR immigrants OR migration OR migrants OR \"border control\" OR emigration OR naturalize OR naturalization OR citizenship OR non-citizens OR borders) lang:en bounding_box:[1.1574264588326155 51.93249254587864 1.6671831500265348 52.36899626276448]', 'max_results': 500, 'start_time': '2020-03-01T00:00:00Z', 'end_time': '2021-03-01T00:00:00Z'}\n",
            "Quitting... \n"
          ],
          "name": "stderr"
        },
        {
          "output_type": "stream",
          "text": [
            "An error happened while retrieving Suffolk Coastal data\n"
          ],
          "name": "stdout"
        },
        {
          "output_type": "stream",
          "text": [
            " HTTP Error code: 429: {\"title\":\"Too Many Requests\",\"type\":\"about:blank\",\"status\":429,\"detail\":\"Too Many Requests\"} | Too Many Requests\n",
            " Request payload: {'query': '(immigration OR immigrants OR migration OR migrants OR \"border control\" OR emigration OR naturalize OR naturalization OR citizenship OR non-citizens OR borders) lang:en bounding_box:[1.3464373668033947 52.31190585837614 1.7629159475701766 52.55037723503994]', 'max_results': 500, 'start_time': '2020-03-01T00:00:00Z', 'end_time': '2021-03-01T00:00:00Z'}\n",
            "Rate limit hit... Will retry...\n",
            "Will retry in 4 seconds...\n",
            " HTTP Error code: 429: {\"title\":\"Too Many Requests\",\"type\":\"about:blank\",\"status\":429,\"detail\":\"Too Many Requests\"} | Too Many Requests\n",
            " Request payload: {'query': '(immigration OR immigrants OR migration OR migrants OR \"border control\" OR emigration OR naturalize OR naturalization OR citizenship OR non-citizens OR borders) lang:en bounding_box:[-0.4814863059529717 51.29498303020884 -0.30720352068121404 51.41213729754742]', 'max_results': 500, 'start_time': '2020-03-01T00:00:00Z', 'end_time': '2021-03-01T00:00:00Z', 'next_token': 'b26v89c19zqg8o3fosksb7kwspftmxwnpta3ce1vw55rx'}\n",
            "Rate limit hit... Will retry...\n",
            "Will retry in 4 seconds...\n",
            " HTTP Error code: 429: {\"title\":\"Too Many Requests\",\"type\":\"about:blank\",\"status\":429,\"detail\":\"Too Many Requests\"} | Too Many Requests\n",
            " Request payload: {'query': '(immigration OR immigrants OR migration OR migrants OR \"border control\" OR emigration OR naturalize OR naturalization OR citizenship OR non-citizens OR borders) lang:en bounding_box:[-0.7482289726130329 51.17307122917124 -0.3873899664869995 51.33125922466393]', 'max_results': 500, 'start_time': '2020-03-01T00:00:00Z', 'end_time': '2021-03-01T00:00:00Z', 'next_token': 'b26v89c19zqg8o3fos8vqcjz53m4t4qtwisddobkqsm0t'}\n",
            "Rate limit hit... Will retry...\n",
            "Will retry in 4 seconds...\n",
            " HTTP Error code: 429: {\"title\":\"Too Many Requests\",\"type\":\"about:blank\",\"status\":429,\"detail\":\"Too Many Requests\"} | Too Many Requests\n",
            " Request payload: {'query': '(immigration OR immigrants OR migration OR migrants OR \"border control\" OR emigration OR naturalize OR naturalization OR citizenship OR non-citizens OR borders) lang:en bounding_box:[-0.7482289726130329 51.17307122917124 -0.3873899664869995 51.33125922466393]', 'max_results': 500, 'start_time': '2020-03-01T00:00:00Z', 'end_time': '2021-03-01T00:00:00Z', 'next_token': 'b26v89c19zqg8o3fo77e7l6thfgfkd48nhbn5w1gfsqyl'}\n",
            "Rate limit hit... Will retry...\n",
            "Will retry in 4 seconds...\n",
            " HTTP Error code: 429: {\"title\":\"Too Many Requests\",\"type\":\"about:blank\",\"status\":429,\"detail\":\"Too Many Requests\"} | Too Many Requests\n",
            " Request payload: {'query': '(immigration OR immigrants OR migration OR migrants OR \"border control\" OR emigration OR naturalize OR naturalization OR citizenship OR non-citizens OR borders) lang:en bounding_box:[-0.4381201668947412 51.10527637396009 -0.17628687446768776 51.33482737493821]', 'max_results': 500, 'start_time': '2020-03-01T00:00:00Z', 'end_time': '2021-03-01T00:00:00Z'}\n",
            "Rate limit hit... Will retry...\n",
            "Will retry in 4 seconds...\n",
            " HTTP Error code: 429: {\"title\":\"Too Many Requests\",\"type\":\"about:blank\",\"status\":429,\"detail\":\"Too Many Requests\"} | Too Many Requests\n",
            " Request payload: {'query': '(immigration OR immigrants OR migration OR migrants OR \"border control\" OR emigration OR naturalize OR naturalization OR citizenship OR non-citizens OR borders) lang:en bounding_box:[-0.4381201668947412 51.10527637396009 -0.17628687446768776 51.33482737493821]', 'max_results': 500, 'start_time': '2020-03-01T00:00:00Z', 'end_time': '2021-03-01T00:00:00Z', 'next_token': 'b26v89c19zqg8o3fosksb15j2gmca6w7svkcpv8w9m7i5'}\n",
            "Rate limit hit... Will retry...\n",
            "Will retry in 4 seconds...\n",
            " HTTP Error code: 429: {\"title\":\"Too Many Requests\",\"type\":\"about:blank\",\"status\":429,\"detail\":\"Too Many Requests\"} | Too Many Requests\n",
            " Request payload: {'query': '(immigration OR immigrants OR migration OR migrants OR \"border control\" OR emigration OR naturalize OR naturalization OR citizenship OR non-citizens OR borders) lang:en bounding_box:[-0.4381201668947412 51.10527637396009 -0.17628687446768776 51.33482737493821]', 'max_results': 500, 'start_time': '2020-03-01T00:00:00Z', 'end_time': '2021-03-01T00:00:00Z', 'next_token': 'b26v89c19zqg8o3foshv1yitsseeber1hbhmieocxyt19'}\n",
            "Rate limit hit... Will retry...\n",
            "Will retry in 4 seconds...\n",
            " HTTP Error code: 429: {\"title\":\"Too Many Requests\",\"type\":\"about:blank\",\"status\":429,\"detail\":\"Too Many Requests\"} | Too Many Requests\n",
            " Request payload: {'query': '(immigration OR immigrants OR migration OR migrants OR \"border control\" OR emigration OR naturalize OR naturalization OR citizenship OR non-citizens OR borders) lang:en bounding_box:[-0.5403987967490593 51.37823986994184 -0.38329882129282655 51.47160646878527]', 'max_results': 500, 'start_time': '2020-03-01T00:00:00Z', 'end_time': '2021-03-01T00:00:00Z'}\n",
            "Rate limit hit... Will retry...\n",
            "Will retry in 4 seconds...\n",
            " HTTP Error code: 429: {\"title\":\"Too Many Requests\",\"type\":\"about:blank\",\"status\":429,\"detail\":\"Too Many Requests\"} | Too Many Requests\n",
            " Request payload: {'query': '(immigration OR immigrants OR migration OR migrants OR \"border control\" OR emigration OR naturalize OR naturalization OR citizenship OR non-citizens OR borders) lang:en bounding_box:[-0.1550129194579899 51.13679503471615 0.05854485967782619 51.338395525212476]', 'max_results': 500, 'start_time': '2020-03-01T00:00:00Z', 'end_time': '2021-03-01T00:00:00Z', 'next_token': 'b26v89c19zqg8o3fosevaazxymcoa3ao1nhpf2djvjzb1'}\n",
            "Rate limit hit... Will retry...\n",
            "Will retry in 4 seconds...\n",
            " HTTP Error code: 429: {\"title\":\"Too Many Requests\",\"type\":\"about:blank\",\"status\":429,\"detail\":\"Too Many Requests\"} | Too Many Requests\n",
            " Request payload: {'query': '(immigration OR immigrants OR migration OR migrants OR \"border control\" OR emigration OR naturalize OR naturalization OR citizenship OR non-citizens OR borders) lang:en bounding_box:[-0.8488711443896815 51.071378946354514 -0.41357329572970514 51.245028926369045]', 'max_results': 500, 'start_time': '2020-03-01T00:00:00Z', 'end_time': '2021-03-01T00:00:00Z', 'next_token': 'b26v89c19zqg8o3fos5vjawu4bsqoah3c34tdzpcphjel'}\n",
            "Rate limit hit... Will retry...\n",
            "Will retry in 4 seconds...\n",
            " HTTP Error code: 429: {\"title\":\"Too Many Requests\",\"type\":\"about:blank\",\"status\":429,\"detail\":\"Too Many Requests\"} | Too Many Requests\n",
            " Request payload: {'query': '(immigration OR immigrants OR migration OR migrants OR \"border control\" OR emigration OR naturalize OR naturalization OR citizenship OR non-citizens OR borders) lang:en bounding_box:[-1.7881980809717355 52.43560173455088 -1.4600882363990841 52.687156328887]', 'max_results': 500, 'start_time': '2020-03-01T00:00:00Z', 'end_time': '2021-03-01T00:00:00Z', 'next_token': 'b26v89c19zqg8o3foshtslxkb447n5kbwbviwemzldlrx'}\n",
            "Rate limit hit... Will retry...\n",
            "Will retry in 4 seconds...\n",
            " HTTP Error code: 429: {\"title\":\"Too Many Requests\",\"type\":\"about:blank\",\"status\":429,\"detail\":\"Too Many Requests\"} | Too Many Requests\n",
            " Request payload: {'query': '(immigration OR immigrants OR migration OR migrants OR \"border control\" OR emigration OR naturalize OR naturalization OR citizenship OR non-citizens OR borders) lang:en bounding_box:[-1.7881980809717355 52.43560173455088 -1.4600882363990841 52.687156328887]', 'max_results': 500, 'start_time': '2020-03-01T00:00:00Z', 'end_time': '2021-03-01T00:00:00Z', 'next_token': 'b26v89c19zqg8o3fosbvi27ac4yv9n5ubxyk38hp546f1'}\n",
            "Rate limit hit... Will retry...\n",
            "Will retry in 4 seconds...\n",
            " HTTP Error code: 429: {\"title\":\"Too Many Requests\",\"type\":\"about:blank\",\"status\":429,\"detail\":\"Too Many Requests\"} | Too Many Requests\n",
            " Request payload: {'query': '(immigration OR immigrants OR migration OR migrants OR \"border control\" OR emigration OR naturalize OR naturalization OR citizenship OR non-citizens OR borders) lang:en bounding_box:[-1.7881980809717355 52.43560173455088 -1.4600882363990841 52.687156328887]', 'max_results': 500, 'start_time': '2020-03-01T00:00:00Z', 'end_time': '2021-03-01T00:00:00Z', 'next_token': 'b26v89c19zqg8o3fo7mg0nkky5zavhd79yun0jw8o0cxp'}\n",
            "Rate limit hit... Will retry...\n",
            "Will retry in 4 seconds...\n",
            " HTTP Error code: 429: {\"title\":\"Too Many Requests\",\"type\":\"about:blank\",\"status\":429,\"detail\":\"Too Many Requests\"} | Too Many Requests\n",
            " Request payload: {'query': '(immigration OR immigrants OR migration OR migrants OR \"border control\" OR emigration OR naturalize OR naturalization OR citizenship OR non-citizens OR borders) lang:en bounding_box:[-1.7881980809717355 52.43560173455088 -1.4600882363990841 52.687156328887]', 'max_results': 500, 'start_time': '2020-03-01T00:00:00Z', 'end_time': '2021-03-01T00:00:00Z', 'next_token': 'b26v89c19zqg8o3fo7mec9o0sak8n8ey1ei4c0pwjv69p'}\n",
            "Rate limit hit... Will retry...\n",
            "Will retry in 4 seconds...\n",
            " HTTP Error code: 429: {\"title\":\"Too Many Requests\",\"type\":\"about:blank\",\"status\":429,\"detail\":\"Too Many Requests\"} | Too Many Requests\n",
            " Request payload: {'query': '(immigration OR immigrants OR migration OR migrants OR \"border control\" OR emigration OR naturalize OR naturalization OR citizenship OR non-citizens OR borders) lang:en bounding_box:[-1.5558210339427259 52.44987433564796 -1.402812203680666 52.55216131017707]', 'max_results': 500, 'start_time': '2020-03-01T00:00:00Z', 'end_time': '2021-03-01T00:00:00Z', 'next_token': 'b26v89c19zqg8o3fo7adjujo45y82hluvk5wihnvvv5a5'}\n",
            "Rate limit hit... Will retry...\n",
            "Will retry in 4 seconds...\n",
            " HTTP Error code: 429: {\"title\":\"Too Many Requests\",\"type\":\"about:blank\",\"status\":429,\"detail\":\"Too Many Requests\"} | Too Many Requests\n",
            " Request payload: {'query': '(immigration OR immigrants OR migration OR migrants OR \"border control\" OR emigration OR naturalize OR naturalization OR citizenship OR non-citizens OR borders) lang:en bounding_box:[-1.464997610632091 52.25243668713829 -1.172071614729325 52.53432055880572]', 'max_results': 500, 'start_time': '2020-03-01T00:00:00Z', 'end_time': '2021-03-01T00:00:00Z', 'next_token': 'b26v89c19zqg8o3foshsyjaz4oaei930djcskj4allwu5'}\n",
            "Rate limit hit... Will retry...\n",
            "Will retry in 4 seconds...\n",
            " HTTP Error code: 400: {\"errors\":[{\"parameters\":{\"query\":[\"(immigration OR immigrants OR migration OR migrants OR \\\"border control\\\" OR emigration OR naturalize OR naturalization OR citizenship OR non-citizens OR borders) lang:en bounding_box:[-1.9616626372046584 51.9556855226614 -1.2318023345642466 52.367806879339724]\"]},\"message\":\"There were errors processing your request: Height of bounding_box must be less than 25 miles (at position 170), Width of bounding_box must be less than 25 miles (at position 170)\"}],\"title\":\"Invalid Request\",\"detail\":\"One or more parameters to your request was invalid.\",\"type\":\"https://api.twitter.com/2/problems/invalid-request\"} | Bad Request\n",
            " Request payload: {'query': '(immigration OR immigrants OR migration OR migrants OR \"border control\" OR emigration OR naturalize OR naturalization OR citizenship OR non-citizens OR borders) lang:en bounding_box:[-1.9616626372046584 51.9556855226614 -1.2318023345642466 52.367806879339724]', 'max_results': 500, 'start_time': '2020-03-01T00:00:00Z', 'end_time': '2021-03-01T00:00:00Z'}\n",
            "Quitting... \n"
          ],
          "name": "stderr"
        },
        {
          "output_type": "stream",
          "text": [
            "An error happened while retrieving Stratford-on-Avon data\n"
          ],
          "name": "stdout"
        },
        {
          "output_type": "stream",
          "text": [
            " HTTP Error code: 429: {\"title\":\"Too Many Requests\",\"type\":\"about:blank\",\"status\":429,\"detail\":\"Too Many Requests\"} | Too Many Requests\n",
            " Request payload: {'query': '(immigration OR immigrants OR migration OR migrants OR \"border control\" OR emigration OR naturalize OR naturalization OR citizenship OR non-citizens OR borders) lang:en bounding_box:[-1.7800157905833904 52.213781725833684 -1.4060851198360043 52.38921578098535]', 'max_results': 500, 'start_time': '2020-03-01T00:00:00Z', 'end_time': '2021-03-01T00:00:00Z'}\n",
            "Rate limit hit... Will retry...\n",
            "Will retry in 4 seconds...\n",
            " HTTP Error code: 429: {\"title\":\"Too Many Requests\",\"type\":\"about:blank\",\"status\":429,\"detail\":\"Too Many Requests\"} | Too Many Requests\n",
            " Request payload: {'query': '(immigration OR immigrants OR migration OR migrants OR \"border control\" OR emigration OR naturalize OR naturalization OR citizenship OR non-citizens OR borders) lang:en bounding_box:[-1.7800157905833904 52.213781725833684 -1.4060851198360043 52.38921578098535]', 'max_results': 500, 'start_time': '2020-03-01T00:00:00Z', 'end_time': '2021-03-01T00:00:00Z', 'next_token': 'b26v89c19zqg8o3fos8sd7y6r7wgldmj9rbjmfos6h6rh'}\n",
            "Rate limit hit... Will retry...\n",
            "Will retry in 4 seconds...\n",
            " HTTP Error code: 429: {\"title\":\"Too Many Requests\",\"type\":\"about:blank\",\"status\":429,\"detail\":\"Too Many Requests\"} | Too Many Requests\n",
            " Request payload: {'query': '(immigration OR immigrants OR migration OR migrants OR \"border control\" OR emigration OR naturalize OR naturalization OR citizenship OR non-citizens OR borders) lang:en bounding_box:[-0.3718436147491433 50.817445585168876 -0.21556186833174618 50.87453598955722]', 'max_results': 500, 'start_time': '2020-03-01T00:00:00Z', 'end_time': '2021-03-01T00:00:00Z', 'next_token': 'b26v89c19zqg8o3fos5vyp0saxhuutpypdispx179doxp'}\n",
            "Rate limit hit... Will retry...\n",
            "Will retry in 4 seconds...\n",
            " HTTP Error code: 429: {\"title\":\"Too Many Requests\",\"type\":\"about:blank\",\"status\":429,\"detail\":\"Too Many Requests\"} | Too Many Requests\n",
            " Request payload: {'query': '(immigration OR immigrants OR migration OR migrants OR \"border control\" OR emigration OR naturalize OR naturalization OR citizenship OR non-citizens OR borders) lang:en bounding_box:[-0.764593553389723 50.757976413931026 -0.36366132436079823 50.90605465031328]', 'max_results': 500, 'start_time': '2020-03-01T00:00:00Z', 'end_time': '2021-03-01T00:00:00Z', 'next_token': 'b26v89c19zqg8o3fo7gf7en691i3ukxorsf2800i0q931'}\n",
            "Rate limit hit... Will retry...\n",
            "Will retry in 4 seconds...\n",
            " HTTP Error code: 429: {\"title\":\"Too Many Requests\",\"type\":\"about:blank\",\"status\":429,\"detail\":\"Too Many Requests\"} | Too Many Requests\n",
            " Request payload: {'query': '(immigration OR immigrants OR migration OR migrants OR \"border control\" OR emigration OR naturalize OR naturalization OR citizenship OR non-citizens OR borders) lang:en bounding_box:[-0.764593553389723 50.757976413931026 -0.36366132436079823 50.90605465031328]', 'max_results': 500, 'start_time': '2020-03-01T00:00:00Z', 'end_time': '2021-03-01T00:00:00Z', 'next_token': 'b26v89c19zqg8o3fo77h5m9lhkbqymo5zn8o89yggvn99'}\n",
            "Rate limit hit... Will retry...\n",
            "Will retry in 4 seconds...\n",
            " HTTP Error code: 400: {\"errors\":[{\"parameters\":{\"query\":[\"(immigration OR immigrants OR migration OR migrants OR \\\"border control\\\" OR emigration OR naturalize OR naturalization OR citizenship OR non-citizens OR borders) lang:en bounding_box:[-0.9576956065546751 50.722294911188314 -0.47330401556462665 51.09457192313727]\"]},\"message\":\"There were errors processing your request: Height of bounding_box must be less than 25 miles (at position 170)\"}],\"title\":\"Invalid Request\",\"detail\":\"One or more parameters to your request was invalid.\",\"type\":\"https://api.twitter.com/2/problems/invalid-request\"} | Bad Request\n",
            " Request payload: {'query': '(immigration OR immigrants OR migration OR migrants OR \"border control\" OR emigration OR naturalize OR naturalization OR citizenship OR non-citizens OR borders) lang:en bounding_box:[-0.9576956065546751 50.722294911188314 -0.47330401556462665 51.09457192313727]', 'max_results': 500, 'start_time': '2020-03-01T00:00:00Z', 'end_time': '2021-03-01T00:00:00Z'}\n",
            "Quitting... \n"
          ],
          "name": "stderr"
        },
        {
          "output_type": "stream",
          "text": [
            "An error happened while retrieving Chichester data\n"
          ],
          "name": "stdout"
        },
        {
          "output_type": "stream",
          "text": [
            " HTTP Error code: 429: {\"title\":\"Too Many Requests\",\"type\":\"about:blank\",\"status\":429,\"detail\":\"Too Many Requests\"} | Too Many Requests\n",
            " Request payload: {'query': '(immigration OR immigrants OR migration OR migrants OR \"border control\" OR emigration OR naturalize OR naturalization OR citizenship OR non-citizens OR borders) lang:en bounding_box:[-0.2556550912346385 51.08505685573922 -0.13292073540945726 51.167124312047456]', 'max_results': 500, 'start_time': '2020-03-01T00:00:00Z', 'end_time': '2021-03-01T00:00:00Z'}\n",
            "Rate limit hit... Will retry...\n",
            "Will retry in 4 seconds...\n",
            " HTTP Error code: 429: {\"title\":\"Too Many Requests\",\"type\":\"about:blank\",\"status\":429,\"detail\":\"Too Many Requests\"} | Too Many Requests\n",
            " Request payload: {'query': '(immigration OR immigrants OR migration OR migrants OR \"border control\" OR emigration OR naturalize OR naturalization OR citizenship OR non-citizens OR borders) lang:en bounding_box:[-0.24910925892396207 50.86799438072105 0.04463496601763861 51.14274195183994]', 'max_results': 500, 'start_time': '2020-03-01T00:00:00Z', 'end_time': '2021-03-01T00:00:00Z', 'next_token': 'b26v89c19zqg8o3fo7mec37qq8qy2jqww9pkt34r3496l'}\n",
            "Rate limit hit... Will retry...\n",
            "Will retry in 4 seconds...\n",
            " HTTP Error code: 429: {\"title\":\"Too Many Requests\",\"type\":\"about:blank\",\"status\":429,\"detail\":\"Too Many Requests\"} | Too Many Requests\n",
            " Request payload: {'query': '(immigration OR immigrants OR migration OR migrants OR \"border control\" OR emigration OR naturalize OR naturalization OR citizenship OR non-citizens OR borders) lang:en bounding_box:[-0.24910925892396207 50.86799438072105 0.04463496601763861 51.14274195183994]', 'max_results': 500, 'start_time': '2020-03-01T00:00:00Z', 'end_time': '2021-03-01T00:00:00Z', 'next_token': 'b26v89c19zqg8o3fo7jezex7oxbiv41hxnfpoy8z2rfct'}\n",
            "Rate limit hit... Will retry...\n",
            "Will retry in 4 seconds...\n",
            " HTTP Error code: 429: {\"title\":\"Too Many Requests\",\"type\":\"about:blank\",\"status\":429,\"detail\":\"Too Many Requests\"} | Too Many Requests\n",
            " Request payload: {'query': '(immigration OR immigrants OR migration OR migrants OR \"border control\" OR emigration OR naturalize OR naturalization OR citizenship OR non-citizens OR borders) lang:en bounding_box:[-0.44630245728308626 50.80317298407179 -0.3325686208850849 50.86323684702202]', 'max_results': 500, 'start_time': '2020-03-01T00:00:00Z', 'end_time': '2021-03-01T00:00:00Z'}\n",
            "Rate limit hit... Will retry...\n",
            "Will retry in 4 seconds...\n",
            " HTTP Error code: 400: {\"errors\":[{\"parameters\":{\"query\":[\"(immigration OR immigrants OR migration OR migrants OR \\\"border control\\\" OR emigration OR naturalize OR naturalization OR citizenship OR non-citizens OR borders) lang:en bounding_box:[-2.6628849234858607 51.96638997348421 -2.149037087097769 52.368401571052104]\"]},\"message\":\"There were errors processing your request: Height of bounding_box must be less than 25 miles (at position 170)\"}],\"title\":\"Invalid Request\",\"detail\":\"One or more parameters to your request was invalid.\",\"type\":\"https://api.twitter.com/2/problems/invalid-request\"} | Bad Request\n",
            " Request payload: {'query': '(immigration OR immigrants OR migration OR migrants OR \"border control\" OR emigration OR naturalize OR naturalization OR citizenship OR non-citizens OR borders) lang:en bounding_box:[-2.6628849234858607 51.96638997348421 -2.149037087097769 52.368401571052104]', 'max_results': 500, 'start_time': '2020-03-01T00:00:00Z', 'end_time': '2021-03-01T00:00:00Z'}\n",
            "Quitting... \n"
          ],
          "name": "stderr"
        },
        {
          "output_type": "stream",
          "text": [
            "An error happened while retrieving Malvern Hills data\n"
          ],
          "name": "stdout"
        },
        {
          "output_type": "stream",
          "text": [
            " HTTP Error code: 429: {\"title\":\"Too Many Requests\",\"type\":\"about:blank\",\"status\":429,\"detail\":\"Too Many Requests\"} | Too Many Requests\n",
            " Request payload: {'query': '(immigration OR immigrants OR migration OR migrants OR \"border control\" OR emigration OR naturalize OR naturalization OR citizenship OR non-citizens OR borders) lang:en bounding_box:[-2.263589152534604 52.16144885514437 -2.157219377486114 52.23162247720504]', 'max_results': 500, 'start_time': '2020-03-01T00:00:00Z', 'end_time': '2021-03-01T00:00:00Z'}\n",
            "Rate limit hit... Will retry...\n",
            "Will retry in 4 seconds...\n",
            " HTTP Error code: 429: {\"title\":\"Too Many Requests\",\"type\":\"about:blank\",\"status\":429,\"detail\":\"Too Many Requests\"} | Too Many Requests\n",
            " Request payload: {'query': '(immigration OR immigrants OR migration OR migrants OR \"border control\" OR emigration OR naturalize OR naturalization OR citizenship OR non-citizens OR borders) lang:en bounding_box:[-2.275862588117122 51.99969270937741 -1.757105377496023 52.361265270503566]', 'max_results': 500, 'start_time': '2020-03-01T00:00:00Z', 'end_time': '2021-03-01T00:00:00Z', 'next_token': 'b26v89c19zqg8o3foskrgygug2udkkjzhbvp3l8xl76nx'}\n",
            "Rate limit hit... Will retry...\n",
            "Will retry in 4 seconds...\n",
            " HTTP Error code: 429: {\"title\":\"Too Many Requests\",\"type\":\"about:blank\",\"status\":429,\"detail\":\"Too Many Requests\"} | Too Many Requests\n",
            " Request payload: {'query': '(immigration OR immigrants OR migration OR migrants OR \"border control\" OR emigration OR naturalize OR naturalization OR citizenship OR non-citizens OR borders) lang:en bounding_box:[-2.275862588117122 51.99969270937741 -1.757105377496023 52.361265270503566]', 'max_results': 500, 'start_time': '2020-03-01T00:00:00Z', 'end_time': '2021-03-01T00:00:00Z', 'next_token': 'b26v89c19zqg8o3foseufxpqc40fnpivpgkzzuvdux4zh'}\n",
            "Rate limit hit... Will retry...\n",
            "Will retry in 4 seconds...\n",
            " HTTP Error code: 429: {\"title\":\"Too Many Requests\",\"type\":\"about:blank\",\"status\":429,\"detail\":\"Too Many Requests\"} | Too Many Requests\n",
            " Request payload: {'query': '(immigration OR immigrants OR migration OR migrants OR \"border control\" OR emigration OR naturalize OR naturalization OR citizenship OR non-citizens OR borders) lang:en bounding_box:[-2.275862588117122 51.99969270937741 -1.757105377496023 52.361265270503566]', 'max_results': 500, 'start_time': '2020-03-01T00:00:00Z', 'end_time': '2021-03-01T00:00:00Z', 'next_token': 'b26v89c19zqg8o3fo7mdx3zzapw5b2eptpo9zpmgozfr1'}\n",
            "Rate limit hit... Will retry...\n",
            "Will retry in 4 seconds...\n",
            " HTTP Error code: 429: {\"title\":\"Too Many Requests\",\"type\":\"about:blank\",\"status\":429,\"detail\":\"Too Many Requests\"} | Too Many Requests\n",
            " Request payload: {'query': '(immigration OR immigrants OR migration OR migrants OR \"border control\" OR emigration OR naturalize OR naturalization OR citizenship OR non-citizens OR borders) lang:en bounding_box:[-0.44057485401124463 51.68747956037868 -0.2417451975744509 51.84983039785802]', 'max_results': 500, 'start_time': '2020-03-01T00:00:00Z', 'end_time': '2021-03-01T00:00:00Z', 'next_token': 'b26v89c19zqg8o3fo7ged3eomh07k0d92amhwnktxxit9'}\n",
            "Rate limit hit... Will retry...\n",
            "Will retry in 4 seconds...\n",
            " HTTP Error code: 429: {\"title\":\"Too Many Requests\",\"type\":\"about:blank\",\"status\":429,\"detail\":\"Too Many Requests\"} | Too Many Requests\n",
            " Request payload: {'query': '(immigration OR immigrants OR migration OR migrants OR \"border control\" OR emigration OR naturalize OR naturalization OR citizenship OR non-citizens OR borders) lang:en bounding_box:[-0.2777472752831711 51.685695485241546 -0.09200928346773019 51.860534848680835]', 'max_results': 500, 'start_time': '2020-03-01T00:00:00Z', 'end_time': '2021-03-01T00:00:00Z', 'next_token': 'b26v89c19zqg8o3fosbttm5zxuumaovqt6w88q72falj1'}\n",
            "Rate limit hit... Will retry...\n",
            "Will retry in 4 seconds...\n",
            " HTTP Error code: 429: {\"title\":\"Too Many Requests\",\"type\":\"about:blank\",\"status\":429,\"detail\":\"Too Many Requests\"} | Too Many Requests\n",
            " Request payload: {'query': '(immigration OR immigrants OR migration OR migrants OR \"border control\" OR emigration OR naturalize OR naturalization OR citizenship OR non-citizens OR borders) lang:en bounding_box:[-0.2777472752831711 51.685695485241546 -0.09200928346773019 51.860534848680835]', 'max_results': 500, 'start_time': '2020-03-01T00:00:00Z', 'end_time': '2021-03-01T00:00:00Z', 'next_token': 'b26v89c19zqg8o3fo7jdb59t5rjfzxweqru43rymvm4ql'}\n",
            "Rate limit hit... Will retry...\n",
            "Will retry in 4 seconds...\n",
            " HTTP Error code: 429: Rate limit exceeded\n",
            " | Too Many Requests\n",
            " Request payload: {'query': '(immigration OR immigrants OR migration OR migrants OR \"border control\" OR emigration OR naturalize OR naturalization OR citizenship OR non-citizens OR borders) lang:en bounding_box:[-0.18365093581719893 51.73446020565658 0.1951891091631941 51.997313942527896]', 'max_results': 500, 'start_time': '2020-03-01T00:00:00Z', 'end_time': '2021-03-01T00:00:00Z', 'next_token': 'b26v89c19zqg8o3fosnsx6b2xnsiy2ey97n5fs6x7shvh'}\n",
            "Rate limit hit... Will retry...\n",
            "Will retry in 4 seconds...\n",
            " HTTP Error code: 429: Rate limit exceeded\n",
            " | Too Many Requests\n",
            " Request payload: {'query': '(immigration OR immigrants OR migration OR migrants OR \"border control\" OR emigration OR naturalize OR naturalization OR citizenship OR non-citizens OR borders) lang:en bounding_box:[-0.18365093581719893 51.73446020565658 0.1951891091631941 51.997313942527896]', 'max_results': 500, 'start_time': '2020-03-01T00:00:00Z', 'end_time': '2021-03-01T00:00:00Z', 'next_token': 'b26v89c19zqg8o3fosnsx6b2xnsiy2ey97n5fs6x7shvh'}\n",
            "Rate limit hit... Will retry...\n",
            "Will retry in 16 seconds...\n",
            " HTTP Error code: 429: Rate limit exceeded\n",
            " | Too Many Requests\n",
            " Request payload: {'query': '(immigration OR immigrants OR migration OR migrants OR \"border control\" OR emigration OR naturalize OR naturalization OR citizenship OR non-citizens OR borders) lang:en bounding_box:[-0.18365093581719893 51.73446020565658 0.1951891091631941 51.997313942527896]', 'max_results': 500, 'start_time': '2020-03-01T00:00:00Z', 'end_time': '2021-03-01T00:00:00Z', 'next_token': 'b26v89c19zqg8o3fosnsx6b2xnsiy2ey97n5fs6x7shvh'}\n",
            "Rate limit hit... Will retry...\n",
            "Will retry in 36 seconds...\n",
            " HTTP Error code: 429: Rate limit exceeded\n",
            " | Too Many Requests\n",
            " Request payload: {'query': '(immigration OR immigrants OR migration OR migrants OR \"border control\" OR emigration OR naturalize OR naturalization OR citizenship OR non-citizens OR borders) lang:en bounding_box:[-0.18365093581719893 51.73446020565658 0.1951891091631941 51.997313942527896]', 'max_results': 500, 'start_time': '2020-03-01T00:00:00Z', 'end_time': '2021-03-01T00:00:00Z', 'next_token': 'b26v89c19zqg8o3fosnsx6b2xnsiy2ey97n5fs6x7shvh'}\n",
            "Rate limit hit... Will retry...\n",
            "Will retry in 64 seconds...\n",
            " HTTP Error code: 429: Rate limit exceeded\n",
            " | Too Many Requests\n",
            " Request payload: {'query': '(immigration OR immigrants OR migration OR migrants OR \"border control\" OR emigration OR naturalize OR naturalization OR citizenship OR non-citizens OR borders) lang:en bounding_box:[-0.18365093581719893 51.73446020565658 0.1951891091631941 51.997313942527896]', 'max_results': 500, 'start_time': '2020-03-01T00:00:00Z', 'end_time': '2021-03-01T00:00:00Z', 'next_token': 'b26v89c19zqg8o3fosnsx6b2xnsiy2ey97n5fs6x7shvh'}\n",
            "Rate limit hit... Will retry...\n",
            "Will retry in 100 seconds...\n",
            " HTTP Error code: 429: Rate limit exceeded\n",
            " | Too Many Requests\n",
            " Request payload: {'query': '(immigration OR immigrants OR migration OR migrants OR \"border control\" OR emigration OR naturalize OR naturalization OR citizenship OR non-citizens OR borders) lang:en bounding_box:[-0.18365093581719893 51.73446020565658 0.1951891091631941 51.997313942527896]', 'max_results': 500, 'start_time': '2020-03-01T00:00:00Z', 'end_time': '2021-03-01T00:00:00Z', 'next_token': 'b26v89c19zqg8o3fosnsx6b2xnsiy2ey97n5fs6x7shvh'}\n",
            "Rate limit hit... Will retry...\n",
            "Will retry in 144 seconds...\n",
            " HTTP Error code: 429: Rate limit exceeded\n",
            " | Too Many Requests\n",
            " Request payload: {'query': '(immigration OR immigrants OR migration OR migrants OR \"border control\" OR emigration OR naturalize OR naturalization OR citizenship OR non-citizens OR borders) lang:en bounding_box:[-0.18365093581719893 51.73446020565658 0.1951891091631941 51.997313942527896]', 'max_results': 500, 'start_time': '2020-03-01T00:00:00Z', 'end_time': '2021-03-01T00:00:00Z', 'next_token': 'b26v89c19zqg8o3fosnsx6b2xnsiy2ey97n5fs6x7shvh'}\n",
            "Rate limit hit... Will retry...\n",
            "Will retry in 196 seconds...\n",
            " HTTP Error code: 429: {\"title\":\"Too Many Requests\",\"type\":\"about:blank\",\"status\":429,\"detail\":\"Too Many Requests\"} | Too Many Requests\n",
            " Request payload: {'query': '(immigration OR immigrants OR migration OR migrants OR \"border control\" OR emigration OR naturalize OR naturalization OR citizenship OR non-citizens OR borders) lang:en bounding_box:[-0.18365093581719893 51.73446020565658 0.1951891091631941 51.997313942527896]', 'max_results': 500, 'start_time': '2020-03-01T00:00:00Z', 'end_time': '2021-03-01T00:00:00Z', 'next_token': 'b26v89c19zqg8o3fosktkqjra35sfj2976i7th9hosoe5'}\n",
            "Rate limit hit... Will retry...\n",
            "Will retry in 4 seconds...\n",
            " HTTP Error code: 429: {\"title\":\"Too Many Requests\",\"type\":\"about:blank\",\"status\":429,\"detail\":\"Too Many Requests\"} | Too Many Requests\n",
            " Request payload: {'query': '(immigration OR immigrants OR migration OR migrants OR \"border control\" OR emigration OR naturalize OR naturalization OR citizenship OR non-citizens OR borders) lang:en bounding_box:[-0.2343811362249406 51.86945522436651 -0.14683062906964395 51.93249254587864]', 'max_results': 500, 'start_time': '2020-03-01T00:00:00Z', 'end_time': '2021-03-01T00:00:00Z', 'next_token': 'b26v89c19zqg8o3fo7md31aelna370ox3y9c8yy234scd'}\n",
            "Rate limit hit... Will retry...\n",
            "Will retry in 4 seconds...\n",
            " HTTP Error code: 429: {\"title\":\"Too Many Requests\",\"type\":\"about:blank\",\"status\":429,\"detail\":\"Too Many Requests\"} | Too Many Requests\n",
            " Request payload: {'query': '(immigration OR immigrants OR migration OR migrants OR \"border control\" OR emigration OR naturalize OR naturalization OR citizenship OR non-citizens OR borders) lang:en bounding_box:[-2.62851930385481 53.52269818477885 -2.337229766029713 53.6457993692412]', 'max_results': 500, 'start_time': '2020-03-01T00:00:00Z', 'end_time': '2021-03-01T00:00:00Z', 'next_token': 'b26v89c19zqg8o3foskrvte9aogtf6p1lyq7hkkdqh9j1'}\n",
            "Rate limit hit... Will retry...\n",
            "Will retry in 4 seconds...\n",
            " HTTP Error code: 429: {\"title\":\"Too Many Requests\",\"type\":\"about:blank\",\"status\":429,\"detail\":\"Too Many Requests\"} | Too Many Requests\n",
            " Request payload: {'query': '(immigration OR immigrants OR migration OR migrants OR \"border control\" OR emigration OR naturalize OR naturalization OR citizenship OR non-citizens OR borders) lang:en bounding_box:[-2.62851930385481 53.52269818477885 -2.337229766029713 53.6457993692412]', 'max_results': 500, 'start_time': '2020-03-01T00:00:00Z', 'end_time': '2021-03-01T00:00:00Z', 'next_token': 'b26v89c19zqg8o3fosbv37a6j1lo3p7e91ehax2qn56yl'}\n",
            "Rate limit hit... Will retry...\n",
            "Will retry in 4 seconds...\n",
            " HTTP Error code: 429: {\"title\":\"Too Many Requests\",\"type\":\"about:blank\",\"status\":429,\"detail\":\"Too Many Requests\"} | Too Many Requests\n",
            " Request payload: {'query': '(immigration OR immigrants OR migration OR migrants OR \"border control\" OR emigration OR naturalize OR naturalization OR citizenship OR non-citizens OR borders) lang:en bounding_box:[-2.62851930385481 53.52269818477885 -2.337229766029713 53.6457993692412]', 'max_results': 500, 'start_time': '2020-03-01T00:00:00Z', 'end_time': '2021-03-01T00:00:00Z', 'next_token': 'b26v89c19zqg8o3fos8tmt0v3lpm2q1wog5gi1iecy6bh'}\n",
            "Rate limit hit... Will retry...\n",
            "Will retry in 4 seconds...\n",
            " HTTP Error code: 429: {\"title\":\"Too Many Requests\",\"type\":\"about:blank\",\"status\":429,\"detail\":\"Too Many Requests\"} | Too Many Requests\n",
            " Request payload: {'query': '(immigration OR immigrants OR migration OR migrants OR \"border control\" OR emigration OR naturalize OR naturalization OR citizenship OR non-citizens OR borders) lang:en bounding_box:[-2.62851930385481 53.52269818477885 -2.337229766029713 53.6457993692412]', 'max_results': 500, 'start_time': '2020-03-01T00:00:00Z', 'end_time': '2021-03-01T00:00:00Z', 'next_token': 'b26v89c19zqg8o3fos5vyc9bs7fi87y1iyf5y3ks9zzwd'}\n",
            "Rate limit hit... Will retry...\n",
            "Will retry in 4 seconds...\n",
            " HTTP Error code: 429: {\"title\":\"Too Many Requests\",\"type\":\"about:blank\",\"status\":429,\"detail\":\"Too Many Requests\"} | Too Many Requests\n",
            " Request payload: {'query': '(immigration OR immigrants OR migration OR migrants OR \"border control\" OR emigration OR naturalize OR naturalization OR citizenship OR non-citizens OR borders) lang:en bounding_box:[-2.62851930385481 53.52269818477885 -2.337229766029713 53.6457993692412]', 'max_results': 500, 'start_time': '2020-03-01T00:00:00Z', 'end_time': '2021-03-01T00:00:00Z', 'next_token': 'b26v89c19zqg8o3fo7je55w5m6cy8uqcacc5pq3qszgxp'}\n",
            "Rate limit hit... Will retry...\n",
            "Will retry in 4 seconds...\n",
            " HTTP Error code: 429: {\"title\":\"Too Many Requests\",\"type\":\"about:blank\",\"status\":429,\"detail\":\"Too Many Requests\"} | Too Many Requests\n",
            " Request payload: {'query': '(immigration OR immigrants OR migration OR migrants OR \"border control\" OR emigration OR naturalize OR naturalization OR citizenship OR non-citizens OR borders) lang:en bounding_box:[-2.62851930385481 53.52269818477885 -2.337229766029713 53.6457993692412]', 'max_results': 500, 'start_time': '2020-03-01T00:00:00Z', 'end_time': '2021-03-01T00:00:00Z', 'next_token': 'b26v89c19zqg8o3fo7dfv0z2pm2i4m4b62bietan404fx'}\n",
            "Rate limit hit... Will retry...\n",
            "Will retry in 4 seconds...\n",
            " HTTP Error code: 429: {\"title\":\"Too Many Requests\",\"type\":\"about:blank\",\"status\":429,\"detail\":\"Too Many Requests\"} | Too Many Requests\n",
            " Request payload: {'query': '(immigration OR immigrants OR migration OR migrants OR \"border control\" OR emigration OR naturalize OR naturalization OR citizenship OR non-citizens OR borders) lang:en bounding_box:[-2.383050592204447 53.51199373395603 -2.234132907136561 53.66720827088683]', 'max_results': 500, 'start_time': '2020-03-01T00:00:00Z', 'end_time': '2021-03-01T00:00:00Z', 'next_token': 'b26v89c19zqg8o3foshsiwlq7dllas4737qkm6erosq65'}\n",
            "Rate limit hit... Will retry...\n",
            "Will retry in 4 seconds...\n",
            " HTTP Error code: 429: {\"title\":\"Too Many Requests\",\"type\":\"about:blank\",\"status\":429,\"detail\":\"Too Many Requests\"} | Too Many Requests\n",
            " Request payload: {'query': '(immigration OR immigrants OR migration OR migrants OR \"border control\" OR emigration OR naturalize OR naturalization OR citizenship OR non-citizens OR borders) lang:en bounding_box:[-2.383050592204447 53.51199373395603 -2.234132907136561 53.66720827088683]', 'max_results': 500, 'start_time': '2020-03-01T00:00:00Z', 'end_time': '2021-03-01T00:00:00Z', 'next_token': 'b26v89c19zqg8o3fo7ggh3zaoi4ezeanst1ojorjcgku5'}\n",
            "Rate limit hit... Will retry...\n",
            "Will retry in 4 seconds...\n",
            " HTTP Error code: 429: {\"title\":\"Too Many Requests\",\"type\":\"about:blank\",\"status\":429,\"detail\":\"Too Many Requests\"} | Too Many Requests\n",
            " Request payload: {'query': '(immigration OR immigrants OR migration OR migrants OR \"border control\" OR emigration OR naturalize OR naturalization OR citizenship OR non-citizens OR borders) lang:en bounding_box:[-2.185857393845323 53.49117952402278 -1.909295978719248 53.624390467595575]', 'max_results': 500, 'start_time': '2020-03-01T00:00:00Z', 'end_time': '2021-03-01T00:00:00Z', 'next_token': 'b26v89c19zqg8o3fos5tfn5h8h6vsx9uxq9u020vyojul'}\n",
            "Rate limit hit... Will retry...\n",
            "Will retry in 4 seconds...\n",
            " HTTP Error code: 429: {\"title\":\"Too Many Requests\",\"type\":\"about:blank\",\"status\":429,\"detail\":\"Too Many Requests\"} | Too Many Requests\n",
            " Request payload: {'query': '(immigration OR immigrants OR migration OR migrants OR \"border control\" OR emigration OR naturalize OR naturalization OR citizenship OR non-citizens OR borders) lang:en bounding_box:[-2.2824084204277986 53.52923979361501 -2.0271209603114215 53.68564371397056]', 'max_results': 500, 'start_time': '2020-03-01T00:00:00Z', 'end_time': '2021-03-01T00:00:00Z', 'next_token': 'b26v89c19zqg8o3fos8uvx3j92ss9wwpf8gc3x2p57ybh'}\n",
            "Rate limit hit... Will retry...\n",
            "Will retry in 4 seconds...\n",
            " HTTP Error code: 429: {\"title\":\"Too Many Requests\",\"type\":\"about:blank\",\"status\":429,\"detail\":\"Too Many Requests\"} | Too Many Requests\n",
            " Request payload: {'query': '(immigration OR immigrants OR migration OR migrants OR \"border control\" OR emigration OR naturalize OR naturalization OR citizenship OR non-citizens OR borders) lang:en bounding_box:[-2.489420367252938 53.41565367655071 -2.2447698846414097 53.54232301128734]', 'max_results': 500, 'start_time': '2020-03-01T00:00:00Z', 'end_time': '2021-03-01T00:00:00Z'}\n",
            "Rate limit hit... Will retry...\n",
            "Will retry in 4 seconds...\n",
            " HTTP Error code: 429: {\"title\":\"Too Many Requests\",\"type\":\"about:blank\",\"status\":429,\"detail\":\"Too Many Requests\"} | Too Many Requests\n",
            " Request payload: {'query': '(immigration OR immigrants OR migration OR migrants OR \"border control\" OR emigration OR naturalize OR naturalization OR citizenship OR non-citizens OR borders) lang:en bounding_box:[-2.489420367252938 53.41565367655071 -2.2447698846414097 53.54232301128734]', 'max_results': 500, 'start_time': '2020-03-01T00:00:00Z', 'end_time': '2021-03-01T00:00:00Z', 'next_token': 'b26v89c19zqg8o3fo77e7j1sr90ozhr9dt5154s8a5ny5'}\n",
            "Rate limit hit... Will retry...\n",
            "Will retry in 4 seconds...\n",
            " HTTP Error code: 429: {\"title\":\"Too Many Requests\",\"type\":\"about:blank\",\"status\":429,\"detail\":\"Too Many Requests\"} | Too Many Requests\n",
            " Request payload: {'query': '(immigration OR immigrants OR migration OR migrants OR \"border control\" OR emigration OR naturalize OR naturalization OR citizenship OR non-citizens OR borders) lang:en bounding_box:[-2.9222635287964107 53.3466694379148 -2.7430713692916457 53.503668049982736]', 'max_results': 500, 'start_time': '2020-03-01T00:00:00Z', 'end_time': '2021-03-01T00:00:00Z', 'next_token': 'b26v89c19zqg8o3fos5wdhx227cpijedvt54e4rbmndrx'}\n",
            "Rate limit hit... Will retry...\n",
            "Will retry in 4 seconds...\n",
            " HTTP Error code: 429: {\"title\":\"Too Many Requests\",\"type\":\"about:blank\",\"status\":429,\"detail\":\"Too Many Requests\"} | Too Many Requests\n",
            " Request payload: {'query': '(immigration OR immigrants OR migration OR migrants OR \"border control\" OR emigration OR naturalize OR naturalization OR citizenship OR non-citizens OR borders) lang:en bounding_box:[-2.9222635287964107 53.3466694379148 -2.7430713692916457 53.503668049982736]', 'max_results': 500, 'start_time': '2020-03-01T00:00:00Z', 'end_time': '2021-03-01T00:00:00Z', 'next_token': 'b26v89c19zqg8o3fos5t0q0xr198zn8j71jz48a222v0d'}\n",
            "Rate limit hit... Will retry...\n",
            "Will retry in 4 seconds...\n",
            " HTTP Error code: 429: {\"title\":\"Too Many Requests\",\"type\":\"about:blank\",\"status\":429,\"detail\":\"Too Many Requests\"} | Too Many Requests\n",
            " Request payload: {'query': '(immigration OR immigrants OR migration OR migrants OR \"border control\" OR emigration OR naturalize OR naturalization OR citizenship OR non-citizens OR borders) lang:en bounding_box:[-3.105546833495348 53.43825196162109 -2.8813520768546836 53.698726931642895]', 'max_results': 500, 'start_time': '2020-03-01T00:00:00Z', 'end_time': '2021-03-01T00:00:00Z', 'next_token': 'b26v89c19zqg8o3fo7df0nmrlmqd5s648hy3ewhc1860t'}\n",
            "Rate limit hit... Will retry...\n",
            "Will retry in 4 seconds...\n",
            " HTTP Error code: 429: {\"title\":\"Too Many Requests\",\"type\":\"about:blank\",\"status\":429,\"detail\":\"Too Many Requests\"} | Too Many Requests\n",
            " Request payload: {'query': '(immigration OR immigrants OR migration OR migrants OR \"border control\" OR emigration OR naturalize OR naturalization OR citizenship OR non-citizens OR borders) lang:en bounding_box:[-3.2290994183593638 53.296120642362624 -2.928809361107087 53.443009495320126]', 'max_results': 500, 'start_time': '2020-03-01T00:00:00Z', 'end_time': '2021-03-01T00:00:00Z', 'next_token': 'b26v89c19zqg8o3foshtso2a7dmg8sjyup842pypm470d'}\n",
            "Rate limit hit... Will retry...\n",
            "Will retry in 4 seconds...\n",
            " HTTP Error code: 429: {\"title\":\"Too Many Requests\",\"type\":\"about:blank\",\"status\":429,\"detail\":\"Too Many Requests\"} | Too Many Requests\n",
            " Request payload: {'query': '(immigration OR immigrants OR migration OR migrants OR \"border control\" OR emigration OR naturalize OR naturalization OR citizenship OR non-citizens OR borders) lang:en bounding_box:[-3.2290994183593638 53.296120642362624 -2.928809361107087 53.443009495320126]', 'max_results': 500, 'start_time': '2020-03-01T00:00:00Z', 'end_time': '2021-03-01T00:00:00Z', 'next_token': 'b26v89c19zqg8o3fo7gfn3fcmmblsv2p4kk8ccl1v11fh'}\n",
            "Rate limit hit... Will retry...\n",
            "Will retry in 4 seconds...\n",
            " HTTP Error code: 429: {\"title\":\"Too Many Requests\",\"type\":\"about:blank\",\"status\":429,\"detail\":\"Too Many Requests\"} | Too Many Requests\n",
            " Request payload: {'query': '(immigration OR immigrants OR migration OR migrants OR \"border control\" OR emigration OR naturalize OR naturalization OR citizenship OR non-citizens OR borders) lang:en bounding_box:[-3.2290994183593638 53.296120642362624 -2.928809361107087 53.443009495320126]', 'max_results': 500, 'start_time': '2020-03-01T00:00:00Z', 'end_time': '2021-03-01T00:00:00Z', 'next_token': 'b26v89c19zqg8o3fo77gbd7xnwz7bt52dl5moes4u0qd9'}\n",
            "Rate limit hit... Will retry...\n",
            "Will retry in 4 seconds...\n",
            " HTTP Error code: 429: {\"title\":\"Too Many Requests\",\"type\":\"about:blank\",\"status\":429,\"detail\":\"Too Many Requests\"} | Too Many Requests\n",
            " Request payload: {'query': '(immigration OR immigrants OR migration OR migrants OR \"border control\" OR emigration OR naturalize OR naturalization OR citizenship OR non-citizens OR borders) lang:en bounding_box:[-1.8225637006027862 53.43825196162109 -1.2759867026613119 53.61309132506038]', 'max_results': 500, 'start_time': '2020-03-01T00:00:00Z', 'end_time': '2021-03-01T00:00:00Z', 'next_token': 'b26v89c19zqg8o3foset6n7zjgw5akesin041rmn8ty0t'}\n",
            "Rate limit hit... Will retry...\n",
            "Will retry in 4 seconds...\n",
            " HTTP Error code: 429: {\"title\":\"Too Many Requests\",\"type\":\"about:blank\",\"status\":429,\"detail\":\"Too Many Requests\"} | Too Many Requests\n",
            " Request payload: {'query': '(immigration OR immigrants OR migration OR migrants OR \"border control\" OR emigration OR naturalize OR naturalization OR citizenship OR non-citizens OR borders) lang:en bounding_box:[-1.8225637006027862 53.43825196162109 -1.2759867026613119 53.61309132506038]', 'max_results': 500, 'start_time': '2020-03-01T00:00:00Z', 'end_time': '2021-03-01T00:00:00Z', 'next_token': 'b26v89c19zqg8o3fosbvx9z5iq8fcz2c3bsia7sm3rou5'}\n",
            "Rate limit hit... Will retry...\n",
            "Will retry in 4 seconds...\n",
            " HTTP Error code: 429: {\"title\":\"Too Many Requests\",\"type\":\"about:blank\",\"status\":429,\"detail\":\"Too Many Requests\"} | Too Many Requests\n",
            " Request payload: {'query': '(immigration OR immigrants OR migration OR migrants OR \"border control\" OR emigration OR naturalize OR naturalization OR citizenship OR non-citizens OR borders) lang:en bounding_box:[-1.8225637006027862 53.43825196162109 -1.2759867026613119 53.61309132506038]', 'max_results': 500, 'start_time': '2020-03-01T00:00:00Z', 'end_time': '2021-03-01T00:00:00Z', 'next_token': 'b26v89c19zqg8o3fos8u1o0z6mfcfr82vx00w7pnluuf1'}\n",
            "Rate limit hit... Will retry...\n",
            "Will retry in 4 seconds...\n",
            " HTTP Error code: 429: {\"title\":\"Too Many Requests\",\"type\":\"about:blank\",\"status\":429,\"detail\":\"Too Many Requests\"} | Too Many Requests\n",
            " Request payload: {'query': '(immigration OR immigrants OR migration OR migrants OR \"border control\" OR emigration OR naturalize OR naturalization OR citizenship OR non-citizens OR borders) lang:en bounding_box:[-1.8225637006027862 53.43825196162109 -1.2759867026613119 53.61309132506038]', 'max_results': 500, 'start_time': '2020-03-01T00:00:00Z', 'end_time': '2021-03-01T00:00:00Z', 'next_token': 'b26v89c19zqg8o3fos5vyr63v0v1ad3z4q8af7ambglml'}\n",
            "Rate limit hit... Will retry...\n",
            "Will retry in 4 seconds...\n",
            " HTTP Error code: 429: {\"title\":\"Too Many Requests\",\"type\":\"about:blank\",\"status\":429,\"detail\":\"Too Many Requests\"} | Too Many Requests\n",
            " Request payload: {'query': '(immigration OR immigrants OR migration OR migrants OR \"border control\" OR emigration OR naturalize OR naturalization OR citizenship OR non-citizens OR borders) lang:en bounding_box:[-1.8225637006027862 53.43825196162109 -1.2759867026613119 53.61309132506038]', 'max_results': 500, 'start_time': '2020-03-01T00:00:00Z', 'end_time': '2021-03-01T00:00:00Z', 'next_token': 'b26v89c19zqg8o3fo7mdx8b8ezqinwi0ong0f4m8j83ul'}\n",
            "Rate limit hit... Will retry...\n",
            "Will retry in 4 seconds...\n",
            " HTTP Error code: 429: {\"title\":\"Too Many Requests\",\"type\":\"about:blank\",\"status\":429,\"detail\":\"Too Many Requests\"} | Too Many Requests\n",
            " Request payload: {'query': '(immigration OR immigrants OR migration OR migrants OR \"border control\" OR emigration OR naturalize OR naturalization OR citizenship OR non-citizens OR borders) lang:en bounding_box:[-1.3488090871175862 53.406138609152656 -0.8652357251663725 53.661261353763045]', 'max_results': 500, 'start_time': '2020-03-01T00:00:00Z', 'end_time': '2021-03-01T00:00:00Z', 'next_token': 'b26v89c19zqg8o3foskt53v3w3iwq04jdrnb4p93m0vi5'}\n",
            "Rate limit hit... Will retry...\n",
            "Will retry in 4 seconds...\n",
            " HTTP Error code: 429: {\"title\":\"Too Many Requests\",\"type\":\"about:blank\",\"status\":429,\"detail\":\"Too Many Requests\"} | Too Many Requests\n",
            " Request payload: {'query': '(immigration OR immigrants OR migration OR migrants OR \"border control\" OR emigration OR naturalize OR naturalization OR citizenship OR non-citizens OR borders) lang:en bounding_box:[-1.456815320243746 53.30147286777403 -1.114795582010907 53.51496719251793]', 'max_results': 500, 'start_time': '2020-03-01T00:00:00Z', 'end_time': '2021-03-01T00:00:00Z', 'next_token': 'b26v89c19zqg8o3fosksbbtgom42bhwnpbshdnwnmnp19'}\n",
            "Rate limit hit... Will retry...\n",
            "Will retry in 4 seconds...\n",
            " HTTP Error code: 429: {\"title\":\"Too Many Requests\",\"type\":\"about:blank\",\"status\":429,\"detail\":\"Too Many Requests\"} | Too Many Requests\n",
            " Request payload: {'query': '(immigration OR immigrants OR migration OR migrants OR \"border control\" OR emigration OR naturalize OR naturalization OR citizenship OR non-citizens OR borders) lang:en bounding_box:[-1.456815320243746 53.30147286777403 -1.114795582010907 53.51496719251793]', 'max_results': 500, 'start_time': '2020-03-01T00:00:00Z', 'end_time': '2021-03-01T00:00:00Z', 'next_token': 'b26v89c19zqg8o3fos8uvuzeq3cxddna67vvq2yknmwsd'}\n",
            "Rate limit hit... Will retry...\n",
            "Will retry in 4 seconds...\n",
            " HTTP Error code: 429: {\"title\":\"Too Many Requests\",\"type\":\"about:blank\",\"status\":429,\"detail\":\"Too Many Requests\"} | Too Many Requests\n",
            " Request payload: {'query': '(immigration OR immigrants OR migration OR migrants OR \"border control\" OR emigration OR naturalize OR naturalization OR citizenship OR non-citizens OR borders) lang:en bounding_box:[-1.456815320243746 53.30147286777403 -1.114795582010907 53.51496719251793]', 'max_results': 500, 'start_time': '2020-03-01T00:00:00Z', 'end_time': '2021-03-01T00:00:00Z', 'next_token': 'b26v89c19zqg8o3fo7mcnemy7bardqn23q416o16zzjb1'}\n",
            "Rate limit hit... Will retry...\n",
            "Will retry in 4 seconds...\n",
            " HTTP Error code: 429: {\"title\":\"Too Many Requests\",\"type\":\"about:blank\",\"status\":429,\"detail\":\"Too Many Requests\"} | Too Many Requests\n",
            " Request payload: {'query': '(immigration OR immigrants OR migration OR migrants OR \"border control\" OR emigration OR naturalize OR naturalization OR citizenship OR non-citizens OR borders) lang:en bounding_box:[-1.7759246453892175 54.96006805359777 -1.530455933738855 55.07960108778586]', 'max_results': 500, 'start_time': '2020-03-01T00:00:00Z', 'end_time': '2021-03-01T00:00:00Z', 'next_token': 'b26v89c19zqg8o3fos5ua4q1khorh67mbx50912j57rlp'}\n",
            "Rate limit hit... Will retry...\n",
            "Will retry in 4 seconds...\n",
            " HTTP Error code: 429: {\"title\":\"Too Many Requests\",\"type\":\"about:blank\",\"status\":429,\"detail\":\"Too Many Requests\"} | Too Many Requests\n",
            " Request payload: {'query': '(immigration OR immigrants OR migration OR migrants OR \"border control\" OR emigration OR naturalize OR naturalization OR citizenship OR non-citizens OR borders) lang:en bounding_box:[-2.033666792622098 52.380890097012056 -1.728467361136814 52.60865702285303]', 'max_results': 500, 'start_time': '2020-03-01T00:00:00Z', 'end_time': '2021-03-01T00:00:00Z', 'next_token': 'b26v89c19zqg8o3foset6l4gf9a5atd40elpa51ac4519'}\n",
            "Rate limit hit... Will retry...\n",
            "Will retry in 4 seconds...\n",
            " HTTP Error code: 429: {\"title\":\"Too Many Requests\",\"type\":\"about:blank\",\"status\":429,\"detail\":\"Too Many Requests\"} | Too Many Requests\n",
            " Request payload: {'query': '(immigration OR immigrants OR migration OR migrants OR \"border control\" OR emigration OR naturalize OR naturalization OR citizenship OR non-citizens OR borders) lang:en bounding_box:[-2.033666792622098 52.380890097012056 -1.728467361136814 52.60865702285303]', 'max_results': 500, 'start_time': '2020-03-01T00:00:00Z', 'end_time': '2021-03-01T00:00:00Z', 'next_token': 'b26v89c19zqg8o3fos8sdghzpu2wsb253o6qpbz7977ul'}\n",
            "Rate limit hit... Will retry...\n",
            "Will retry in 4 seconds...\n",
            " HTTP Error code: 429: {\"title\":\"Too Many Requests\",\"type\":\"about:blank\",\"status\":429,\"detail\":\"Too Many Requests\"} | Too Many Requests\n",
            " Request payload: {'query': '(immigration OR immigrants OR migration OR migrants OR \"border control\" OR emigration OR naturalize OR naturalization OR citizenship OR non-citizens OR borders) lang:en bounding_box:[-2.1915849971171646 52.42608666715282 -2.0115746085735653 52.558108227300856]', 'max_results': 500, 'start_time': '2020-03-01T00:00:00Z', 'end_time': '2021-03-01T00:00:00Z', 'next_token': 'b26v89c19zqg8o3fos8vb6z8356m1sphtstdjkzxd6mil'}\n",
            "Rate limit hit... Will retry...\n",
            "Will retry in 4 seconds...\n",
            " HTTP Error code: 429: {\"title\":\"Too Many Requests\",\"type\":\"about:blank\",\"status\":429,\"detail\":\"Too Many Requests\"} | Too Many Requests\n",
            " Request payload: {'query': '(immigration OR immigrants OR migration OR migrants OR \"border control\" OR emigration OR naturalize OR naturalization OR citizenship OR non-citizens OR borders) lang:en bounding_box:[-2.077851160719163 52.54740377647804 -1.872475671971693 52.66277396867948]', 'max_results': 500, 'start_time': '2020-03-01T00:00:00Z', 'end_time': '2021-03-01T00:00:00Z'}\n",
            "Rate limit hit... Will retry...\n",
            "Will retry in 4 seconds...\n",
            " HTTP Error code: 429: {\"title\":\"Too Many Requests\",\"type\":\"about:blank\",\"status\":429,\"detail\":\"Too Many Requests\"} | Too Many Requests\n",
            " Request payload: {'query': '(immigration OR immigrants OR migration OR migrants OR \"border control\" OR emigration OR naturalize OR naturalization OR citizenship OR non-citizens OR borders) lang:en bounding_box:[-2.061486579942472 53.72429867527517 -1.6400986249426834 53.96336474365134]', 'max_results': 500, 'start_time': '2020-03-01T00:00:00Z', 'end_time': '2021-03-01T00:00:00Z', 'next_token': 'b26v89c19zqg8o3foset68b790n0kdfs3xi9vl7uv6q2l'}\n",
            "Rate limit hit... Will retry...\n",
            "Will retry in 4 seconds...\n",
            " HTTP Error code: 429: {\"title\":\"Too Many Requests\",\"type\":\"about:blank\",\"status\":429,\"detail\":\"Too Many Requests\"} | Too Many Requests\n",
            " Request payload: {'query': '(immigration OR immigrants OR migration OR migrants OR \"border control\" OR emigration OR naturalize OR naturalization OR citizenship OR non-citizens OR borders) lang:en bounding_box:[-2.009119921457062 53.51972472621696 -1.571367385680582 53.76473771171691]', 'max_results': 500, 'start_time': '2020-03-01T00:00:00Z', 'end_time': '2021-03-01T00:00:00Z', 'next_token': 'b26v89c19zqg8o3fo7adzjbjepgm7aq0bq4i8jmxkfzb1'}\n",
            "Rate limit hit... Will retry...\n",
            "Will retry in 4 seconds...\n",
            " HTTP Error code: 429: {\"title\":\"Too Many Requests\",\"type\":\"about:blank\",\"status\":429,\"detail\":\"Too Many Requests\"} | Too Many Requests\n",
            " Request payload: {'query': '(immigration OR immigrants OR migration OR migrants OR \"border control\" OR emigration OR naturalize OR naturalization OR citizenship OR non-citizens OR borders) lang:en bounding_box:[-1.6245522732048272 53.57562574718054 -1.1990731730108655 53.74154473493415]', 'max_results': 500, 'start_time': '2020-03-01T00:00:00Z', 'end_time': '2021-03-01T00:00:00Z', 'next_token': 'b26v89c19zqg8o3fos5tfekrm086p4s12qqsfocx64z25'}\n",
            "Rate limit hit... Will retry...\n",
            "Will retry in 4 seconds...\n",
            " HTTP Error code: 429: {\"title\":\"Too Many Requests\",\"type\":\"about:blank\",\"status\":429,\"detail\":\"Too Many Requests\"} | Too Many Requests\n",
            " Request payload: {'query': '(immigration OR immigrants OR migration OR migrants OR \"border control\" OR emigration OR naturalize OR naturalization OR citizenship OR non-citizens OR borders) lang:en bounding_box:[-1.6245522732048272 53.57562574718054 -1.1990731730108655 53.74154473493415]', 'max_results': 500, 'start_time': '2020-03-01T00:00:00Z', 'end_time': '2021-03-01T00:00:00Z', 'next_token': 'b26v89c19zqg8o3fo7gcopjwzjfvjzavmdxap6q5ez725'}\n",
            "Rate limit hit... Will retry...\n",
            "Will retry in 4 seconds...\n",
            " HTTP Error code: 429: {\"title\":\"Too Many Requests\",\"type\":\"about:blank\",\"status\":429,\"detail\":\"Too Many Requests\"} | Too Many Requests\n",
            " Request payload: {'query': '(immigration OR immigrants OR migration OR migrants OR \"border control\" OR emigration OR naturalize OR naturalization OR citizenship OR non-citizens OR borders) lang:en bounding_box:[-1.6245522732048272 53.57562574718054 -1.1990731730108655 53.74154473493415]', 'max_results': 500, 'start_time': '2020-03-01T00:00:00Z', 'end_time': '2021-03-01T00:00:00Z', 'next_token': 'b26v89c19zqg8o3fo7de6cekpyjtt056g4lkr77oo6em5'}\n",
            "Rate limit hit... Will retry...\n",
            "Will retry in 4 seconds...\n",
            " HTTP Error code: 429: {\"title\":\"Too Many Requests\",\"type\":\"about:blank\",\"status\":429,\"detail\":\"Too Many Requests\"} | Too Many Requests\n",
            " Request payload: {'query': '(immigration OR immigrants OR migration OR migrants OR \"border control\" OR emigration OR naturalize OR naturalization OR citizenship OR non-citizens OR borders) lang:en bounding_box:[0.06672715006617125 51.51204550522701 0.19027973493018724 51.59946518694665]', 'max_results': 500, 'start_time': '2020-03-01T00:00:00Z', 'end_time': '2021-03-01T00:00:00Z', 'next_token': 'b26v89c19zqg8o3fos8t7j62f9mdwtksehqt3u6yy79ml'}\n",
            "Rate limit hit... Will retry...\n",
            "Will retry in 4 seconds...\n",
            " HTTP Error code: 429: {\"title\":\"Too Many Requests\",\"type\":\"about:blank\",\"status\":429,\"detail\":\"Too Many Requests\"} | Too Many Requests\n",
            " Request payload: {'query': '(immigration OR immigrants OR migration OR migrants OR \"border control\" OR emigration OR naturalize OR naturalization OR citizenship OR non-citizens OR borders) lang:en bounding_box:[0.06672715006617125 51.51204550522701 0.19027973493018724 51.59946518694665]', 'max_results': 500, 'start_time': '2020-03-01T00:00:00Z', 'end_time': '2021-03-01T00:00:00Z', 'next_token': 'b26v89c19zqg8o3fo7mf6ccekqzhnjtgjspjdiqihm9a5'}\n",
            "Rate limit hit... Will retry...\n",
            "Will retry in 4 seconds...\n",
            " HTTP Error code: 429: {\"title\":\"Too Many Requests\",\"type\":\"about:blank\",\"status\":429,\"detail\":\"Too Many Requests\"} | Too Many Requests\n",
            " Request payload: {'query': '(immigration OR immigrants OR migration OR migrants OR \"border control\" OR emigration OR naturalize OR naturalization OR citizenship OR non-citizens OR borders) lang:en bounding_box:[-0.3055670626035454 51.555458000230644 -0.12882959021528428 51.670233500719704]', 'max_results': 500, 'start_time': '2020-03-01T00:00:00Z', 'end_time': '2021-03-01T00:00:00Z', 'next_token': 'b26v89c19zqg8o3fosbvi8mdd0xvzkengyz452stp9chp'}\n",
            "Rate limit hit... Will retry...\n",
            "Will retry in 4 seconds...\n",
            " HTTP Error code: 429: {\"title\":\"Too Many Requests\",\"type\":\"about:blank\",\"status\":429,\"detail\":\"Too Many Requests\"} | Too Many Requests\n",
            " Request payload: {'query': '(immigration OR immigrants OR migration OR migrants OR \"border control\" OR emigration OR naturalize OR naturalization OR citizenship OR non-citizens OR borders) lang:en bounding_box:[-0.3055670626035454 51.555458000230644 -0.12882959021528428 51.670233500719704]', 'max_results': 500, 'start_time': '2020-03-01T00:00:00Z', 'end_time': '2021-03-01T00:00:00Z', 'next_token': 'b26v89c19zqg8o3fosbszf79m0opt1pj8mrqybx7x5v25'}\n",
            "Rate limit hit... Will retry...\n",
            "Will retry in 4 seconds...\n",
            " HTTP Error code: 429: {\"title\":\"Too Many Requests\",\"type\":\"about:blank\",\"status\":429,\"detail\":\"Too Many Requests\"} | Too Many Requests\n",
            " Request payload: {'query': '(immigration OR immigrants OR migration OR migrants OR \"border control\" OR emigration OR naturalize OR naturalization OR citizenship OR non-citizens OR borders) lang:en bounding_box:[0.07490944045451631 51.40856914727314 0.21728129321172673 51.513234888651766]', 'max_results': 500, 'start_time': '2020-03-01T00:00:00Z', 'end_time': '2021-03-01T00:00:00Z', 'next_token': 'b26v89c19zqg8o3fo7jezrp9vib5tewts4s0s8j2u40ot'}\n",
            "Rate limit hit... Will retry...\n",
            "Will retry in 4 seconds...\n",
            " HTTP Error code: 429: {\"title\":\"Too Many Requests\",\"type\":\"about:blank\",\"status\":429,\"detail\":\"Too Many Requests\"} | Too Many Requests\n",
            " Request payload: {'query': '(immigration OR immigrants OR migration OR migrants OR \"border control\" OR emigration OR naturalize OR naturalization OR citizenship OR non-citizens OR borders) lang:en bounding_box:[0.07490944045451631 51.40856914727314 0.21728129321172673 51.513234888651766]', 'max_results': 500, 'start_time': '2020-03-01T00:00:00Z', 'end_time': '2021-03-01T00:00:00Z', 'next_token': 'b26v89c19zqg8o3fo7gf7rg4mtx87qxn551xvykfsseil'}\n",
            "Rate limit hit... Will retry...\n",
            "Will retry in 4 seconds...\n",
            " HTTP Error code: 429: Rate limit exceeded\n",
            " | Too Many Requests\n",
            " Request payload: {'query': '(immigration OR immigrants OR migration OR migrants OR \"border control\" OR emigration OR naturalize OR naturalization OR citizenship OR non-citizens OR borders) lang:en bounding_box:[0.07490944045451631 51.40856914727314 0.21728129321172673 51.513234888651766]', 'max_results': 500, 'start_time': '2020-03-01T00:00:00Z', 'end_time': '2021-03-01T00:00:00Z', 'next_token': 'b26v89c19zqg8o3fo7adz2amyz2imjes960mo5o4iga65'}\n",
            "Rate limit hit... Will retry...\n",
            "Will retry in 4 seconds...\n",
            " HTTP Error code: 429: Rate limit exceeded\n",
            " | Too Many Requests\n",
            " Request payload: {'query': '(immigration OR immigrants OR migration OR migrants OR \"border control\" OR emigration OR naturalize OR naturalization OR citizenship OR non-citizens OR borders) lang:en bounding_box:[0.07490944045451631 51.40856914727314 0.21728129321172673 51.513234888651766]', 'max_results': 500, 'start_time': '2020-03-01T00:00:00Z', 'end_time': '2021-03-01T00:00:00Z', 'next_token': 'b26v89c19zqg8o3fo7adz2amyz2imjes960mo5o4iga65'}\n",
            "Rate limit hit... Will retry...\n",
            "Will retry in 16 seconds...\n",
            " HTTP Error code: 429: Rate limit exceeded\n",
            " | Too Many Requests\n",
            " Request payload: {'query': '(immigration OR immigrants OR migration OR migrants OR \"border control\" OR emigration OR naturalize OR naturalization OR citizenship OR non-citizens OR borders) lang:en bounding_box:[0.07490944045451631 51.40856914727314 0.21728129321172673 51.513234888651766]', 'max_results': 500, 'start_time': '2020-03-01T00:00:00Z', 'end_time': '2021-03-01T00:00:00Z', 'next_token': 'b26v89c19zqg8o3fo7adz2amyz2imjes960mo5o4iga65'}\n",
            "Rate limit hit... Will retry...\n",
            "Will retry in 36 seconds...\n"
          ],
          "name": "stderr"
        },
        {
          "output_type": "stream",
          "text": [
            "An error happened while retrieving Bexley data\n"
          ],
          "name": "stdout"
        },
        {
          "output_type": "stream",
          "text": [
            " HTTP Error code: 429: Rate limit exceeded\n",
            " | Too Many Requests\n",
            " Request payload: {'query': '(immigration OR immigrants OR migration OR migrants OR \"border control\" OR emigration OR naturalize OR naturalization OR citizenship OR non-citizens OR borders) lang:en bounding_box:[-0.3358415370404231 51.52750748974885 -0.191833226205544 51.60065457037141]', 'max_results': 500, 'start_time': '2020-03-01T00:00:00Z', 'end_time': '2021-03-01T00:00:00Z'}\n",
            "Rate limit hit... Will retry...\n",
            "Will retry in 4 seconds...\n",
            " HTTP Error code: 429: Rate limit exceeded\n",
            " | Too Many Requests\n",
            " Request payload: {'query': '(immigration OR immigrants OR migration OR migrants OR \"border control\" OR emigration OR naturalize OR naturalization OR citizenship OR non-citizens OR borders) lang:en bounding_box:[-0.3358415370404231 51.52750748974885 -0.191833226205544 51.60065457037141]', 'max_results': 500, 'start_time': '2020-03-01T00:00:00Z', 'end_time': '2021-03-01T00:00:00Z'}\n",
            "Rate limit hit... Will retry...\n",
            "Will retry in 16 seconds...\n",
            " HTTP Error code: 429: Rate limit exceeded\n",
            " | Too Many Requests\n",
            " Request payload: {'query': '(immigration OR immigrants OR migration OR migrants OR \"border control\" OR emigration OR naturalize OR naturalization OR citizenship OR non-citizens OR borders) lang:en bounding_box:[-0.3358415370404231 51.52750748974885 -0.191833226205544 51.60065457037141]', 'max_results': 500, 'start_time': '2020-03-01T00:00:00Z', 'end_time': '2021-03-01T00:00:00Z'}\n",
            "Rate limit hit... Will retry...\n",
            "Will retry in 36 seconds...\n",
            " HTTP Error code: 429: Rate limit exceeded\n",
            " | Too Many Requests\n",
            " Request payload: {'query': '(immigration OR immigrants OR migration OR migrants OR \"border control\" OR emigration OR naturalize OR naturalization OR citizenship OR non-citizens OR borders) lang:en bounding_box:[-0.3358415370404231 51.52750748974885 -0.191833226205544 51.60065457037141]', 'max_results': 500, 'start_time': '2020-03-01T00:00:00Z', 'end_time': '2021-03-01T00:00:00Z'}\n",
            "Rate limit hit... Will retry...\n",
            "Will retry in 64 seconds...\n",
            " HTTP Error code: 429: Rate limit exceeded\n",
            " | Too Many Requests\n",
            " Request payload: {'query': '(immigration OR immigrants OR migration OR migrants OR \"border control\" OR emigration OR naturalize OR naturalization OR citizenship OR non-citizens OR borders) lang:en bounding_box:[-0.3358415370404231 51.52750748974885 -0.191833226205544 51.60065457037141]', 'max_results': 500, 'start_time': '2020-03-01T00:00:00Z', 'end_time': '2021-03-01T00:00:00Z'}\n",
            "Rate limit hit... Will retry...\n",
            "Will retry in 100 seconds...\n",
            " HTTP Error code: 429: Rate limit exceeded\n",
            " | Too Many Requests\n",
            " Request payload: {'query': '(immigration OR immigrants OR migration OR migrants OR \"border control\" OR emigration OR naturalize OR naturalization OR citizenship OR non-citizens OR borders) lang:en bounding_box:[-0.3358415370404231 51.52750748974885 -0.191833226205544 51.60065457037141]', 'max_results': 500, 'start_time': '2020-03-01T00:00:00Z', 'end_time': '2021-03-01T00:00:00Z'}\n",
            "Rate limit hit... Will retry...\n",
            "Will retry in 144 seconds...\n",
            " HTTP Error code: 429: Rate limit exceeded\n",
            " | Too Many Requests\n",
            " Request payload: {'query': '(immigration OR immigrants OR migration OR migrants OR \"border control\" OR emigration OR naturalize OR naturalization OR citizenship OR non-citizens OR borders) lang:en bounding_box:[-0.3358415370404231 51.52750748974885 -0.191833226205544 51.60065457037141]', 'max_results': 500, 'start_time': '2020-03-01T00:00:00Z', 'end_time': '2021-03-01T00:00:00Z'}\n",
            "Rate limit hit... Will retry...\n",
            "Will retry in 196 seconds...\n",
            " HTTP Error code: 429: {\"title\":\"Too Many Requests\",\"type\":\"about:blank\",\"status\":429,\"detail\":\"Too Many Requests\"} | Too Many Requests\n",
            " Request payload: {'query': '(immigration OR immigrants OR migration OR migrants OR \"border control\" OR emigration OR naturalize OR naturalization OR citizenship OR non-citizens OR borders) lang:en bounding_box:[-0.3358415370404231 51.52750748974885 -0.191833226205544 51.60065457037141]', 'max_results': 500, 'start_time': '2020-03-01T00:00:00Z', 'end_time': '2021-03-01T00:00:00Z', 'next_token': 'b26v89c19zqg8o3foskueko1d07wmra8bq0chzw406v0d'}\n",
            "Rate limit hit... Will retry...\n",
            "Will retry in 4 seconds...\n",
            " HTTP Error code: 429: {\"title\":\"Too Many Requests\",\"type\":\"about:blank\",\"status\":429,\"detail\":\"Too Many Requests\"} | Too Many Requests\n",
            " Request payload: {'query': '(immigration OR immigrants OR migration OR migrants OR \"border control\" OR emigration OR naturalize OR naturalization OR citizenship OR non-citizens OR borders) lang:en bounding_box:[-0.3358415370404231 51.52750748974885 -0.191833226205544 51.60065457037141]', 'max_results': 500, 'start_time': '2020-03-01T00:00:00Z', 'end_time': '2021-03-01T00:00:00Z', 'next_token': 'b26v89c19zqg8o3foset6gupf8idkb6tzm0mcsgdof5a5'}\n",
            "Rate limit hit... Will retry...\n",
            "Will retry in 4 seconds...\n",
            " HTTP Error code: 429: {\"title\":\"Too Many Requests\",\"type\":\"about:blank\",\"status\":429,\"detail\":\"Too Many Requests\"} | Too Many Requests\n",
            " Request payload: {'query': '(immigration OR immigrants OR migration OR migrants OR \"border control\" OR emigration OR naturalize OR naturalization OR citizenship OR non-citizens OR borders) lang:en bounding_box:[-0.3358415370404231 51.52750748974885 -0.191833226205544 51.60065457037141]', 'max_results': 500, 'start_time': '2020-03-01T00:00:00Z', 'end_time': '2021-03-01T00:00:00Z', 'next_token': 'b26v89c19zqg8o3fosbv378okxsihg6w8wel3e3i3jsl9'}\n",
            "Rate limit hit... Will retry...\n",
            "Will retry in 4 seconds...\n",
            " HTTP Error code: 429: {\"title\":\"Too Many Requests\",\"type\":\"about:blank\",\"status\":429,\"detail\":\"Too Many Requests\"} | Too Many Requests\n",
            " Request payload: {'query': '(immigration OR immigrants OR migration OR migrants OR \"border control\" OR emigration OR naturalize OR naturalization OR citizenship OR non-citizens OR borders) lang:en bounding_box:[-0.3358415370404231 51.52750748974885 -0.191833226205544 51.60065457037141]', 'max_results': 500, 'start_time': '2020-03-01T00:00:00Z', 'end_time': '2021-03-01T00:00:00Z', 'next_token': 'b26v89c19zqg8o3fos8t7j62f9mdwtksict0gelbie3r1'}\n",
            "Rate limit hit... Will retry...\n",
            "Will retry in 4 seconds...\n",
            " HTTP Error code: 429: {\"title\":\"Too Many Requests\",\"type\":\"about:blank\",\"status\":429,\"detail\":\"Too Many Requests\"} | Too Many Requests\n",
            " Request payload: {'query': '(immigration OR immigrants OR migration OR migrants OR \"border control\" OR emigration OR naturalize OR naturalization OR citizenship OR non-citizens OR borders) lang:en bounding_box:[-0.3358415370404231 51.52750748974885 -0.191833226205544 51.60065457037141]', 'max_results': 500, 'start_time': '2020-03-01T00:00:00Z', 'end_time': '2021-03-01T00:00:00Z', 'next_token': 'b26v89c19zqg8o3fo7mdi2panzdgqrb43hr4nw0qdsmm5'}\n",
            "Rate limit hit... Will retry...\n",
            "Will retry in 4 seconds...\n",
            " HTTP Error code: 429: {\"title\":\"Too Many Requests\",\"type\":\"about:blank\",\"status\":429,\"detail\":\"Too Many Requests\"} | Too Many Requests\n",
            " Request payload: {'query': '(immigration OR immigrants OR migration OR migrants OR \"border control\" OR emigration OR naturalize OR naturalization OR citizenship OR non-citizens OR borders) lang:en bounding_box:[-0.08137230596288081 51.28963080479743 0.16245994760981297 51.44425065001585]', 'max_results': 500, 'start_time': '2020-03-01T00:00:00Z', 'end_time': '2021-03-01T00:00:00Z', 'next_token': 'b26v89c19zqg8o3foskspy89e6xgmmq99p7d8ds8qhvgd'}\n",
            "Rate limit hit... Will retry...\n",
            "Will retry in 4 seconds...\n",
            " HTTP Error code: 429: {\"title\":\"Too Many Requests\",\"type\":\"about:blank\",\"status\":429,\"detail\":\"Too Many Requests\"} | Too Many Requests\n",
            " Request payload: {'query': '(immigration OR immigrants OR migration OR migrants OR \"border control\" OR emigration OR naturalize OR naturalization OR citizenship OR non-citizens OR borders) lang:en bounding_box:[-0.08137230596288081 51.28963080479743 0.16245994760981297 51.44425065001585]', 'max_results': 500, 'start_time': '2020-03-01T00:00:00Z', 'end_time': '2021-03-01T00:00:00Z', 'next_token': 'b26v89c19zqg8o3foskrgpy8ln42kmbhmikjjimgcj0cd'}\n",
            "Rate limit hit... Will retry...\n",
            "Will retry in 4 seconds...\n",
            " HTTP Error code: 429: {\"title\":\"Too Many Requests\",\"type\":\"about:blank\",\"status\":429,\"detail\":\"Too Many Requests\"} | Too Many Requests\n",
            " Request payload: {'query': '(immigration OR immigrants OR migration OR migrants OR \"border control\" OR emigration OR naturalize OR naturalization OR citizenship OR non-citizens OR borders) lang:en bounding_box:[-0.08137230596288081 51.28963080479743 0.16245994760981297 51.44425065001585]', 'max_results': 500, 'start_time': '2020-03-01T00:00:00Z', 'end_time': '2021-03-01T00:00:00Z', 'next_token': 'b26v89c19zqg8o3foserwzzdib8tqzatwmxlantkyiv7h'}\n",
            "Rate limit hit... Will retry...\n",
            "Will retry in 4 seconds...\n",
            " HTTP Error code: 429: {\"title\":\"Too Many Requests\",\"type\":\"about:blank\",\"status\":429,\"detail\":\"Too Many Requests\"} | Too Many Requests\n",
            " Request payload: {'query': '(immigration OR immigrants OR migration OR migrants OR \"border control\" OR emigration OR naturalize OR naturalization OR citizenship OR non-citizens OR borders) lang:en bounding_box:[-0.08137230596288081 51.28963080479743 0.16245994760981297 51.44425065001585]', 'max_results': 500, 'start_time': '2020-03-01T00:00:00Z', 'end_time': '2021-03-01T00:00:00Z', 'next_token': 'b26v89c19zqg8o3fosbu8nihfpa18c1g9hxclna6i2d19'}\n",
            "Rate limit hit... Will retry...\n",
            "Will retry in 4 seconds...\n",
            " HTTP Error code: 429: {\"title\":\"Too Many Requests\",\"type\":\"about:blank\",\"status\":429,\"detail\":\"Too Many Requests\"} | Too Many Requests\n",
            " Request payload: {'query': '(immigration OR immigrants OR migration OR migrants OR \"border control\" OR emigration OR naturalize OR naturalization OR citizenship OR non-citizens OR borders) lang:en bounding_box:[-0.08137230596288081 51.28963080479743 0.16245994760981297 51.44425065001585]', 'max_results': 500, 'start_time': '2020-03-01T00:00:00Z', 'end_time': '2021-03-01T00:00:00Z', 'next_token': 'b26v89c19zqg8o3fos8ugvpu9dwe8xrhnc9iaw0gv7p19'}\n",
            "Rate limit hit... Will retry...\n",
            "Will retry in 4 seconds...\n",
            " HTTP Error code: 429: {\"title\":\"Too Many Requests\",\"type\":\"about:blank\",\"status\":429,\"detail\":\"Too Many Requests\"} | Too Many Requests\n",
            " Request payload: {'query': '(immigration OR immigrants OR migration OR migrants OR \"border control\" OR emigration OR naturalize OR naturalization OR citizenship OR non-citizens OR borders) lang:en bounding_box:[-0.21310718121524186 51.51264019693939 -0.10510094808908299 51.572704059889624]', 'max_results': 500, 'start_time': '2020-03-01T00:00:00Z', 'end_time': '2021-03-01T00:00:00Z', 'next_token': 'b26v89c19zqg8o3foskt5ejcanykzvwvq9dhiguik5y7x'}\n",
            "Rate limit hit... Will retry...\n",
            "Will retry in 4 seconds...\n",
            " HTTP Error code: 429: {\"title\":\"Too Many Requests\",\"type\":\"about:blank\",\"status\":429,\"detail\":\"Too Many Requests\"} | Too Many Requests\n",
            " Request payload: {'query': '(immigration OR immigrants OR migration OR migrants OR \"border control\" OR emigration OR naturalize OR naturalization OR citizenship OR non-citizens OR borders) lang:en bounding_box:[-0.1615587517686663 51.28665734623554 0.0029052850370767658 51.42343644008261]', 'max_results': 500, 'start_time': '2020-03-01T00:00:00Z', 'end_time': '2021-03-01T00:00:00Z', 'next_token': 'b26v89c19zqg8o3fos8uh48r2a7my387b7r9pcd8ltlz1'}\n",
            "Rate limit hit... Will retry...\n",
            "Will retry in 4 seconds...\n",
            " HTTP Error code: 429: {\"title\":\"Too Many Requests\",\"type\":\"about:blank\",\"status\":429,\"detail\":\"Too Many Requests\"} | Too Many Requests\n",
            " Request payload: {'query': '(immigration OR immigrants OR migration OR migrants OR \"border control\" OR emigration OR naturalize OR naturalization OR citizenship OR non-citizens OR borders) lang:en bounding_box:[-0.41930089900154677 51.49063660358138 -0.2450181137297891 51.55962084221729]', 'max_results': 500, 'start_time': '2020-03-01T00:00:00Z', 'end_time': '2021-03-01T00:00:00Z', 'next_token': 'b26v89c19zqg8o3foshvhetwqrukwqih0pukpmqrv38fx'}\n",
            "Rate limit hit... Will retry...\n",
            "Will retry in 4 seconds...\n",
            " HTTP Error code: 429: {\"title\":\"Too Many Requests\",\"type\":\"about:blank\",\"status\":429,\"detail\":\"Too Many Requests\"} | Too Many Requests\n",
            " Request payload: {'query': '(immigration OR immigrants OR migration OR migrants OR \"border control\" OR emigration OR naturalize OR naturalization OR citizenship OR non-citizens OR borders) lang:en bounding_box:[-0.41930089900154677 51.49063660358138 -0.2450181137297891 51.55962084221729]', 'max_results': 500, 'start_time': '2020-03-01T00:00:00Z', 'end_time': '2021-03-01T00:00:00Z', 'next_token': 'b26v89c19zqg8o3foshs3r1l5f2kajo32j4tp55la6vst'}\n",
            "Rate limit hit... Will retry...\n",
            "Will retry in 4 seconds...\n",
            " HTTP Error code: 429: {\"title\":\"Too Many Requests\",\"type\":\"about:blank\",\"status\":429,\"detail\":\"Too Many Requests\"} | Too Many Requests\n",
            " Request payload: {'query': '(immigration OR immigrants OR migration OR migrants OR \"border control\" OR emigration OR naturalize OR naturalization OR citizenship OR non-citizens OR borders) lang:en bounding_box:[-0.10428271905024822 51.51977649748793 -0.016732211894952442 51.578056285301024]', 'max_results': 500, 'start_time': '2020-03-01T00:00:00Z', 'end_time': '2021-03-01T00:00:00Z', 'next_token': 'b26v89c19zqg8o3fo7de6gq4jn5uqx18cf9b9g9n5qdml'}\n",
            "Rate limit hit... Will retry...\n",
            "Will retry in 4 seconds...\n",
            " HTTP Error code: 429: {\"title\":\"Too Many Requests\",\"type\":\"about:blank\",\"status\":429,\"detail\":\"Too Many Requests\"} | Too Many Requests\n",
            " Request payload: {'query': '(immigration OR immigrants OR migration OR migrants OR \"border control\" OR emigration OR naturalize OR naturalization OR citizenship OR non-citizens OR borders) lang:en bounding_box:[-0.2548368621958037 51.4650648599491 -0.17955979062302596 51.53285971516026]', 'max_results': 500, 'start_time': '2020-03-01T00:00:00Z', 'end_time': '2021-03-01T00:00:00Z', 'next_token': 'b26v89c19zqg8o3foskv9atlna4c66jqxeygwa0hwdmd9'}\n",
            "Rate limit hit... Will retry...\n",
            "Will retry in 4 seconds...\n",
            " HTTP Error code: 429: {\"title\":\"Too Many Requests\",\"type\":\"about:blank\",\"status\":429,\"detail\":\"Too Many Requests\"} | Too Many Requests\n",
            " Request payload: {'query': '(immigration OR immigrants OR migration OR migrants OR \"border control\" OR emigration OR naturalize OR naturalization OR citizenship OR non-citizens OR borders) lang:en bounding_box:[-0.2548368621958037 51.4650648599491 -0.17955979062302596 51.53285971516026]', 'max_results': 500, 'start_time': '2020-03-01T00:00:00Z', 'end_time': '2021-03-01T00:00:00Z', 'next_token': 'b26v89c19zqg8o3foseuftf2u6wbxb30qg1d5263k870d'}\n",
            "Rate limit hit... Will retry...\n",
            "Will retry in 4 seconds...\n",
            " HTTP Error code: 429: {\"title\":\"Too Many Requests\",\"type\":\"about:blank\",\"status\":429,\"detail\":\"Too Many Requests\"} | Too Many Requests\n",
            " Request payload: {'query': '(immigration OR immigrants OR migration OR migrants OR \"border control\" OR emigration OR naturalize OR naturalization OR citizenship OR non-citizens OR borders) lang:en bounding_box:[-0.2548368621958037 51.4650648599491 -0.17955979062302596 51.53285971516026]', 'max_results': 500, 'start_time': '2020-03-01T00:00:00Z', 'end_time': '2021-03-01T00:00:00Z', 'next_token': 'b26v89c19zqg8o3fo7merf9nzyuzy0rdu9v3z6iozpj7h'}\n",
            "Rate limit hit... Will retry...\n",
            "Will retry in 4 seconds...\n",
            " HTTP Error code: 429: {\"title\":\"Too Many Requests\",\"type\":\"about:blank\",\"status\":429,\"detail\":\"Too Many Requests\"} | Too Many Requests\n",
            " Request payload: {'query': '(immigration OR immigrants OR migration OR migrants OR \"border control\" OR emigration OR naturalize OR naturalization OR citizenship OR non-citizens OR borders) lang:en bounding_box:[0.13791307644477602 51.48766314501949 0.3342880457650663 51.631578539415095]', 'max_results': 500, 'start_time': '2020-03-01T00:00:00Z', 'end_time': '2021-03-01T00:00:00Z', 'next_token': 'b26v89c19zqg8o3fo7dga4hhfes9ieadakm27ut4gk1h9'}\n",
            "Rate limit hit... Will retry...\n",
            "Will retry in 4 seconds...\n",
            " HTTP Error code: 429: {\"title\":\"Too Many Requests\",\"type\":\"about:blank\",\"status\":429,\"detail\":\"Too Many Requests\"} | Too Many Requests\n",
            " Request payload: {'query': '(immigration OR immigrants OR migration OR migrants OR \"border control\" OR emigration OR naturalize OR naturalization OR citizenship OR non-citizens OR borders) lang:en bounding_box:[0.13791307644477602 51.48766314501949 0.3342880457650663 51.631578539415095]', 'max_results': 500, 'start_time': '2020-03-01T00:00:00Z', 'end_time': '2021-03-01T00:00:00Z', 'next_token': 'b26v89c19zqg8o3fo7dcx20qeh24swm0zqb8u2kwcww3h'}\n",
            "Rate limit hit... Will retry...\n",
            "Will retry in 4 seconds...\n",
            " HTTP Error code: 429: {\"title\":\"Too Many Requests\",\"type\":\"about:blank\",\"status\":429,\"detail\":\"Too Many Requests\"} | Too Many Requests\n",
            " Request payload: {'query': '(immigration OR immigrants OR migration OR migrants OR \"border control\" OR emigration OR naturalize OR naturalization OR citizenship OR non-citizens OR borders) lang:en bounding_box:[-0.4618488090209425 51.420462981520714 -0.24419988469095433 51.50312512954133]', 'max_results': 500, 'start_time': '2020-03-01T00:00:00Z', 'end_time': '2021-03-01T00:00:00Z', 'next_token': 'b26v89c19zqg8o3fo7gd41i8v462cvjz8odytsmgscmf1'}\n",
            "Rate limit hit... Will retry...\n",
            "Will retry in 4 seconds...\n",
            " HTTP Error code: 429: {\"title\":\"Too Many Requests\",\"type\":\"about:blank\",\"status\":429,\"detail\":\"Too Many Requests\"} | Too Many Requests\n",
            " Request payload: {'query': '(immigration OR immigrants OR migration OR migrants OR \"border control\" OR emigration OR naturalize OR naturalization OR citizenship OR non-citizens OR borders) lang:en bounding_box:[-0.2286535329530981 51.477553385909054 -0.15010354522498215 51.530480948310746]', 'max_results': 500, 'start_time': '2020-03-01T00:00:00Z', 'end_time': '2021-03-01T00:00:00Z', 'next_token': 'b26v89c19zqg8o3fo7adz29qh657cie4qgtep5vm35oql'}\n",
            "Rate limit hit... Will retry...\n",
            "Will retry in 4 seconds...\n"
          ],
          "name": "stderr"
        },
        {
          "output_type": "stream",
          "text": [
            "done\n"
          ],
          "name": "stdout"
        }
      ]
    }
  ]
}
